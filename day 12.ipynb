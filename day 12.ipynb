{
  "nbformat": 4,
  "nbformat_minor": 0,
  "metadata": {
    "colab": {
      "name": "day 12.ipynb",
      "provenance": []
    },
    "kernelspec": {
      "name": "python3",
      "display_name": "Python 3"
    }
  },
  "cells": [
    {
      "cell_type": "markdown",
      "metadata": {
        "id": "PuXoirpLM0v8",
        "colab_type": "text"
      },
      "source": [
        "few pointers reagrding the assignment:\n",
        "1. used the data provided on day 7 named general_data.csv\n",
        "2. I was unclear as to what exactly had to be done in the assignment , so I have performed a few of the parametric and non parametric tests according to my understanding namely Mann Whitney test, Kruskal Wallis Test, 2 sample seperate t test as it wasnt mentoined which ones needed to be done  \n",
        "3. the assignment is being done over the weekend (25th july) which is after the release of the solution as I have an internship commitment on weekdays and can work on this only during the weekend\n",
        " \n",
        "\n",
        "---\n",
        "\n",
        "\n",
        "*   for conducting the mann whitney test, I divided the original dataset based on gender -Male and Female \n",
        "*   for conducting kruskal walls test, I divided the original datset on business travel: frequent traveller, non traveller and rare traveller\n",
        "*   for conducting sepearte t test , i used the same data which I had prepared for mann whitney test\n",
        "\n",
        "\n",
        "\n",
        "\n",
        "\n",
        "\n",
        "\n",
        "\n"
      ]
    },
    {
      "cell_type": "code",
      "metadata": {
        "id": "wc4HH96nNvHa",
        "colab_type": "code",
        "colab": {}
      },
      "source": [
        "import numpy as np\n",
        "import pandas as pd"
      ],
      "execution_count": 1,
      "outputs": []
    },
    {
      "cell_type": "code",
      "metadata": {
        "id": "O9CtHk6YNyLL",
        "colab_type": "code",
        "colab": {}
      },
      "source": [
        "'''mann whitney test'''\n",
        "from scipy.stats import mannwhitneyu"
      ],
      "execution_count": 3,
      "outputs": []
    },
    {
      "cell_type": "code",
      "metadata": {
        "id": "ArA4B5veOaIJ",
        "colab_type": "code",
        "colab": {}
      },
      "source": [
        "dataset1=pd.read_csv('general_data1.csv')\n",
        "dataset2=pd.read_csv('general_data2.csv')"
      ],
      "execution_count": 7,
      "outputs": []
    },
    {
      "cell_type": "code",
      "metadata": {
        "id": "zSunvE66ed-p",
        "colab_type": "code",
        "colab": {
          "base_uri": "https://localhost:8080/",
          "height": 34
        },
        "outputId": "1e3291d2-317c-45f6-ae22-7e77d65c6627"
      },
      "source": [
        "a1=dataset1.MonthlyIncome\n",
        "a2=dataset2.MonthlyIncome\n",
        "stat,p=mannwhitneyu(a1,a2)\n",
        "print(stat,p)"
      ],
      "execution_count": 9,
      "outputs": [
        {
          "output_type": "stream",
          "text": [
            "9.0 0.2654346519842541\n"
          ],
          "name": "stdout"
        }
      ]
    },
    {
      "cell_type": "markdown",
      "metadata": {
        "id": "_qz8Cr1_vZNJ",
        "colab_type": "text"
      },
      "source": [
        "* H0: there is no significant differences in monthly income between male and female \n",
        "* Ha: there is significant differences in monthly income between male and female \n",
        "*since p value>0,05, H0 is accepted\n",
        "\n",
        "\n",
        "\n",
        "\n",
        "\n",
        "\n",
        "\n",
        "\n"
      ]
    },
    {
      "cell_type": "code",
      "metadata": {
        "id": "oYwR9DUrhfQO",
        "colab_type": "code",
        "colab": {
          "base_uri": "https://localhost:8080/",
          "height": 34
        },
        "outputId": "cd411937-8732-4b1b-e77d-98049df321fb"
      },
      "source": [
        "a1=dataset1.TotalWorkingYears\n",
        "a2=dataset2.TotalWorkingYears\n",
        "stat,p=mannwhitneyu(a1,a2)\n",
        "print(stat,p)"
      ],
      "execution_count": 10,
      "outputs": [
        {
          "output_type": "stream",
          "text": [
            "6.5 0.12457631929096341\n"
          ],
          "name": "stdout"
        }
      ]
    },
    {
      "cell_type": "markdown",
      "metadata": {
        "id": "ll55sXJxwEwJ",
        "colab_type": "text"
      },
      "source": [
        "* H0: there is no significant differences in TotalWorkingYear between male and female \n",
        "* Ha: there is significant differences in TotalWorkingYear between male and female \n",
        "* since p value>0,05, H0 is accepted"
      ]
    },
    {
      "cell_type": "code",
      "metadata": {
        "id": "IUiTbRtYq6hd",
        "colab_type": "code",
        "colab": {
          "base_uri": "https://localhost:8080/",
          "height": 34
        },
        "outputId": "9f06a1ea-abff-4b64-c712-be0e21c76cfe"
      },
      "source": [
        "a1=dataset1.YearsWithCurrManager\n",
        "a2=dataset2.YearsWithCurrManager\n",
        "stat,p=mannwhitneyu(a1,a2)\n",
        "print(stat,p)"
      ],
      "execution_count": 17,
      "outputs": [
        {
          "output_type": "stream",
          "text": [
            "6.0 0.10364992015687058\n"
          ],
          "name": "stdout"
        }
      ]
    },
    {
      "cell_type": "markdown",
      "metadata": {
        "id": "gPyGctBHw3eY",
        "colab_type": "text"
      },
      "source": [
        "* H0: there is no significant differences in YearsWithCurrManager between male and female\n",
        "* Ha: there is significant differences in YearsWithCurrManager between male and female\n",
        "* since p value>0,05, H0 is accepted"
      ]
    },
    {
      "cell_type": "code",
      "metadata": {
        "id": "C4xB_onRsTkU",
        "colab_type": "code",
        "colab": {}
      },
      "source": [
        "'''Kruskal watts test'''\n",
        "from scipy.stats import kruskal\n",
        "dataset1=pd.read_csv('general_data3.csv')\n",
        "dataset2=pd.read_csv('general_data4.csv')\n",
        "dataset3=pd.read_csv('general_data5.csv')\n"
      ],
      "execution_count": 19,
      "outputs": []
    },
    {
      "cell_type": "code",
      "metadata": {
        "id": "OA-2PcLos909",
        "colab_type": "code",
        "colab": {
          "base_uri": "https://localhost:8080/",
          "height": 34
        },
        "outputId": "6d1fa842-046f-4362-8890-6acaff97a576"
      },
      "source": [
        "b1=dataset1.JobRole\n",
        "b2=dataset2.JobRole\n",
        "b3=dataset3.JobRole\n",
        "stat,p=kruskal(b1,b2,b3)\n",
        "print(stat,p)"
      ],
      "execution_count": 20,
      "outputs": [
        {
          "output_type": "stream",
          "text": [
            "1.6397975077881684 0.44047624875339897\n"
          ],
          "name": "stdout"
        }
      ]
    },
    {
      "cell_type": "markdown",
      "metadata": {
        "id": "OfxYoQsMxF44",
        "colab_type": "text"
      },
      "source": [
        "* H0: there is no significant differences in jobrole between non travellers, frequent travellers and rare travellers \n",
        "* Ha: there is significant differences in jobrole between between non travellers, frequent travellers and rare travellers \n",
        "* since p value>0,05, H0 is accepted"
      ]
    },
    {
      "cell_type": "code",
      "metadata": {
        "id": "64X4TMfCtU90",
        "colab_type": "code",
        "colab": {
          "base_uri": "https://localhost:8080/",
          "height": 34
        },
        "outputId": "eef1dedf-7dc4-4fbe-b417-49fe3231c32f"
      },
      "source": [
        "b1=dataset1.Department\n",
        "b2=dataset2.Department\n",
        "b3=dataset3.Department\n",
        "stat,p=kruskal(b1,b2,b3)\n",
        "print(stat,p)"
      ],
      "execution_count": 21,
      "outputs": [
        {
          "output_type": "stream",
          "text": [
            "1.8717948717948882 0.39223370292827786\n"
          ],
          "name": "stdout"
        }
      ]
    },
    {
      "cell_type": "markdown",
      "metadata": {
        "id": "8PtLGqr5xQKt",
        "colab_type": "text"
      },
      "source": [
        "* H0: there is no significant differences in department between non travellers, frequent travellers and rare travellers\n",
        "* Ha: there is significant differences in department between between non travellers, frequent travellers and rare travellers\n",
        "* since p value>0,05, H0 is accepted"
      ]
    },
    {
      "cell_type": "code",
      "metadata": {
        "id": "ToxemXl-iDyO",
        "colab_type": "code",
        "colab": {}
      },
      "source": [
        "'''seperate t test'''\n",
        "from scipy.stats import ttest_ind\n"
      ],
      "execution_count": 12,
      "outputs": []
    },
    {
      "cell_type": "code",
      "metadata": {
        "id": "UByhHvQHqaYL",
        "colab_type": "code",
        "colab": {
          "base_uri": "https://localhost:8080/",
          "height": 34
        },
        "outputId": "d02f74cb-30df-4eb0-deb6-2c73d449676c"
      },
      "source": [
        "a1=dataset1.TotalWorkingYears\n",
        "a2=dataset2.TotalWorkingYears\n",
        "stat,p=ttest_ind(a1,a2)\n",
        "print(stat,p)"
      ],
      "execution_count": 13,
      "outputs": [
        {
          "output_type": "stream",
          "text": [
            "1.4059636484492146 0.19736536050084735\n"
          ],
          "name": "stdout"
        }
      ]
    },
    {
      "cell_type": "markdown",
      "metadata": {
        "id": "eN4YnVNwxkyp",
        "colab_type": "text"
      },
      "source": [
        "* H0: there is no significant differences in TotalWorkingYears between non travellers, frequent travellers and rare travellers\n",
        "* Ha: there is significant differences in TotalWorkingYears between between non travellers, frequent travellers and rare travellers\n",
        "* since p value>0,05, H0 is accepted"
      ]
    },
    {
      "cell_type": "code",
      "metadata": {
        "id": "gakMjjNIqWwF",
        "colab_type": "code",
        "colab": {
          "base_uri": "https://localhost:8080/",
          "height": 34
        },
        "outputId": "28f56bb9-9d01-4ab8-e129-5ede242fc0d0"
      },
      "source": [
        "a1=dataset1.MonthlyIncome\n",
        "a2=dataset2.MonthlyIncome\n",
        "stat,p=ttest_ind(a1,a2)\n",
        "print(stat,p)"
      ],
      "execution_count": 14,
      "outputs": [
        {
          "output_type": "stream",
          "text": [
            "0.21576524763062419 0.8345703470607588\n"
          ],
          "name": "stdout"
        }
      ]
    },
    {
      "cell_type": "markdown",
      "metadata": {
        "id": "xDe7-6dryJeE",
        "colab_type": "text"
      },
      "source": [
        "* H0: there is no significant differences in monthly income between non travellers, frequent travellers and rare travellers\n",
        "* Ha: there is significant differences in monthly income between between non travellers, frequent travellers and rare travellers\n",
        "* since p value>0,05, H0 is accepted"
      ]
    },
    {
      "cell_type": "code",
      "metadata": {
        "id": "PfC01_zhqjS8",
        "colab_type": "code",
        "colab": {
          "base_uri": "https://localhost:8080/",
          "height": 34
        },
        "outputId": "c6ffad8a-9a07-411f-ec61-2e07dacabba6"
      },
      "source": [
        "a1=dataset1.YearsWithCurrManager\n",
        "a2=dataset2.YearsWithCurrManager\n",
        "stat,p=ttest_ind(a1,a2)\n",
        "print(stat,p)"
      ],
      "execution_count": 18,
      "outputs": [
        {
          "output_type": "stream",
          "text": [
            "1.4342743312012722 0.18940366109332116\n"
          ],
          "name": "stdout"
        }
      ]
    },
    {
      "cell_type": "markdown",
      "metadata": {
        "id": "pem9WtPKyTjZ",
        "colab_type": "text"
      },
      "source": [
        "* H0: there is no significant differences in YearsWithCurrManager between non travellers, frequent travellers and rare travellers\n",
        "* Ha: there is significant differences in YearsWithCurrManager between between non travellers, frequent travellers and rare travellers\n",
        "* since p value>0,05, H0 is accepted"
      ]
    },
    {
      "cell_type": "code",
      "metadata": {
        "id": "M3Afp6gAqxHZ",
        "colab_type": "code",
        "colab": {}
      },
      "source": [
        ""
      ],
      "execution_count": null,
      "outputs": []
    }
  ]
}