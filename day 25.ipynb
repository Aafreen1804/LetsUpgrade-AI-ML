{
  "nbformat": 4,
  "nbformat_minor": 0,
  "metadata": {
    "colab": {
      "name": "day 25.ipynb",
      "provenance": []
    },
    "kernelspec": {
      "name": "python3",
      "display_name": "Python 3"
    }
  },
  "cells": [
    {
      "cell_type": "markdown",
      "metadata": {
        "id": "-GtM5g9TVjxr",
        "colab_type": "text"
      },
      "source": [
        "# NOTE\n",
        "unable to understand how to achieve the same reduction in code wherein we compare every feature with every remaining feature to get accuracy and confusion matrix using a function !!"
      ]
    },
    {
      "cell_type": "code",
      "metadata": {
        "id": "nvmxl5F4Kl0_",
        "colab_type": "code",
        "colab": {}
      },
      "source": [
        "import pandas as pd\n",
        "from sklearn import preprocessing\n",
        "from sklearn.model_selection import train_test_split\n",
        "from sklearn.naive_bayes import *\n",
        "from sklearn.metrics import accuracy_score,confusion_matrix\n",
        "from sklearn import datasets"
      ],
      "execution_count": 23,
      "outputs": []
    },
    {
      "cell_type": "code",
      "metadata": {
        "id": "VOxaXCIbRFMN",
        "colab_type": "code",
        "colab": {
          "base_uri": "https://localhost:8080/",
          "height": 68
        },
        "outputId": "b4e1cbad-c4a6-4694-8a76-68b98f444e92"
      },
      "source": [
        "data=pd.read_csv(\"train.csv\")\n",
        "data.columns"
      ],
      "execution_count": 24,
      "outputs": [
        {
          "output_type": "execute_result",
          "data": {
            "text/plain": [
              "Index(['PassengerId', 'Survived', 'Pclass', 'Name', 'Sex', 'Age', 'SibSp',\n",
              "       'Parch', 'Ticket', 'Fare', 'Cabin', 'Embarked'],\n",
              "      dtype='object')"
            ]
          },
          "metadata": {
            "tags": []
          },
          "execution_count": 24
        }
      ]
    },
    {
      "cell_type": "markdown",
      "metadata": {
        "id": "uVX8LHMwTNp5",
        "colab_type": "text"
      },
      "source": [
        "removing non categorical features before proceeding furthur"
      ]
    },
    {
      "cell_type": "code",
      "metadata": {
        "id": "2xgwujfLSJOb",
        "colab_type": "code",
        "colab": {}
      },
      "source": [
        "data1=data.drop([\"PassengerId\",\"Fare\",\"Parch\",\"Name\",\"Ticket\",\"Cabin\",\"Age\"],axis=1)"
      ],
      "execution_count": 30,
      "outputs": []
    },
    {
      "cell_type": "code",
      "metadata": {
        "id": "q2WElN4BM7lP",
        "colab_type": "code",
        "colab": {}
      },
      "source": [
        "le = preprocessing.LabelEncoder()\n",
        "data[\"Sex\"] = le.fit_transform(data[\"Sex\"])\n",
        "data[\"Embarked\"] = le.fit_transform(data[\"Embarked\"])"
      ],
      "execution_count": 31,
      "outputs": []
    },
    {
      "cell_type": "markdown",
      "metadata": {
        "id": "gijLGil0Vesv",
        "colab_type": "text"
      },
      "source": [
        "reducing lines of code by using a for loop\n"
      ]
    },
    {
      "cell_type": "code",
      "metadata": {
        "id": "eq7JckAKTX8-",
        "colab_type": "code",
        "colab": {
          "base_uri": "https://localhost:8080/",
          "height": 391
        },
        "outputId": "634446cb-069e-4b09-8e23-b1cdbaca4ca2"
      },
      "source": [
        "features=[\"Pclass\",\"Sex\",\"SibSp\",\"Embarked\",\"Survived\"]\n",
        "for i in features:\n",
        "  y=data1[i]\n",
        "  X=data1.drop([i], axis=1)\n",
        "  X_train,X_test,y_train,y_test=train_test_split(X,y,test_size=0.3,random_state=0)\n",
        "  clf = BernoulliNB()\n",
        "  y_pred = clf.fit(X_train,y_train).predict(X_test)\n",
        "  Acc_value = accuracy_score(y_test,y_pred,normalize=True)\n",
        "  conf_mat = confusion_matrix(y_test,y_pred)\n",
        "  print(\"Accuracy of\",i,\":\",Acc_value)\n",
        "  print(\"Confusion matrix of\",i, \":\",conf_mat)"
      ],
      "execution_count": 33,
      "outputs": [
        {
          "output_type": "stream",
          "text": [
            "Accuracy of Pclass : 0.5805243445692884\n",
            "Confusion matrix of Pclass : [[ 30   6  34]\n",
            " [ 14   4  31]\n",
            " [ 21   6 121]]\n",
            "Accuracy of Sex : 0.7677902621722846\n",
            "Confusion matrix of Sex : [[ 73  25]\n",
            " [ 37 132]]\n",
            "Accuracy of SibSp : 0.6816479400749064\n",
            "Confusion matrix of SibSp : [[172  10   0   0   0   0   0]\n",
            " [ 55  10   0   0   0   0   0]\n",
            " [  6   2   0   0   0   0   0]\n",
            " [  7   0   0   0   0   0   0]\n",
            " [  2   0   0   0   0   0   0]\n",
            " [  1   0   0   0   0   0   0]\n",
            " [  2   0   0   0   0   0   0]]\n",
            "Accuracy of Embarked : 0.7340823970037453\n",
            "Confusion matrix of Embarked : [[  0   0  49]\n",
            " [  0   0  22]\n",
            " [  0   0 196]]\n",
            "Accuracy of Survived : 0.7677902621722846\n",
            "Confusion matrix of Survived : [[132  25]\n",
            " [ 37  73]]\n"
          ],
          "name": "stdout"
        }
      ]
    }
  ]
}