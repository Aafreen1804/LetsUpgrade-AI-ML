{
  "nbformat": 4,
  "nbformat_minor": 0,
  "metadata": {
    "colab": {
      "name": "day 27.ipynb",
      "provenance": []
    },
    "kernelspec": {
      "name": "python3",
      "display_name": "Python 3"
    }
  },
  "cells": [
    {
      "cell_type": "markdown",
      "metadata": {
        "id": "WAY3tSWaSWC3",
        "colab_type": "text"
      },
      "source": [
        "**KNN ON TITANIC DATASET WHERE K RANGES FROM 1 TO 267**"
      ]
    },
    {
      "cell_type": "code",
      "metadata": {
        "id": "wD-AHKaHSN7w",
        "colab_type": "code",
        "colab": {
          "base_uri": "https://localhost:8080/",
          "height": 145
        },
        "outputId": "84e3c9e5-3b91-4808-d286-951bd15bafe2"
      },
      "source": [
        "import pandas as pd\n",
        "from sklearn.preprocessing import LabelEncoder\n",
        "data=pd.read_csv(\"train.csv\")\n",
        "data.head(2)"
      ],
      "execution_count": 25,
      "outputs": [
        {
          "output_type": "execute_result",
          "data": {
            "text/html": [
              "<div>\n",
              "<style scoped>\n",
              "    .dataframe tbody tr th:only-of-type {\n",
              "        vertical-align: middle;\n",
              "    }\n",
              "\n",
              "    .dataframe tbody tr th {\n",
              "        vertical-align: top;\n",
              "    }\n",
              "\n",
              "    .dataframe thead th {\n",
              "        text-align: right;\n",
              "    }\n",
              "</style>\n",
              "<table border=\"1\" class=\"dataframe\">\n",
              "  <thead>\n",
              "    <tr style=\"text-align: right;\">\n",
              "      <th></th>\n",
              "      <th>PassengerId</th>\n",
              "      <th>Survived</th>\n",
              "      <th>Pclass</th>\n",
              "      <th>Name</th>\n",
              "      <th>Sex</th>\n",
              "      <th>Age</th>\n",
              "      <th>SibSp</th>\n",
              "      <th>Parch</th>\n",
              "      <th>Ticket</th>\n",
              "      <th>Fare</th>\n",
              "      <th>Cabin</th>\n",
              "      <th>Embarked</th>\n",
              "    </tr>\n",
              "  </thead>\n",
              "  <tbody>\n",
              "    <tr>\n",
              "      <th>0</th>\n",
              "      <td>1</td>\n",
              "      <td>0</td>\n",
              "      <td>3</td>\n",
              "      <td>Braund, Mr. Owen Harris</td>\n",
              "      <td>male</td>\n",
              "      <td>22.0</td>\n",
              "      <td>1</td>\n",
              "      <td>0</td>\n",
              "      <td>A/5 21171</td>\n",
              "      <td>7.2500</td>\n",
              "      <td>NaN</td>\n",
              "      <td>S</td>\n",
              "    </tr>\n",
              "    <tr>\n",
              "      <th>1</th>\n",
              "      <td>2</td>\n",
              "      <td>1</td>\n",
              "      <td>1</td>\n",
              "      <td>Cumings, Mrs. John Bradley (Florence Briggs Th...</td>\n",
              "      <td>female</td>\n",
              "      <td>38.0</td>\n",
              "      <td>1</td>\n",
              "      <td>0</td>\n",
              "      <td>PC 17599</td>\n",
              "      <td>71.2833</td>\n",
              "      <td>C85</td>\n",
              "      <td>C</td>\n",
              "    </tr>\n",
              "  </tbody>\n",
              "</table>\n",
              "</div>"
            ],
            "text/plain": [
              "   PassengerId  Survived  Pclass  ...     Fare Cabin  Embarked\n",
              "0            1         0       3  ...   7.2500   NaN         S\n",
              "1            2         1       1  ...  71.2833   C85         C\n",
              "\n",
              "[2 rows x 12 columns]"
            ]
          },
          "metadata": {
            "tags": []
          },
          "execution_count": 25
        }
      ]
    },
    {
      "cell_type": "code",
      "metadata": {
        "id": "eV5-o71nTZh3",
        "colab_type": "code",
        "colab": {}
      },
      "source": [
        "data1=data.drop(['PassengerId', 'Name', 'Ticket', 'Cabin'], axis=1)"
      ],
      "execution_count": 26,
      "outputs": []
    },
    {
      "cell_type": "code",
      "metadata": {
        "id": "pYSvDGkAVRub",
        "colab_type": "code",
        "colab": {
          "base_uri": "https://localhost:8080/",
          "height": 111
        },
        "outputId": "32bfae7a-b215-4610-f306-b265735f433d"
      },
      "source": [
        "encoder = LabelEncoder()\n",
        "for var in ['Sex', 'Embarked']:\n",
        "    data1[var] = encoder.fit_transform(data[var])\n",
        "data1.head(2)"
      ],
      "execution_count": 27,
      "outputs": [
        {
          "output_type": "execute_result",
          "data": {
            "text/html": [
              "<div>\n",
              "<style scoped>\n",
              "    .dataframe tbody tr th:only-of-type {\n",
              "        vertical-align: middle;\n",
              "    }\n",
              "\n",
              "    .dataframe tbody tr th {\n",
              "        vertical-align: top;\n",
              "    }\n",
              "\n",
              "    .dataframe thead th {\n",
              "        text-align: right;\n",
              "    }\n",
              "</style>\n",
              "<table border=\"1\" class=\"dataframe\">\n",
              "  <thead>\n",
              "    <tr style=\"text-align: right;\">\n",
              "      <th></th>\n",
              "      <th>Survived</th>\n",
              "      <th>Pclass</th>\n",
              "      <th>Sex</th>\n",
              "      <th>Age</th>\n",
              "      <th>SibSp</th>\n",
              "      <th>Parch</th>\n",
              "      <th>Fare</th>\n",
              "      <th>Embarked</th>\n",
              "    </tr>\n",
              "  </thead>\n",
              "  <tbody>\n",
              "    <tr>\n",
              "      <th>0</th>\n",
              "      <td>0</td>\n",
              "      <td>3</td>\n",
              "      <td>1</td>\n",
              "      <td>22.0</td>\n",
              "      <td>1</td>\n",
              "      <td>0</td>\n",
              "      <td>7.2500</td>\n",
              "      <td>2</td>\n",
              "    </tr>\n",
              "    <tr>\n",
              "      <th>1</th>\n",
              "      <td>1</td>\n",
              "      <td>1</td>\n",
              "      <td>0</td>\n",
              "      <td>38.0</td>\n",
              "      <td>1</td>\n",
              "      <td>0</td>\n",
              "      <td>71.2833</td>\n",
              "      <td>0</td>\n",
              "    </tr>\n",
              "  </tbody>\n",
              "</table>\n",
              "</div>"
            ],
            "text/plain": [
              "   Survived  Pclass  Sex   Age  SibSp  Parch     Fare  Embarked\n",
              "0         0       3    1  22.0      1      0   7.2500         2\n",
              "1         1       1    0  38.0      1      0  71.2833         0"
            ]
          },
          "metadata": {
            "tags": []
          },
          "execution_count": 27
        }
      ]
    },
    {
      "cell_type": "code",
      "metadata": {
        "id": "jjJeghUIYJPl",
        "colab_type": "code",
        "colab": {}
      },
      "source": [
        "from sklearn.model_selection import train_test_split\n",
        "from sklearn import neighbors\n",
        "import matplotlib.pyplot as plt"
      ],
      "execution_count": 28,
      "outputs": []
    },
    {
      "cell_type": "code",
      "metadata": {
        "id": "Xvu6BdGyY7ka",
        "colab_type": "code",
        "colab": {}
      },
      "source": [
        "y=data1['Pclass']\n",
        "x=data1.drop(['Pclass'], axis=1)"
      ],
      "execution_count": 29,
      "outputs": []
    },
    {
      "cell_type": "code",
      "metadata": {
        "id": "qFCtnoxjZhgf",
        "colab_type": "code",
        "colab": {}
      },
      "source": [
        "X_train, X_test, y_train, y_test = train_test_split(x,y,test_size=0.3, random_state=0)"
      ],
      "execution_count": 30,
      "outputs": []
    },
    {
      "cell_type": "markdown",
      "metadata": {
        "id": "-dwJNi7SaZTu",
        "colab_type": "text"
      },
      "source": [
        "just used a for loop for 267 k values iteration"
      ]
    },
    {
      "cell_type": "code",
      "metadata": {
        "id": "XNLTQ9VJZ3p9",
        "colab_type": "code",
        "colab": {}
      },
      "source": [
        "scores = []\n",
        "k_list = range(1,267)\n",
        "for k in k_list:\n",
        "  knn = neighbors.KNeighborsClassifier(n_neighbors=k)\n",
        "  knn.fit(X_train, y_train)\n",
        "  y_pred=knn.predict(X_test)\n",
        "  score = knn.score(X_test, y_test)\n",
        "  scores.append(score)"
      ],
      "execution_count": 32,
      "outputs": []
    },
    {
      "cell_type": "code",
      "metadata": {
        "id": "_WyvrT6eaWYf",
        "colab_type": "code",
        "colab": {
          "base_uri": "https://localhost:8080/",
          "height": 1000
        },
        "outputId": "9f9ebadb-0d19-4299-e65e-07d0bfa15b4d"
      },
      "source": [
        "scores"
      ],
      "execution_count": 36,
      "outputs": [
        {
          "output_type": "execute_result",
          "data": {
            "text/plain": [
              "[0.8913857677902621,\n",
              " 0.8651685393258427,\n",
              " 0.8651685393258427,\n",
              " 0.8239700374531835,\n",
              " 0.8314606741573034,\n",
              " 0.846441947565543,\n",
              " 0.8426966292134831,\n",
              " 0.850187265917603,\n",
              " 0.846441947565543,\n",
              " 0.8352059925093633,\n",
              " 0.8202247191011236,\n",
              " 0.8277153558052435,\n",
              " 0.8277153558052435,\n",
              " 0.8202247191011236,\n",
              " 0.8127340823970037,\n",
              " 0.8164794007490637,\n",
              " 0.8164794007490637,\n",
              " 0.8164794007490637,\n",
              " 0.8202247191011236,\n",
              " 0.8202247191011236,\n",
              " 0.8127340823970037,\n",
              " 0.797752808988764,\n",
              " 0.8014981273408239,\n",
              " 0.7940074906367042,\n",
              " 0.797752808988764,\n",
              " 0.7865168539325843,\n",
              " 0.797752808988764,\n",
              " 0.7827715355805244,\n",
              " 0.7790262172284644,\n",
              " 0.7790262172284644,\n",
              " 0.7865168539325843,\n",
              " 0.7827715355805244,\n",
              " 0.7902621722846442,\n",
              " 0.7865168539325843,\n",
              " 0.7790262172284644,\n",
              " 0.7827715355805244,\n",
              " 0.7865168539325843,\n",
              " 0.7902621722846442,\n",
              " 0.7752808988764045,\n",
              " 0.7902621722846442,\n",
              " 0.7827715355805244,\n",
              " 0.7865168539325843,\n",
              " 0.7827715355805244,\n",
              " 0.7865168539325843,\n",
              " 0.7827715355805244,\n",
              " 0.7865168539325843,\n",
              " 0.7752808988764045,\n",
              " 0.7752808988764045,\n",
              " 0.7752808988764045,\n",
              " 0.7715355805243446,\n",
              " 0.7715355805243446,\n",
              " 0.7715355805243446,\n",
              " 0.7677902621722846,\n",
              " 0.7677902621722846,\n",
              " 0.7715355805243446,\n",
              " 0.7752808988764045,\n",
              " 0.7752808988764045,\n",
              " 0.7677902621722846,\n",
              " 0.7602996254681648,\n",
              " 0.7640449438202247,\n",
              " 0.7602996254681648,\n",
              " 0.7602996254681648,\n",
              " 0.7565543071161048,\n",
              " 0.7565543071161048,\n",
              " 0.7602996254681648,\n",
              " 0.7565543071161048,\n",
              " 0.7602996254681648,\n",
              " 0.7602996254681648,\n",
              " 0.7640449438202247,\n",
              " 0.7640449438202247,\n",
              " 0.7640449438202247,\n",
              " 0.7565543071161048,\n",
              " 0.7640449438202247,\n",
              " 0.7677902621722846,\n",
              " 0.7640449438202247,\n",
              " 0.7677902621722846,\n",
              " 0.7715355805243446,\n",
              " 0.7640449438202247,\n",
              " 0.7565543071161048,\n",
              " 0.7565543071161048,\n",
              " 0.7602996254681648,\n",
              " 0.7602996254681648,\n",
              " 0.7528089887640449,\n",
              " 0.7528089887640449,\n",
              " 0.7490636704119851,\n",
              " 0.7490636704119851,\n",
              " 0.7490636704119851,\n",
              " 0.7453183520599251,\n",
              " 0.7490636704119851,\n",
              " 0.7565543071161048,\n",
              " 0.7565543071161048,\n",
              " 0.7565543071161048,\n",
              " 0.7528089887640449,\n",
              " 0.7528089887640449,\n",
              " 0.7528089887640449,\n",
              " 0.7565543071161048,\n",
              " 0.7453183520599251,\n",
              " 0.7565543071161048,\n",
              " 0.7378277153558053,\n",
              " 0.7378277153558053,\n",
              " 0.7303370786516854,\n",
              " 0.7303370786516854,\n",
              " 0.7340823970037453,\n",
              " 0.7340823970037453,\n",
              " 0.7378277153558053,\n",
              " 0.7415730337078652,\n",
              " 0.7415730337078652,\n",
              " 0.7453183520599251,\n",
              " 0.7490636704119851,\n",
              " 0.7528089887640449,\n",
              " 0.7490636704119851,\n",
              " 0.7453183520599251,\n",
              " 0.7490636704119851,\n",
              " 0.7490636704119851,\n",
              " 0.7490636704119851,\n",
              " 0.7490636704119851,\n",
              " 0.7528089887640449,\n",
              " 0.7490636704119851,\n",
              " 0.7490636704119851,\n",
              " 0.7453183520599251,\n",
              " 0.7453183520599251,\n",
              " 0.7453183520599251,\n",
              " 0.7415730337078652,\n",
              " 0.7453183520599251,\n",
              " 0.7453183520599251,\n",
              " 0.7490636704119851,\n",
              " 0.7490636704119851,\n",
              " 0.7528089887640449,\n",
              " 0.7528089887640449,\n",
              " 0.7602996254681648,\n",
              " 0.7602996254681648,\n",
              " 0.7602996254681648,\n",
              " 0.7602996254681648,\n",
              " 0.7565543071161048,\n",
              " 0.7602996254681648,\n",
              " 0.7602996254681648,\n",
              " 0.7602996254681648,\n",
              " 0.7602996254681648,\n",
              " 0.7602996254681648,\n",
              " 0.7602996254681648,\n",
              " 0.7602996254681648,\n",
              " 0.7565543071161048,\n",
              " 0.7565543071161048,\n",
              " 0.7565543071161048,\n",
              " 0.7565543071161048,\n",
              " 0.7565543071161048,\n",
              " 0.7640449438202247,\n",
              " 0.7677902621722846,\n",
              " 0.7677902621722846,\n",
              " 0.7677902621722846,\n",
              " 0.7677902621722846,\n",
              " 0.7640449438202247,\n",
              " 0.7640449438202247,\n",
              " 0.7640449438202247,\n",
              " 0.7640449438202247,\n",
              " 0.7602996254681648,\n",
              " 0.7565543071161048,\n",
              " 0.7565543071161048,\n",
              " 0.7565543071161048,\n",
              " 0.7565543071161048,\n",
              " 0.7528089887640449,\n",
              " 0.7528089887640449,\n",
              " 0.7528089887640449,\n",
              " 0.7528089887640449,\n",
              " 0.7528089887640449,\n",
              " 0.7528089887640449,\n",
              " 0.7528089887640449,\n",
              " 0.7528089887640449,\n",
              " 0.7528089887640449,\n",
              " 0.7528089887640449,\n",
              " 0.7528089887640449,\n",
              " 0.7528089887640449,\n",
              " 0.7565543071161048,\n",
              " 0.7490636704119851,\n",
              " 0.7565543071161048,\n",
              " 0.7565543071161048,\n",
              " 0.7565543071161048,\n",
              " 0.7565543071161048,\n",
              " 0.7565543071161048,\n",
              " 0.7490636704119851,\n",
              " 0.7565543071161048,\n",
              " 0.7565543071161048,\n",
              " 0.7565543071161048,\n",
              " 0.7528089887640449,\n",
              " 0.7528089887640449,\n",
              " 0.7490636704119851,\n",
              " 0.7490636704119851,\n",
              " 0.7490636704119851,\n",
              " 0.7453183520599251,\n",
              " 0.7415730337078652,\n",
              " 0.7415730337078652,\n",
              " 0.7415730337078652,\n",
              " 0.7415730337078652,\n",
              " 0.7303370786516854,\n",
              " 0.7228464419475655,\n",
              " 0.7228464419475655,\n",
              " 0.7228464419475655,\n",
              " 0.7228464419475655,\n",
              " 0.7191011235955056,\n",
              " 0.7191011235955056,\n",
              " 0.7228464419475655,\n",
              " 0.7228464419475655,\n",
              " 0.7228464419475655,\n",
              " 0.7228464419475655,\n",
              " 0.7228464419475655,\n",
              " 0.7228464419475655,\n",
              " 0.7228464419475655,\n",
              " 0.7228464419475655,\n",
              " 0.7228464419475655,\n",
              " 0.7228464419475655,\n",
              " 0.7228464419475655,\n",
              " 0.7228464419475655,\n",
              " 0.7228464419475655,\n",
              " 0.7228464419475655,\n",
              " 0.7228464419475655,\n",
              " 0.7228464419475655,\n",
              " 0.7228464419475655,\n",
              " 0.7228464419475655,\n",
              " 0.7228464419475655,\n",
              " 0.7228464419475655,\n",
              " 0.7228464419475655,\n",
              " 0.7228464419475655,\n",
              " 0.7228464419475655,\n",
              " 0.7228464419475655,\n",
              " 0.7228464419475655,\n",
              " 0.7228464419475655,\n",
              " 0.7228464419475655,\n",
              " 0.7228464419475655,\n",
              " 0.7228464419475655,\n",
              " 0.7228464419475655,\n",
              " 0.7228464419475655,\n",
              " 0.7228464419475655,\n",
              " 0.7228464419475655,\n",
              " 0.7228464419475655,\n",
              " 0.7228464419475655,\n",
              " 0.7228464419475655,\n",
              " 0.7228464419475655,\n",
              " 0.7228464419475655,\n",
              " 0.7228464419475655,\n",
              " 0.7228464419475655,\n",
              " 0.7228464419475655,\n",
              " 0.7228464419475655,\n",
              " 0.7228464419475655,\n",
              " 0.7191011235955056,\n",
              " 0.7191011235955056,\n",
              " 0.7191011235955056,\n",
              " 0.7191011235955056,\n",
              " 0.7191011235955056,\n",
              " 0.7191011235955056,\n",
              " 0.7191011235955056,\n",
              " 0.7191011235955056,\n",
              " 0.7191011235955056,\n",
              " 0.7191011235955056,\n",
              " 0.7191011235955056,\n",
              " 0.7191011235955056,\n",
              " 0.7191011235955056,\n",
              " 0.7191011235955056,\n",
              " 0.7191011235955056,\n",
              " 0.7191011235955056,\n",
              " 0.7191011235955056,\n",
              " 0.7191011235955056,\n",
              " 0.7191011235955056,\n",
              " 0.7191011235955056,\n",
              " 0.7191011235955056,\n",
              " 0.7191011235955056,\n",
              " 0.7153558052434457]"
            ]
          },
          "metadata": {
            "tags": []
          },
          "execution_count": 36
        }
      ]
    },
    {
      "cell_type": "code",
      "metadata": {
        "id": "vZ_DpHJPaox-",
        "colab_type": "code",
        "colab": {
          "base_uri": "https://localhost:8080/",
          "height": 300
        },
        "outputId": "7be70626-1ba9-4880-ba8b-505c04f45408"
      },
      "source": [
        "plt.plot(k_list, scores)\n",
        "plt.xlabel(\"k\")\n",
        "plt.ylabel(\"Accuracy\")"
      ],
      "execution_count": 33,
      "outputs": [
        {
          "output_type": "execute_result",
          "data": {
            "text/plain": [
              "Text(0, 0.5, 'Accuracy')"
            ]
          },
          "metadata": {
            "tags": []
          },
          "execution_count": 33
        },
        {
          "output_type": "display_data",
          "data": {
            "image/png": "[encoded data removed]",
            "text/plain": [
              "<Figure size 432x288 with 1 Axes>"
            ]
          },
          "metadata": {
            "tags": [],
            "needs_background": "light"
          }
        }
      ]
    },
    {
      "cell_type": "markdown",
      "metadata": {
        "id": "hkepXreKc3dr",
        "colab_type": "text"
      },
      "source": [
        "**SVM ON TITANIC DATASET BY CHANGING DEPENDENT VARIABLES USING A USER-DEFINED FUNCTION**"
      ]
    },
    {
      "cell_type": "code",
      "metadata": {
        "id": "-KbRGyF3cll7",
        "colab_type": "code",
        "colab": {}
      },
      "source": [
        "from sklearn import svm\n",
        "from sklearn.metrics import accuracy_score"
      ],
      "execution_count": 110,
      "outputs": []
    },
    {
      "cell_type": "code",
      "metadata": {
        "id": "veABVgiGdKBJ",
        "colab_type": "code",
        "colab": {}
      },
      "source": [
        "features  = ['Survived', 'Sex', 'Embarked', 'Parch', 'SibSp']"
      ],
      "execution_count": 105,
      "outputs": []
    },
    {
      "cell_type": "code",
      "metadata": {
        "id": "hZBCP7EfofrX",
        "colab_type": "code",
        "colab": {
          "base_uri": "https://localhost:8080/",
          "height": 204
        },
        "outputId": "4bfc8516-e9aa-4c6e-a8a6-32215578a480"
      },
      "source": [
        "#removing the string datatyes\n",
        "data.drop(['PassengerId', 'Name', 'Ticket', 'Cabin'], axis=1, inplace=True, errors='ignore')\n",
        "\n",
        "# Handle missing values\n",
        "data['Age'].fillna(value=data['Age'].mean(), inplace=True)\n",
        "data.dropna(inplace=True)\n",
        "\n",
        "# Handle categorical values\n",
        "from sklearn.preprocessing import LabelEncoder\n",
        "encoder = LabelEncoder()\n",
        "for var in ['Sex', 'Embarked']:\n",
        "    data[var] = encoder.fit_transform(data[var])\n",
        "data.head()"
      ],
      "execution_count": 106,
      "outputs": [
        {
          "output_type": "execute_result",
          "data": {
            "text/html": [
              "<div>\n",
              "<style scoped>\n",
              "    .dataframe tbody tr th:only-of-type {\n",
              "        vertical-align: middle;\n",
              "    }\n",
              "\n",
              "    .dataframe tbody tr th {\n",
              "        vertical-align: top;\n",
              "    }\n",
              "\n",
              "    .dataframe thead th {\n",
              "        text-align: right;\n",
              "    }\n",
              "</style>\n",
              "<table border=\"1\" class=\"dataframe\">\n",
              "  <thead>\n",
              "    <tr style=\"text-align: right;\">\n",
              "      <th></th>\n",
              "      <th>Survived</th>\n",
              "      <th>Pclass</th>\n",
              "      <th>Sex</th>\n",
              "      <th>Age</th>\n",
              "      <th>SibSp</th>\n",
              "      <th>Parch</th>\n",
              "      <th>Fare</th>\n",
              "      <th>Embarked</th>\n",
              "    </tr>\n",
              "  </thead>\n",
              "  <tbody>\n",
              "    <tr>\n",
              "      <th>1</th>\n",
              "      <td>1</td>\n",
              "      <td>1</td>\n",
              "      <td>0</td>\n",
              "      <td>38.0</td>\n",
              "      <td>1</td>\n",
              "      <td>0</td>\n",
              "      <td>71.2833</td>\n",
              "      <td>0</td>\n",
              "    </tr>\n",
              "    <tr>\n",
              "      <th>3</th>\n",
              "      <td>1</td>\n",
              "      <td>1</td>\n",
              "      <td>0</td>\n",
              "      <td>35.0</td>\n",
              "      <td>1</td>\n",
              "      <td>0</td>\n",
              "      <td>53.1000</td>\n",
              "      <td>2</td>\n",
              "    </tr>\n",
              "    <tr>\n",
              "      <th>6</th>\n",
              "      <td>0</td>\n",
              "      <td>1</td>\n",
              "      <td>1</td>\n",
              "      <td>54.0</td>\n",
              "      <td>0</td>\n",
              "      <td>0</td>\n",
              "      <td>51.8625</td>\n",
              "      <td>2</td>\n",
              "    </tr>\n",
              "    <tr>\n",
              "      <th>10</th>\n",
              "      <td>1</td>\n",
              "      <td>3</td>\n",
              "      <td>0</td>\n",
              "      <td>4.0</td>\n",
              "      <td>1</td>\n",
              "      <td>1</td>\n",
              "      <td>16.7000</td>\n",
              "      <td>2</td>\n",
              "    </tr>\n",
              "    <tr>\n",
              "      <th>11</th>\n",
              "      <td>1</td>\n",
              "      <td>1</td>\n",
              "      <td>0</td>\n",
              "      <td>58.0</td>\n",
              "      <td>0</td>\n",
              "      <td>0</td>\n",
              "      <td>26.5500</td>\n",
              "      <td>2</td>\n",
              "    </tr>\n",
              "  </tbody>\n",
              "</table>\n",
              "</div>"
            ],
            "text/plain": [
              "    Survived  Pclass  Sex   Age  SibSp  Parch     Fare  Embarked\n",
              "1          1       1    0  38.0      1      0  71.2833         0\n",
              "3          1       1    0  35.0      1      0  53.1000         2\n",
              "6          0       1    1  54.0      0      0  51.8625         2\n",
              "10         1       3    0   4.0      1      1  16.7000         2\n",
              "11         1       1    0  58.0      0      0  26.5500         2"
            ]
          },
          "metadata": {
            "tags": []
          },
          "execution_count": 106
        }
      ]
    },
    {
      "cell_type": "code",
      "metadata": {
        "id": "auEG3znYd3ke",
        "colab_type": "code",
        "colab": {}
      },
      "source": [
        "def  dependent_change(y_var):\n",
        "  X_train, X_test, y_train, y_test = train_test_split(\n",
        "  data.drop(y_var, axis=1), data[y_var], test_size=0.3, random_state=0)\n",
        "  clf = svm.SVC(gamma=0.01, C=100)\n",
        "  clf.fit(X_train, y_train)\n",
        "  y_pred=clf.predict(X_test)\n",
        "  print(accuracy_score(y_test,y_pred, normalize=True))"
      ],
      "execution_count": 112,
      "outputs": []
    },
    {
      "cell_type": "code",
      "metadata": {
        "id": "5lySoKkceK_i",
        "colab_type": "code",
        "colab": {
          "base_uri": "https://localhost:8080/",
          "height": 102
        },
        "outputId": "4e715fd1-f79d-470e-9806-a22db5337d8a"
      },
      "source": [
        "for y_var in features:\n",
        "  dependent_change(y_var)"
      ],
      "execution_count": 114,
      "outputs": [
        {
          "output_type": "stream",
          "text": [
            "0.5573770491803278\n",
            "0.5409836065573771\n",
            "0.47540983606557374\n",
            "0.639344262295082\n",
            "0.6885245901639344\n"
          ],
          "name": "stdout"
        }
      ]
    }
  ]
}