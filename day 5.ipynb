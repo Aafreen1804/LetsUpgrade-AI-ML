{
 "cells": [
  {
   "cell_type": "code",
   "execution_count": 8,
   "metadata": {},
   "outputs": [
    {
     "name": "stdout",
     "output_type": "stream",
     "text": [
      "1\n",
      "3\n",
      "5\n",
      "7\n",
      "11\n",
      "13\n",
      "17\n",
      "19\n"
     ]
    }
   ],
   "source": [
    "#question 1\n",
    "for num in range(20):\n",
    "       for i in range(2, num):\n",
    "            if (num % i) == 0:\n",
    "                break\n",
    "        else:\n",
    "            if(num%2!=0):\n",
    "                print(num)   "
   ]
  },
  {
   "cell_type": "code",
   "execution_count": 27,
   "metadata": {},
   "outputs": [
    {
     "name": "stdout",
     "output_type": "stream",
     "text": [
      "\n",
      "########################################################\n",
      "\n",
      "('China', ': The String is alphanumeric.\\n')\n",
      "('1974', ': The String contains only digits.\\n')\n",
      "('Australia', ': String contains only alphabetic characters.\\n')\n",
      "('   ', ': String contains only whitespace characters.\\n')\n",
      "('JAPAN', ': All letters in the string are uppercase.\\n')\n",
      "('India 1974', ': Convert String in lowercase:', 'india 1974', '\\n')\n",
      "('India 1974', ': Convert String in uppercase:', 'INDIA 1974', '\\n')\n",
      "('\\nLeft Strip:', 'India 1974')\n",
      "('\\nLeft Strip with Character A:', 'merica 1974')\n",
      "('\\nRight Strip:', 'America 1974     ')\n",
      "\n",
      "endswith check whether a string ends with a specified substring\n",
      "True\n",
      "False\n",
      "\n",
      "startswith check if a string starts with a specified substring\n",
      "True\n",
      "False\n",
      "Hello Russia\n",
      "2\n",
      "-1\n",
      "5\n",
      "-1\n",
      "0\n"
     ]
    }
   ],
   "source": [
    "def main():\n",
    "    print('\\n########################################################\\n')\n",
    " \n",
    "    user_string = \"China\"\n",
    "    if user_string.isalnum():\n",
    "        print(user_string, ': The String is alphanumeric.\\n')\n",
    " \n",
    "    user_string = \"1974\"\n",
    "    if user_string.isdigit():\n",
    "        print(user_string, ': The String contains only digits.\\n')\n",
    " \n",
    "    user_string = \"Australia\"\n",
    "    if user_string.isalpha():\n",
    "        print(user_string, ': String contains only alphabetic characters.\\n')\n",
    " \n",
    "    user_string = \"   \"\n",
    "    if user_string.isspace():\n",
    "        print(user_string, ': String contains only whitespace characters.\\n')\n",
    " \n",
    "    user_string = \"JAPAN\"\n",
    "    if user_string.isupper():\n",
    "        print(user_string, ': All letters in the string are uppercase.\\n')\n",
    " \n",
    "    user_string = \"Australia 1974\"\n",
    "    if user_string.islower():\n",
    "        print(user_string, ': All letters in the string are lowercase.\\n')\n",
    " \n",
    "    user_string = \"India 1974\"\n",
    "    toLower = user_string.lower()\n",
    "    print(user_string, ': Convert String in lowercase:', toLower, '\\n')\n",
    " \n",
    "    toUpper = user_string.upper()\n",
    "    print(user_string, ': Convert String in uppercase:', toUpper, '\\n')\n",
    "    \n",
    "    user_string = \"   India 1974\"\n",
    "    print('\\nLeft Strip:', user_string.lstrip())\n",
    "    \n",
    "    user_string = \"America 1974\"\n",
    "    print('\\nLeft Strip with Character A:', user_string.lstrip('A'))\n",
    "    \n",
    "    user_string = \"America 1974     \"\n",
    "    print('\\nRight Strip:', user_string.rstrip('A'))\n",
    "    \n",
    "    print('\\nendswith check whether a string ends with a specified substring')\n",
    "    user_string = \"Columbia\"\n",
    "    print(user_string.endswith('bia'))\n",
    "    print(user_string.endswith('mia'))\n",
    "    \n",
    "    print('\\nstartswith check if a string starts with a specified substring')\n",
    "    user_string = \"Columbia\"\n",
    "    print(user_string.startswith('Colum'))\n",
    "    print(user_string.startswith('Rolum'))\n",
    "    \n",
    "    user_string = \"Hello Columbia\"\n",
    "    old = \"Columbia\"\n",
    "    new = \"Russia\"\n",
    "    print(user_string.replace(old, new))\n",
    "    \n",
    "    user_string = \"Columbia\"\n",
    "    print(user_string.find('lumbia'))\n",
    "    print(user_string.find('colbia'))\n",
    "    print(user_string.find('bia'))\n",
    "    print(user_string.find('col'))\n",
    "    print(user_string.find('Col'))\n",
    " \n",
    "\n",
    "main()"
   ]
  },
  {
   "cell_type": "code",
   "execution_count": 57,
   "metadata": {},
   "outputs": [
    {
     "name": "stdout",
     "output_type": "stream",
     "text": [
      "Enter first string:madam\n",
      "Enter second string for finding anagram:hgbdf\n",
      "The number is palindrome!\n"
     ]
    }
   ],
   "source": [
    "#question 3\n",
    "s1=raw_input(\"Enter first string:\")\n",
    "s2=raw_input(\"Enter second string for finding anagram:\")\n",
    "rev_str = reversed(s1)\n",
    "if(sorted(s1)==sorted(s2)):\n",
    "      print(\"The strings are anagrams.\")\n",
    "elif list(s1) == list(rev_str):\n",
    "    print(\"The number is palindrome!\")\n",
    "else:\n",
    "    print(\"None of them\")\n",
    "      \n",
    "\n"
   ]
  },
  {
   "cell_type": "code",
   "execution_count": 84,
   "metadata": {},
   "outputs": [
    {
     "name": "stdout",
     "output_type": "stream",
     "text": [
      "drdarshaningleaimltrainer\n"
     ]
    }
   ],
   "source": [
    "#question 4\n",
    "user_string = \"Dr. Darshan Ingle @AI-ML Trainer\"\n",
    "test_string=user_string\n",
    "bad_chars = [';', '.', '-', \"*\", \"@\"]\n",
    "for i in bad_chars :\n",
    "    test_string = test_string.replace(i, '')\n",
    "a=test_string.replace(\" \", \"\")\n",
    "print(a.lower())"
   ]
  },
  {
   "cell_type": "code",
   "execution_count": null,
   "metadata": {},
   "outputs": [],
   "source": []
  }
 ],
 "metadata": {
  "kernelspec": {
   "display_name": "Python 2",
   "language": "python",
   "name": "python2"
  },
  "language_info": {
   "codemirror_mode": {
    "name": "ipython",
    "version": 2
   },
   "file_extension": ".py",
   "mimetype": "text/x-python",
   "name": "python",
   "nbconvert_exporter": "python",
   "pygments_lexer": "ipython2",
   "version": "2.7.14"
  }
 },
 "nbformat": 4,
 "nbformat_minor": 2
}
