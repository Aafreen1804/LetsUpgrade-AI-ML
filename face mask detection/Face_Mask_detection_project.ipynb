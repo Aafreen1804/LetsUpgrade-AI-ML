{
  "nbformat": 4,
  "nbformat_minor": 0,
  "metadata": {
    "kernelspec": {
      "display_name": "Python 3",
      "language": "python",
      "name": "python3"
    },
    "language_info": {
      "codemirror_mode": {
        "name": "ipython",
        "version": 3
      },
      "file_extension": ".py",
      "mimetype": "text/x-python",
      "name": "python",
      "nbconvert_exporter": "python",
      "pygments_lexer": "ipython3",
      "version": "3.8.3"
    },
    "colab": {
      "name": "Face_Mask_detection_success project - Govindaraj V.ipynb",
      "provenance": []
    }
  },
  "cells": [
    {
      "cell_type": "markdown",
      "metadata": {
        "id": "TRt7JEY1NSD1"
      },
      "source": [
        "The dataset consisted of 1376 images, 690 face images with masks and 686 without masks. The original dataset is prepared by [Prajna Bhandary](https://www.linkedin.com/in/prajna-bhandary-0b03a416a/) and available at [Github](https://github.com/prajnasb/observations/tree/master/experiements/data)"
      ]
    },
    {
      "cell_type": "markdown",
      "metadata": {
        "id": "rjO6njvONWUI"
      },
      "source": [
        "Motivated by the works of :\r\n",
        "\r\n",
        "1. [Adrian Rosebrock](https://www.pyimagesearch.com/2020/05/04/covid-19-face-mask-detector-with-opencv-keras-tensorflow-and-deep-learning/)\r\n",
        "2. [sentdex](https://pythonprogramming.net/convolutional-neural-network-deep-learning-python-tensorflow-keras/)\r\n",
        "3. [Prajna Bhandary](https://github.com/prajnasb/observations/tree/master/experiements/data)"
      ]
    },
    {
      "cell_type": "markdown",
      "metadata": {
        "id": "GaRT8FuCNtWP"
      },
      "source": [
        "all required libarries are imported"
      ]
    },
    {
      "cell_type": "code",
      "metadata": {
        "id": "FiL13I2NND1Y"
      },
      "source": [
        "from keras.optimizers import RMSprop\n",
        "from keras.preprocessing.image import ImageDataGenerator\n",
        "import cv2\n",
        "from keras.models import Sequential\n",
        "from keras.layers import Conv2D, Input, ZeroPadding2D, BatchNormalization, Activation, MaxPooling2D, Flatten, Dense,Dropout\n",
        "from keras.models import Model, load_model\n",
        "from keras.callbacks import TensorBoard, ModelCheckpoint\n",
        "from sklearn.model_selection import train_test_split\n",
        "from sklearn.metrics import f1_score\n",
        "from sklearn.utils import shuffle\n",
        "import imutils\n",
        "import numpy as np"
      ],
      "execution_count": null,
      "outputs": []
    },
    {
      "cell_type": "markdown",
      "metadata": {
        "id": "X4YJ2lJqNyHN"
      },
      "source": [
        "data preprocessing : augmentation using ImageDataGenerator()"
      ]
    },
    {
      "cell_type": "code",
      "metadata": {
        "id": "grsF45ACND1i"
      },
      "source": [
        "from keras.preprocessing.image import ImageDataGenerator,array_to_img,img_to_array,load_img\n",
        "import matplotlib as mt\n",
        "train_datagen=ImageDataGenerator()\n",
        "\n",
        "test_datagen= ImageDataGenerator(rescale=1./255)\n",
        "\n"
      ],
      "execution_count": null,
      "outputs": []
    },
    {
      "cell_type": "markdown",
      "metadata": {
        "id": "nry8uECxOcL4"
      },
      "source": [
        "importing the train and test data "
      ]
    },
    {
      "cell_type": "code",
      "metadata": {
        "id": "LVt37EfWND1j",
        "outputId": "fbccd64f-9b91-4f05-c9eb-579c0ee3776c"
      },
      "source": [
        "batch_size=10\n",
        "train_data=train_datagen.flow_from_directory(\n",
        "'C:/Users/Aafreen/Desktop/data/train/',\n",
        "target_size=(150,150),\n",
        "batch_size=batch_size,\n",
        "class_mode='binary')"
      ],
      "execution_count": null,
      "outputs": [
        {
          "output_type": "stream",
          "text": [
            "Found 711 images belonging to 2 classes.\n"
          ],
          "name": "stdout"
        }
      ]
    },
    {
      "cell_type": "code",
      "metadata": {
        "id": "pkCsK_pVND1l",
        "outputId": "f8a21e37-3ad3-4e0c-db8e-d9ee09c2b00e"
      },
      "source": [
        "test_data=test_datagen.flow_from_directory(\n",
        "'C:/Users/Aafreen/Desktop/data/test/',\n",
        "target_size=(150,150),\n",
        "batch_size=batch_size,\n",
        "class_mode='binary')"
      ],
      "execution_count": null,
      "outputs": [
        {
          "output_type": "stream",
          "text": [
            "Found 194 images belonging to 2 classes.\n"
          ],
          "name": "stdout"
        }
      ]
    },
    {
      "cell_type": "markdown",
      "metadata": {
        "id": "n_a78HvhPG2T"
      },
      "source": [
        "building our CNN architecture : a very simple 2 layer architecture"
      ]
    },
    {
      "cell_type": "code",
      "metadata": {
        "id": "b44mf8dSND1m"
      },
      "source": [
        "model = Sequential([\n",
        "    Conv2D(100, (3,3), activation='relu', input_shape=(150, 150, 3)),\n",
        "    MaxPooling2D(2,2),\n",
        "    \n",
        "    Conv2D(100, (3,3), activation='relu'),\n",
        "    MaxPooling2D(2,2),\n",
        "    \n",
        "    Flatten(),\n",
        "    Dropout(0.5),\n",
        "    Dense(50, activation='relu'),\n",
        "    Dense(2, activation='softmax')\n",
        "])"
      ],
      "execution_count": null,
      "outputs": []
    },
    {
      "cell_type": "code",
      "metadata": {
        "id": "IR54Bof6ND1m"
      },
      "source": [
        "model.compile(optimizer='adam', loss='binary_crossentropy', metrics=['acc'])"
      ],
      "execution_count": null,
      "outputs": []
    },
    {
      "cell_type": "code",
      "metadata": {
        "id": "8mdYRXvcND1n"
      },
      "source": [
        "checkpoint = ModelCheckpoint('model2-{epoch:03d}.model',monitor='val_loss',\n",
        "                             verbose=0,save_best_only=True,mode='auto')"
      ],
      "execution_count": null,
      "outputs": []
    },
    {
      "cell_type": "code",
      "metadata": {
        "id": "_mrRymy-ND1o",
        "outputId": "15067b59-8415-488b-ca5f-f14f32b97c92"
      },
      "source": [
        "histroy=model.fit_generator(\n",
        "                            train_data,steps_per_epoch=50//batch_size,epochs=10,\n",
        "                             validation_data=test_data,validation_steps=40//batch_size)"
      ],
      "execution_count": null,
      "outputs": [
        {
          "output_type": "stream",
          "text": [
            "Epoch 1/10\n",
            "5/5 [==============================] - 2s 463ms/step - loss: 7.6685 - acc: 0.5000 - val_loss: 7.6620 - val_acc: 0.5750\n",
            "Epoch 2/10\n",
            "5/5 [==============================] - 2s 448ms/step - loss: 7.6703 - acc: 0.4800 - val_loss: 7.6663 - val_acc: 0.5250\n",
            "Epoch 3/10\n",
            "5/5 [==============================] - 2s 458ms/step - loss: 7.6703 - acc: 0.4800 - val_loss: 7.6663 - val_acc: 0.5250\n",
            "Epoch 4/10\n",
            "5/5 [==============================] - 2s 453ms/step - loss: 7.6685 - acc: 0.5000 - val_loss: 7.6707 - val_acc: 0.4750\n",
            "Epoch 5/10\n",
            "5/5 [==============================] - 2s 477ms/step - loss: 7.6826 - acc: 0.3400 - val_loss: 7.6773 - val_acc: 0.4000\n",
            "Epoch 6/10\n",
            "5/5 [==============================] - 2s 383ms/step - loss: 7.6739 - acc: 0.4390 - val_loss: 7.6751 - val_acc: 0.4250\n",
            "Epoch 7/10\n",
            "5/5 [==============================] - 2s 454ms/step - loss: 7.6721 - acc: 0.4600 - val_loss: 7.6685 - val_acc: 0.5000\n",
            "Epoch 8/10\n",
            "5/5 [==============================] - 2s 452ms/step - loss: 7.6738 - acc: 0.4400 - val_loss: 7.6685 - val_acc: 0.5000\n",
            "Epoch 9/10\n",
            "5/5 [==============================] - 2s 464ms/step - loss: 7.6756 - acc: 0.4200 - val_loss: 7.6620 - val_acc: 0.5750\n",
            "Epoch 10/10\n",
            "5/5 [==============================] - 2s 476ms/step - loss: 7.6773 - acc: 0.4000 - val_loss: 7.6685 - val_acc: 0.5000\n"
          ],
          "name": "stdout"
        }
      ]
    },
    {
      "cell_type": "markdown",
      "metadata": {
        "id": "N-Dbc7VUPznS"
      },
      "source": [
        "stored the trained model in the following keras file "
      ]
    },
    {
      "cell_type": "code",
      "metadata": {
        "id": "xHFH0_nEND1q"
      },
      "source": [
        "model.save('mask_project.h5')"
      ],
      "execution_count": null,
      "outputs": []
    },
    {
      "cell_type": "markdown",
      "metadata": {
        "id": "rhuAhg6WQCPj"
      },
      "source": [
        "importing the OpenCV framework for testing our trained model in real time . Also making use of keras as interface for the TensorFlow library"
      ]
    },
    {
      "cell_type": "code",
      "metadata": {
        "id": "_gxwnB5-ND1q"
      },
      "source": [
        "import cv2\n",
        "import numpy as np\n",
        "from keras.models import load_model"
      ],
      "execution_count": null,
      "outputs": []
    },
    {
      "cell_type": "code",
      "metadata": {
        "id": "3zqhJ4O_ND1r"
      },
      "source": [
        "import tensorflow as tf"
      ],
      "execution_count": null,
      "outputs": []
    },
    {
      "cell_type": "code",
      "metadata": {
        "id": "HKF924eFND1r"
      },
      "source": [
        "model = tf.keras.models.load_model('mask_project.h5')"
      ],
      "execution_count": null,
      "outputs": []
    },
    {
      "cell_type": "markdown",
      "metadata": {
        "id": "nRZ8e8DwRRN4"
      },
      "source": [
        "We will implement our use case using the Haar Cascade classifier. Haar Cascade classifier is an effective object detection approach which was proposed by Paul Viola and Michael Jones."
      ]
    },
    {
      "cell_type": "markdown",
      "metadata": {
        "id": "tjthVlZ-RhoV"
      },
      "source": [
        "So how this works is they are huge individual .xml files with a lot of feature sets and each xml corresponds to a very specific type of use case. This particular xml file is then used extensively for detecting face"
      ]
    },
    {
      "cell_type": "code",
      "metadata": {
        "id": "LjbF_3IKND1s"
      },
      "source": [
        "import cv2\n",
        "import numpy as np\n",
        "from keras.models import load_model\n",
        "model = tf.keras.models.load_model('mask_project.h5')\n",
        "\n",
        "results={0:'without mask',1:'mask'}\n",
        "GR_dict={0:(0,0,255),1:(0,255,0)}\n",
        "\n",
        "rect_size = 4\n",
        "cap = cv2.VideoCapture(0) \n",
        "\n",
        "\n",
        "haarcascade = cv2.CascadeClassifier('haarcascade_frontalface_default.xml')\n",
        "\n",
        "while True:\n",
        "    (rval, im) = cap.read()\n",
        "    im=cv2.flip(im,1,1) \n",
        "\n",
        "    \n",
        "    rerect_size = cv2.resize(im, (im.shape[1] // rect_size, im.shape[0] // rect_size))\n",
        "    faces = haarcascade.detectMultiScale(rerect_size)\n",
        "    for f in faces:\n",
        "        (x, y, w, h) = [v * rect_size for v in f] \n",
        "        \n",
        "        face_img = im[y:y+h, x:x+w]\n",
        "        rerect_sized=cv2.resize(face_img,(150,150))\n",
        "        normalized=rerect_sized/255.0\n",
        "        reshaped=np.reshape(normalized,(1,150,150,3))\n",
        "        reshaped = np.vstack([reshaped])\n",
        "        result=model.predict(reshaped)\n",
        "\n",
        "        \n",
        "        label=np.argmax(result,axis=1)[0]\n",
        "      \n",
        "        cv2.rectangle(im,(x,y),(x+w,y+h),GR_dict[label],2)\n",
        "        cv2.rectangle(im,(x,y-40),(x+w,y),GR_dict[label],-1)\n",
        "        cv2.putText(im, results[label], (x, y-10),cv2.FONT_HERSHEY_SIMPLEX,0.8,(255,255,255),2)\n",
        "\n",
        "    cv2.imshow('LIVE',   im)\n",
        "    key = cv2.waitKey(10)\n",
        "    \n",
        "    if key == 27: \n",
        "        break\n",
        "\n",
        "cap.release()\n",
        "\n",
        "cv2.destroyAllWindows()"
      ],
      "execution_count": null,
      "outputs": []
    },
    {
      "cell_type": "markdown",
      "metadata": {
        "id": "2jgAY4WNSWl3"
      },
      "source": [
        "this project will help us detect through a video feed real time on whether a person is wearing a mask (1) or not wearing a mask (0)"
      ]
    }
  ]
}