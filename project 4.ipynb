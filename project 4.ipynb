{
  "nbformat": 4,
  "nbformat_minor": 0,
  "metadata": {
    "kernelspec": {
      "display_name": "Python 3",
      "language": "python",
      "name": "python3"
    },
    "language_info": {
      "codemirror_mode": {
        "name": "ipython",
        "version": 3
      },
      "file_extension": ".py",
      "mimetype": "text/x-python",
      "name": "python",
      "nbconvert_exporter": "python",
      "pygments_lexer": "ipython3",
      "version": "3.8.3"
    },
    "colab": {
      "name": "LU AI-ML Batch-1 Twitter Sentiment Analysis - Dr. Darshan Ingle.ipynb",
      "provenance": []
    }
  },
  "cells": [
    {
      "cell_type": "code",
      "metadata": {
        "id": "25REBtfr8aRt",
        "outputId": "a091bd85-730b-4d80-aa4a-ae07159d4982",
        "colab": {
          "base_uri": "https://localhost:8080/"
        }
      },
      "source": [
        "!pip install tweetpy"
      ],
      "execution_count": 1,
      "outputs": [
        {
          "output_type": "stream",
          "text": [
            "\u001b[31mERROR: Could not find a version that satisfies the requirement tweetpy (from versions: none)\u001b[0m\n",
            "\u001b[31mERROR: No matching distribution found for tweetpy\u001b[0m\n"
          ],
          "name": "stdout"
        }
      ]
    },
    {
      "cell_type": "code",
      "metadata": {
        "id": "LSBWbCSH8eac",
        "outputId": "a1829c6d-6773-42df-97a4-c35823dae431",
        "colab": {
          "base_uri": "https://localhost:8080/"
        }
      },
      "source": [
        "!pip install openpyxl"
      ],
      "execution_count": 2,
      "outputs": [
        {
          "output_type": "stream",
          "text": [
            "Requirement already satisfied: openpyxl in /usr/local/lib/python3.6/dist-packages (2.5.9)\n",
            "Requirement already satisfied: et-xmlfile in /usr/local/lib/python3.6/dist-packages (from openpyxl) (1.0.1)\n",
            "Requirement already satisfied: jdcal in /usr/local/lib/python3.6/dist-packages (from openpyxl) (1.4.1)\n"
          ],
          "name": "stdout"
        }
      ]
    },
    {
      "cell_type": "code",
      "metadata": {
        "id": "obYh-AesXZlp"
      },
      "source": [
        "import numpy as np\n",
        "import pandas as pd\n",
        "import tweepy\n",
        "import json\n",
        "from tweepy import OAuthHandler"
      ],
      "execution_count": 3,
      "outputs": []
    },
    {
      "cell_type": "markdown",
      "metadata": {
        "id": "B6sJtUEi9wGK"
      },
      "source": [
        "I have created a twitter developer account and it gave me the following keys:\n",
        "* API key: sdEH6ClPtazpI68DR6Zys3QLq\n",
        "* API secret key: OFTwwowRKoMGck8c1KJ5QEZgryZtj96MXvsVSAhrfN1C9rx6vI\n",
        "* Bearer token : AAAAAAAAAAAAAAAAAAAAAKTVJwEAAAAAyNH28ujymBLKZcfqfC9Vckmi7PE%3DDdVbY8Tr76N35W1i410kHba8a9BF3GxVfY6yXHQPB43AMWCV1O\n",
        "\n",
        "\n",
        "---\n",
        "Since i couldn't understand how to do this program without access token keys , I have continued using Darshan Sir's keys to run the program\n",
        "\n",
        "\n",
        "\n"
      ]
    },
    {
      "cell_type": "code",
      "metadata": {
        "id": "K0a0GKVjXZlp"
      },
      "source": [
        "consumer_key = \"LzsCOl12ZZ79FObx7BV9a1R3a\"\n",
        "consumer_secret = \"gODxZ1kHJHDGgYfyP12AUN37UTlDd6yn3OsSV9Tl0iwu0K0cRY\"\n",
        "access_token = \"296102538-kYIK8SULCmRK4vgvYD2DhKbwvSXrgTdTkWh0Nvsp\"\n",
        "access_token_secret = \"Ib9obwgcE5tZk4S6tY5rAqI5iXOeJc9FGFg28qHoa4YpP\""
      ],
      "execution_count": 4,
      "outputs": []
    },
    {
      "cell_type": "code",
      "metadata": {
        "id": "MpUUmROHXZlp"
      },
      "source": [
        "auth = tweepy.OAuthHandler( consumer_key , consumer_secret )\n",
        "auth.set_access_token( access_token , access_token_secret )\n",
        "api = tweepy.API(auth)"
      ],
      "execution_count": 5,
      "outputs": []
    },
    {
      "cell_type": "code",
      "metadata": {
        "id": "FhkDylDrXZlp"
      },
      "source": [
        "query = \"corona virus\""
      ],
      "execution_count": 6,
      "outputs": []
    },
    {
      "cell_type": "code",
      "metadata": {
        "id": "OzsAAMbIXZlp",
        "outputId": "03e455bf-4522-4932-936e-ae6b6d33d788",
        "colab": {
          "base_uri": "https://localhost:8080/"
        }
      },
      "source": [
        "Tweets = api.search( query , count=10 , lang='en' , exclude='retweets' , tweet_mode='extended' )\n",
        "# tweet_mode='extended'\n",
        "# tweet_mode='compat'\n",
        "\n",
        "for tweet in Tweets:\n",
        "    print(tweet,\"\\n\")\n",
        "    print(\".....................................\\n\")"
      ],
      "execution_count": 7,
      "outputs": [
        {
          "output_type": "stream",
          "text": [
            "Status(_api=<tweepy.api.API object at 0x7f9aa143aa58>, _json={'created_at': 'Sat Nov 21 13:26:37 +0000 2020', 'id': 1330140561186156544, 'id_str': '1330140561186156544', 'full_text': '@DrMuradPTI Student life matter close the school because if one person ( student ) sefers from corona then all the home will will sefer from the virus and is  dangerous for weak ammunity', 'truncated': False, 'display_text_range': [12, 186], 'entities': {'hashtags': [], 'symbols': [], 'user_mentions': [{'screen_name': 'DrMuradPTI', 'name': 'Murad Raas', 'id': 1317925608, 'id_str': '1317925608', 'indices': [0, 11]}], 'urls': []}, 'metadata': {'iso_language_code': 'en', 'result_type': 'recent'}, 'source': '<a href=\"http://twitter.com/download/android\" rel=\"nofollow\">Twitter for Android</a>', 'in_reply_to_status_id': 1330105364684083201, 'in_reply_to_status_id_str': '1330105364684083201', 'in_reply_to_user_id': 1317925608, 'in_reply_to_user_id_str': '1317925608', 'in_reply_to_screen_name': 'DrMuradPTI', 'user': {'id': 1321911392513961987, 'id_str': '1321911392513961987', 'name': 'Salih Azam', 'screen_name': 'SalihAzam2', 'location': '', 'description': '', 'url': None, 'entities': {'description': {'urls': []}}, 'protected': False, 'followers_count': 0, 'friends_count': 2, 'listed_count': 0, 'created_at': 'Thu Oct 29 20:27:02 +0000 2020', 'favourites_count': 1, 'utc_offset': None, 'time_zone': None, 'geo_enabled': False, 'verified': False, 'statuses_count': 2, 'lang': None, 'contributors_enabled': False, 'is_translator': False, 'is_translation_enabled': False, 'profile_background_color': 'F5F8FA', 'profile_background_image_url': None, 'profile_background_image_url_https': None, 'profile_background_tile': False, 'profile_image_url': 'http://pbs.twimg.com/profile_images/1321911674643881984/SwU6hFiy_normal.jpg', 'profile_image_url_https': 'https://pbs.twimg.com/profile_images/1321911674643881984/SwU6hFiy_normal.jpg', 'profile_link_color': '1DA1F2', 'profile_sidebar_border_color': 'C0DEED', 'profile_sidebar_fill_color': 'DDEEF6', 'profile_text_color': '333333', 'profile_use_background_image': True, 'has_extended_profile': True, 'default_profile': True, 'default_profile_image': False, 'following': False, 'follow_request_sent': False, 'notifications': False, 'translator_type': 'none'}, 'geo': None, 'coordinates': None, 'place': None, 'contributors': None, 'is_quote_status': False, 'retweet_count': 0, 'favorite_count': 0, 'favorited': False, 'retweeted': False, 'lang': 'en'}, created_at=datetime.datetime(2020, 11, 21, 13, 26, 37), id=1330140561186156544, id_str='1330140561186156544', full_text='@DrMuradPTI Student life matter close the school because if one person ( student ) sefers from corona then all the home will will sefer from the virus and is  dangerous for weak ammunity', truncated=False, display_text_range=[12, 186], entities={'hashtags': [], 'symbols': [], 'user_mentions': [{'screen_name': 'DrMuradPTI', 'name': 'Murad Raas', 'id': 1317925608, 'id_str': '1317925608', 'indices': [0, 11]}], 'urls': []}, metadata={'iso_language_code': 'en', 'result_type': 'recent'}, source='Twitter for Android', source_url='http://twitter.com/download/android', in_reply_to_status_id=1330105364684083201, in_reply_to_status_id_str='1330105364684083201', in_reply_to_user_id=1317925608, in_reply_to_user_id_str='1317925608', in_reply_to_screen_name='DrMuradPTI', author=User(_api=<tweepy.api.API object at 0x7f9aa143aa58>, _json={'id': 1321911392513961987, 'id_str': '1321911392513961987', 'name': 'Salih Azam', 'screen_name': 'SalihAzam2', 'location': '', 'description': '', 'url': None, 'entities': {'description': {'urls': []}}, 'protected': False, 'followers_count': 0, 'friends_count': 2, 'listed_count': 0, 'created_at': 'Thu Oct 29 20:27:02 +0000 2020', 'favourites_count': 1, 'utc_offset': None, 'time_zone': None, 'geo_enabled': False, 'verified': False, 'statuses_count': 2, 'lang': None, 'contributors_enabled': False, 'is_translator': False, 'is_translation_enabled': False, 'profile_background_color': 'F5F8FA', 'profile_background_image_url': None, 'profile_background_image_url_https': None, 'profile_background_tile': False, 'profile_image_url': 'http://pbs.twimg.com/profile_images/1321911674643881984/SwU6hFiy_normal.jpg', 'profile_image_url_https': 'https://pbs.twimg.com/profile_images/1321911674643881984/SwU6hFiy_normal.jpg', 'profile_link_color': '1DA1F2', 'profile_sidebar_border_color': 'C0DEED', 'profile_sidebar_fill_color': 'DDEEF6', 'profile_text_color': '333333', 'profile_use_background_image': True, 'has_extended_profile': True, 'default_profile': True, 'default_profile_image': False, 'following': False, 'follow_request_sent': False, 'notifications': False, 'translator_type': 'none'}, id=1321911392513961987, id_str='1321911392513961987', name='Salih Azam', screen_name='SalihAzam2', location='', description='', url=None, entities={'description': {'urls': []}}, protected=False, followers_count=0, friends_count=2, listed_count=0, created_at=datetime.datetime(2020, 10, 29, 20, 27, 2), favourites_count=1, utc_offset=None, time_zone=None, geo_enabled=False, verified=False, statuses_count=2, lang=None, contributors_enabled=False, is_translator=False, is_translation_enabled=False, profile_background_color='F5F8FA', profile_background_image_url=None, profile_background_image_url_https=None, profile_background_tile=False, profile_image_url='http://pbs.twimg.com/profile_images/1321911674643881984/SwU6hFiy_normal.jpg', profile_image_url_https='https://pbs.twimg.com/profile_images/1321911674643881984/SwU6hFiy_normal.jpg', profile_link_color='1DA1F2', profile_sidebar_border_color='C0DEED', profile_sidebar_fill_color='DDEEF6', profile_text_color='333333', profile_use_background_image=True, has_extended_profile=True, default_profile=True, default_profile_image=False, following=False, follow_request_sent=False, notifications=False, translator_type='none'), user=User(_api=<tweepy.api.API object at 0x7f9aa143aa58>, _json={'id': 1321911392513961987, 'id_str': '1321911392513961987', 'name': 'Salih Azam', 'screen_name': 'SalihAzam2', 'location': '', 'description': '', 'url': None, 'entities': {'description': {'urls': []}}, 'protected': False, 'followers_count': 0, 'friends_count': 2, 'listed_count': 0, 'created_at': 'Thu Oct 29 20:27:02 +0000 2020', 'favourites_count': 1, 'utc_offset': None, 'time_zone': None, 'geo_enabled': False, 'verified': False, 'statuses_count': 2, 'lang': None, 'contributors_enabled': False, 'is_translator': False, 'is_translation_enabled': False, 'profile_background_color': 'F5F8FA', 'profile_background_image_url': None, 'profile_background_image_url_https': None, 'profile_background_tile': False, 'profile_image_url': 'http://pbs.twimg.com/profile_images/1321911674643881984/SwU6hFiy_normal.jpg', 'profile_image_url_https': 'https://pbs.twimg.com/profile_images/1321911674643881984/SwU6hFiy_normal.jpg', 'profile_link_color': '1DA1F2', 'profile_sidebar_border_color': 'C0DEED', 'profile_sidebar_fill_color': 'DDEEF6', 'profile_text_color': '333333', 'profile_use_background_image': True, 'has_extended_profile': True, 'default_profile': True, 'default_profile_image': False, 'following': False, 'follow_request_sent': False, 'notifications': False, 'translator_type': 'none'}, id=1321911392513961987, id_str='1321911392513961987', name='Salih Azam', screen_name='SalihAzam2', location='', description='', url=None, entities={'description': {'urls': []}}, protected=False, followers_count=0, friends_count=2, listed_count=0, created_at=datetime.datetime(2020, 10, 29, 20, 27, 2), favourites_count=1, utc_offset=None, time_zone=None, geo_enabled=False, verified=False, statuses_count=2, lang=None, contributors_enabled=False, is_translator=False, is_translation_enabled=False, profile_background_color='F5F8FA', profile_background_image_url=None, profile_background_image_url_https=None, profile_background_tile=False, profile_image_url='http://pbs.twimg.com/profile_images/1321911674643881984/SwU6hFiy_normal.jpg', profile_image_url_https='https://pbs.twimg.com/profile_images/1321911674643881984/SwU6hFiy_normal.jpg', profile_link_color='1DA1F2', profile_sidebar_border_color='C0DEED', profile_sidebar_fill_color='DDEEF6', profile_text_color='333333', profile_use_background_image=True, has_extended_profile=True, default_profile=True, default_profile_image=False, following=False, follow_request_sent=False, notifications=False, translator_type='none'), geo=None, coordinates=None, place=None, contributors=None, is_quote_status=False, retweet_count=0, favorite_count=0, favorited=False, retweeted=False, lang='en') \n",
            "\n",
            ".....................................\n",
            "\n",
            "Status(_api=<tweepy.api.API object at 0x7f9aa143aa58>, _json={'created_at': 'Sat Nov 21 13:26:25 +0000 2020', 'id': 1330140513605914626, 'id_str': '1330140513605914626', 'full_text': 'Maybe some blunt talk about Corona virus and death will make folks think again about \"this virus cant keep our family apart\".\\nIt wont, but it could kill you and your loved ones. #Thanksgiving https://t.co/hqvndYefkY', 'truncated': False, 'display_text_range': [0, 191], 'entities': {'hashtags': [{'text': 'Thanksgiving', 'indices': [178, 191]}], 'symbols': [], 'user_mentions': [], 'urls': [{'url': 'https://t.co/hqvndYefkY', 'expanded_url': 'https://twitter.com/By_CJewett/status/1329848072231215106', 'display_url': 'twitter.com/By_CJewett/sta…', 'indices': [192, 215]}]}, 'metadata': {'iso_language_code': 'en', 'result_type': 'recent'}, 'source': '<a href=\"https://mobile.twitter.com\" rel=\"nofollow\">Twitter Web App</a>', 'in_reply_to_status_id': None, 'in_reply_to_status_id_str': None, 'in_reply_to_user_id': None, 'in_reply_to_user_id_str': None, 'in_reply_to_screen_name': None, 'user': {'id': 1114285507435999234, 'id_str': '1114285507435999234', 'name': 'SolarPatriotBoy2020', 'screen_name': 'Boy2020Patriot', 'location': '', 'description': \"Politics & renewable energy, Solar PV in particular. Let's debunk the false claims about Solar coming from the GOP, and offer insight into renewable energy.\", 'url': None, 'entities': {'description': {'urls': []}}, 'protected': False, 'followers_count': 369, 'friends_count': 791, 'listed_count': 2, 'created_at': 'Fri Apr 05 21:55:42 +0000 2019', 'favourites_count': 11561, 'utc_offset': None, 'time_zone': None, 'geo_enabled': False, 'verified': False, 'statuses_count': 18441, 'lang': None, 'contributors_enabled': False, 'is_translator': False, 'is_translation_enabled': False, 'profile_background_color': 'F5F8FA', 'profile_background_image_url': None, 'profile_background_image_url_https': None, 'profile_background_tile': False, 'profile_image_url': 'http://pbs.twimg.com/profile_images/1325594144555884545/iT_244ZH_normal.jpg', 'profile_image_url_https': 'https://pbs.twimg.com/profile_images/1325594144555884545/iT_244ZH_normal.jpg', 'profile_banner_url': 'https://pbs.twimg.com/profile_banners/1114285507435999234/1604881249', 'profile_link_color': '1DA1F2', 'profile_sidebar_border_color': 'C0DEED', 'profile_sidebar_fill_color': 'DDEEF6', 'profile_text_color': '333333', 'profile_use_background_image': True, 'has_extended_profile': False, 'default_profile': True, 'default_profile_image': False, 'following': False, 'follow_request_sent': False, 'notifications': False, 'translator_type': 'none'}, 'geo': None, 'coordinates': None, 'place': None, 'contributors': None, 'is_quote_status': True, 'quoted_status_id': 1329848072231215106, 'quoted_status_id_str': '1329848072231215106', 'quoted_status': {'created_at': 'Fri Nov 20 18:04:22 +0000 2020', 'id': 1329848072231215106, 'id_str': '1329848072231215106', 'full_text': \"Mississippi doctors aren't mincing words. \\n\\nAfter Big Thanksgiving Dinners, Plan Small Christmas Funerals, Health Experts Warn\\n\\nhttps://t.co/D3w4VPZDim\", 'truncated': False, 'display_text_range': [0, 151], 'entities': {'hashtags': [], 'symbols': [], 'user_mentions': [], 'urls': [{'url': 'https://t.co/D3w4VPZDim', 'expanded_url': 'https://bit.ly/3nJ49rg', 'display_url': 'bit.ly/3nJ49rg', 'indices': [128, 151]}]}, 'metadata': {'iso_language_code': 'en', 'result_type': 'recent'}, 'source': '<a href=\"https://mobile.twitter.com\" rel=\"nofollow\">Twitter Web App</a>', 'in_reply_to_status_id': None, 'in_reply_to_status_id_str': None, 'in_reply_to_user_id': None, 'in_reply_to_user_id_str': None, 'in_reply_to_screen_name': None, 'user': {'id': 72954989, 'id_str': '72954989', 'name': 'Christina Jewett', 'screen_name': 'By_CJewett', 'location': 'Sacramento', 'description': 'KHN reporter chronicling the lives of health care workers who die in #COVID19 pandemic. Alumna @Reveal & @ProPublica. Boy mom. Tips? christinaj@kff.org DMs open', 'url': 'https://t.co/9s8YWJjCs8', 'entities': {'url': {'urls': [{'url': 'https://t.co/9s8YWJjCs8', 'expanded_url': 'http://www.khn.org', 'display_url': 'khn.org', 'indices': [0, 23]}]}, 'description': {'urls': []}}, 'protected': False, 'followers_count': 6867, 'friends_count': 5305, 'listed_count': 440, 'created_at': 'Wed Sep 09 21:24:27 +0000 2009', 'favourites_count': 1192, 'utc_offset': None, 'time_zone': None, 'geo_enabled': False, 'verified': True, 'statuses_count': 5370, 'lang': None, 'contributors_enabled': False, 'is_translator': False, 'is_translation_enabled': False, 'profile_background_color': '000000', 'profile_background_image_url': 'http://abs.twimg.com/images/themes/theme18/bg.gif', 'profile_background_image_url_https': 'https://abs.twimg.com/images/themes/theme18/bg.gif', 'profile_background_tile': False, 'profile_image_url': 'http://pbs.twimg.com/profile_images/558689214347239427/J-HJdU7A_normal.jpeg', 'profile_image_url_https': 'https://pbs.twimg.com/profile_images/558689214347239427/J-HJdU7A_normal.jpeg', 'profile_link_color': '4A913C', 'profile_sidebar_border_color': '000000', 'profile_sidebar_fill_color': '000000', 'profile_text_color': '000000', 'profile_use_background_image': False, 'has_extended_profile': False, 'default_profile': False, 'default_profile_image': False, 'following': False, 'follow_request_sent': False, 'notifications': False, 'translator_type': 'none'}, 'geo': None, 'coordinates': None, 'place': None, 'contributors': None, 'is_quote_status': False, 'retweet_count': 106, 'favorite_count': 237, 'favorited': False, 'retweeted': False, 'possibly_sensitive': False, 'lang': 'en'}, 'retweet_count': 0, 'favorite_count': 0, 'favorited': False, 'retweeted': False, 'possibly_sensitive': False, 'lang': 'en'}, created_at=datetime.datetime(2020, 11, 21, 13, 26, 25), id=1330140513605914626, id_str='1330140513605914626', full_text='Maybe some blunt talk about Corona virus and death will make folks think again about \"this virus cant keep our family apart\".\\nIt wont, but it could kill you and your loved ones. #Thanksgiving https://t.co/hqvndYefkY', truncated=False, display_text_range=[0, 191], entities={'hashtags': [{'text': 'Thanksgiving', 'indices': [178, 191]}], 'symbols': [], 'user_mentions': [], 'urls': [{'url': 'https://t.co/hqvndYefkY', 'expanded_url': 'https://twitter.com/By_CJewett/status/1329848072231215106', 'display_url': 'twitter.com/By_CJewett/sta…', 'indices': [192, 215]}]}, metadata={'iso_language_code': 'en', 'result_type': 'recent'}, source='Twitter Web App', source_url='https://mobile.twitter.com', in_reply_to_status_id=None, in_reply_to_status_id_str=None, in_reply_to_user_id=None, in_reply_to_user_id_str=None, in_reply_to_screen_name=None, author=User(_api=<tweepy.api.API object at 0x7f9aa143aa58>, _json={'id': 1114285507435999234, 'id_str': '1114285507435999234', 'name': 'SolarPatriotBoy2020', 'screen_name': 'Boy2020Patriot', 'location': '', 'description': \"Politics & renewable energy, Solar PV in particular. Let's debunk the false claims about Solar coming from the GOP, and offer insight into renewable energy.\", 'url': None, 'entities': {'description': {'urls': []}}, 'protected': False, 'followers_count': 369, 'friends_count': 791, 'listed_count': 2, 'created_at': 'Fri Apr 05 21:55:42 +0000 2019', 'favourites_count': 11561, 'utc_offset': None, 'time_zone': None, 'geo_enabled': False, 'verified': False, 'statuses_count': 18441, 'lang': None, 'contributors_enabled': False, 'is_translator': False, 'is_translation_enabled': False, 'profile_background_color': 'F5F8FA', 'profile_background_image_url': None, 'profile_background_image_url_https': None, 'profile_background_tile': False, 'profile_image_url': 'http://pbs.twimg.com/profile_images/1325594144555884545/iT_244ZH_normal.jpg', 'profile_image_url_https': 'https://pbs.twimg.com/profile_images/1325594144555884545/iT_244ZH_normal.jpg', 'profile_banner_url': 'https://pbs.twimg.com/profile_banners/1114285507435999234/1604881249', 'profile_link_color': '1DA1F2', 'profile_sidebar_border_color': 'C0DEED', 'profile_sidebar_fill_color': 'DDEEF6', 'profile_text_color': '333333', 'profile_use_background_image': True, 'has_extended_profile': False, 'default_profile': True, 'default_profile_image': False, 'following': False, 'follow_request_sent': False, 'notifications': False, 'translator_type': 'none'}, id=1114285507435999234, id_str='1114285507435999234', name='SolarPatriotBoy2020', screen_name='Boy2020Patriot', location='', description=\"Politics & renewable energy, Solar PV in particular. Let's debunk the false claims about Solar coming from the GOP, and offer insight into renewable energy.\", url=None, entities={'description': {'urls': []}}, protected=False, followers_count=369, friends_count=791, listed_count=2, created_at=datetime.datetime(2019, 4, 5, 21, 55, 42), favourites_count=11561, utc_offset=None, time_zone=None, geo_enabled=False, verified=False, statuses_count=18441, lang=None, contributors_enabled=False, is_translator=False, is_translation_enabled=False, profile_background_color='F5F8FA', profile_background_image_url=None, profile_background_image_url_https=None, profile_background_tile=False, profile_image_url='http://pbs.twimg.com/profile_images/1325594144555884545/iT_244ZH_normal.jpg', profile_image_url_https='https://pbs.twimg.com/profile_images/1325594144555884545/iT_244ZH_normal.jpg', profile_banner_url='https://pbs.twimg.com/profile_banners/1114285507435999234/1604881249', profile_link_color='1DA1F2', profile_sidebar_border_color='C0DEED', profile_sidebar_fill_color='DDEEF6', profile_text_color='333333', profile_use_background_image=True, has_extended_profile=False, default_profile=True, default_profile_image=False, following=False, follow_request_sent=False, notifications=False, translator_type='none'), user=User(_api=<tweepy.api.API object at 0x7f9aa143aa58>, _json={'id': 1114285507435999234, 'id_str': '1114285507435999234', 'name': 'SolarPatriotBoy2020', 'screen_name': 'Boy2020Patriot', 'location': '', 'description': \"Politics & renewable energy, Solar PV in particular. Let's debunk the false claims about Solar coming from the GOP, and offer insight into renewable energy.\", 'url': None, 'entities': {'description': {'urls': []}}, 'protected': False, 'followers_count': 369, 'friends_count': 791, 'listed_count': 2, 'created_at': 'Fri Apr 05 21:55:42 +0000 2019', 'favourites_count': 11561, 'utc_offset': None, 'time_zone': None, 'geo_enabled': False, 'verified': False, 'statuses_count': 18441, 'lang': None, 'contributors_enabled': False, 'is_translator': False, 'is_translation_enabled': False, 'profile_background_color': 'F5F8FA', 'profile_background_image_url': None, 'profile_background_image_url_https': None, 'profile_background_tile': False, 'profile_image_url': 'http://pbs.twimg.com/profile_images/1325594144555884545/iT_244ZH_normal.jpg', 'profile_image_url_https': 'https://pbs.twimg.com/profile_images/1325594144555884545/iT_244ZH_normal.jpg', 'profile_banner_url': 'https://pbs.twimg.com/profile_banners/1114285507435999234/1604881249', 'profile_link_color': '1DA1F2', 'profile_sidebar_border_color': 'C0DEED', 'profile_sidebar_fill_color': 'DDEEF6', 'profile_text_color': '333333', 'profile_use_background_image': True, 'has_extended_profile': False, 'default_profile': True, 'default_profile_image': False, 'following': False, 'follow_request_sent': False, 'notifications': False, 'translator_type': 'none'}, id=1114285507435999234, id_str='1114285507435999234', name='SolarPatriotBoy2020', screen_name='Boy2020Patriot', location='', description=\"Politics & renewable energy, Solar PV in particular. Let's debunk the false claims about Solar coming from the GOP, and offer insight into renewable energy.\", url=None, entities={'description': {'urls': []}}, protected=False, followers_count=369, friends_count=791, listed_count=2, created_at=datetime.datetime(2019, 4, 5, 21, 55, 42), favourites_count=11561, utc_offset=None, time_zone=None, geo_enabled=False, verified=False, statuses_count=18441, lang=None, contributors_enabled=False, is_translator=False, is_translation_enabled=False, profile_background_color='F5F8FA', profile_background_image_url=None, profile_background_image_url_https=None, profile_background_tile=False, profile_image_url='http://pbs.twimg.com/profile_images/1325594144555884545/iT_244ZH_normal.jpg', profile_image_url_https='https://pbs.twimg.com/profile_images/1325594144555884545/iT_244ZH_normal.jpg', profile_banner_url='https://pbs.twimg.com/profile_banners/1114285507435999234/1604881249', profile_link_color='1DA1F2', profile_sidebar_border_color='C0DEED', profile_sidebar_fill_color='DDEEF6', profile_text_color='333333', profile_use_background_image=True, has_extended_profile=False, default_profile=True, default_profile_image=False, following=False, follow_request_sent=False, notifications=False, translator_type='none'), geo=None, coordinates=None, place=None, contributors=None, is_quote_status=True, quoted_status_id=1329848072231215106, quoted_status_id_str='1329848072231215106', quoted_status=Status(_api=<tweepy.api.API object at 0x7f9aa143aa58>, _json={'created_at': 'Fri Nov 20 18:04:22 +0000 2020', 'id': 1329848072231215106, 'id_str': '1329848072231215106', 'full_text': \"Mississippi doctors aren't mincing words. \\n\\nAfter Big Thanksgiving Dinners, Plan Small Christmas Funerals, Health Experts Warn\\n\\nhttps://t.co/D3w4VPZDim\", 'truncated': False, 'display_text_range': [0, 151], 'entities': {'hashtags': [], 'symbols': [], 'user_mentions': [], 'urls': [{'url': 'https://t.co/D3w4VPZDim', 'expanded_url': 'https://bit.ly/3nJ49rg', 'display_url': 'bit.ly/3nJ49rg', 'indices': [128, 151]}]}, 'metadata': {'iso_language_code': 'en', 'result_type': 'recent'}, 'source': '<a href=\"https://mobile.twitter.com\" rel=\"nofollow\">Twitter Web App</a>', 'in_reply_to_status_id': None, 'in_reply_to_status_id_str': None, 'in_reply_to_user_id': None, 'in_reply_to_user_id_str': None, 'in_reply_to_screen_name': None, 'user': {'id': 72954989, 'id_str': '72954989', 'name': 'Christina Jewett', 'screen_name': 'By_CJewett', 'location': 'Sacramento', 'description': 'KHN reporter chronicling the lives of health care workers who die in #COVID19 pandemic. Alumna @Reveal & @ProPublica. Boy mom. Tips? christinaj@kff.org DMs open', 'url': 'https://t.co/9s8YWJjCs8', 'entities': {'url': {'urls': [{'url': 'https://t.co/9s8YWJjCs8', 'expanded_url': 'http://www.khn.org', 'display_url': 'khn.org', 'indices': [0, 23]}]}, 'description': {'urls': []}}, 'protected': False, 'followers_count': 6867, 'friends_count': 5305, 'listed_count': 440, 'created_at': 'Wed Sep 09 21:24:27 +0000 2009', 'favourites_count': 1192, 'utc_offset': None, 'time_zone': None, 'geo_enabled': False, 'verified': True, 'statuses_count': 5370, 'lang': None, 'contributors_enabled': False, 'is_translator': False, 'is_translation_enabled': False, 'profile_background_color': '000000', 'profile_background_image_url': 'http://abs.twimg.com/images/themes/theme18/bg.gif', 'profile_background_image_url_https': 'https://abs.twimg.com/images/themes/theme18/bg.gif', 'profile_background_tile': False, 'profile_image_url': 'http://pbs.twimg.com/profile_images/558689214347239427/J-HJdU7A_normal.jpeg', 'profile_image_url_https': 'https://pbs.twimg.com/profile_images/558689214347239427/J-HJdU7A_normal.jpeg', 'profile_link_color': '4A913C', 'profile_sidebar_border_color': '000000', 'profile_sidebar_fill_color': '000000', 'profile_text_color': '000000', 'profile_use_background_image': False, 'has_extended_profile': False, 'default_profile': False, 'default_profile_image': False, 'following': False, 'follow_request_sent': False, 'notifications': False, 'translator_type': 'none'}, 'geo': None, 'coordinates': None, 'place': None, 'contributors': None, 'is_quote_status': False, 'retweet_count': 106, 'favorite_count': 237, 'favorited': False, 'retweeted': False, 'possibly_sensitive': False, 'lang': 'en'}, created_at=datetime.datetime(2020, 11, 20, 18, 4, 22), id=1329848072231215106, id_str='1329848072231215106', full_text=\"Mississippi doctors aren't mincing words. \\n\\nAfter Big Thanksgiving Dinners, Plan Small Christmas Funerals, Health Experts Warn\\n\\nhttps://t.co/D3w4VPZDim\", truncated=False, display_text_range=[0, 151], entities={'hashtags': [], 'symbols': [], 'user_mentions': [], 'urls': [{'url': 'https://t.co/D3w4VPZDim', 'expanded_url': 'https://bit.ly/3nJ49rg', 'display_url': 'bit.ly/3nJ49rg', 'indices': [128, 151]}]}, metadata={'iso_language_code': 'en', 'result_type': 'recent'}, source='Twitter Web App', source_url='https://mobile.twitter.com', in_reply_to_status_id=None, in_reply_to_status_id_str=None, in_reply_to_user_id=None, in_reply_to_user_id_str=None, in_reply_to_screen_name=None, author=User(_api=<tweepy.api.API object at 0x7f9aa143aa58>, _json={'id': 72954989, 'id_str': '72954989', 'name': 'Christina Jewett', 'screen_name': 'By_CJewett', 'location': 'Sacramento', 'description': 'KHN reporter chronicling the lives of health care workers who die in #COVID19 pandemic. Alumna @Reveal & @ProPublica. Boy mom. Tips? christinaj@kff.org DMs open', 'url': 'https://t.co/9s8YWJjCs8', 'entities': {'url': {'urls': [{'url': 'https://t.co/9s8YWJjCs8', 'expanded_url': 'http://www.khn.org', 'display_url': 'khn.org', 'indices': [0, 23]}]}, 'description': {'urls': []}}, 'protected': False, 'followers_count': 6867, 'friends_count': 5305, 'listed_count': 440, 'created_at': 'Wed Sep 09 21:24:27 +0000 2009', 'favourites_count': 1192, 'utc_offset': None, 'time_zone': None, 'geo_enabled': False, 'verified': True, 'statuses_count': 5370, 'lang': None, 'contributors_enabled': False, 'is_translator': False, 'is_translation_enabled': False, 'profile_background_color': '000000', 'profile_background_image_url': 'http://abs.twimg.com/images/themes/theme18/bg.gif', 'profile_background_image_url_https': 'https://abs.twimg.com/images/themes/theme18/bg.gif', 'profile_background_tile': False, 'profile_image_url': 'http://pbs.twimg.com/profile_images/558689214347239427/J-HJdU7A_normal.jpeg', 'profile_image_url_https': 'https://pbs.twimg.com/profile_images/558689214347239427/J-HJdU7A_normal.jpeg', 'profile_link_color': '4A913C', 'profile_sidebar_border_color': '000000', 'profile_sidebar_fill_color': '000000', 'profile_text_color': '000000', 'profile_use_background_image': False, 'has_extended_profile': False, 'default_profile': False, 'default_profile_image': False, 'following': False, 'follow_request_sent': False, 'notifications': False, 'translator_type': 'none'}, id=72954989, id_str='72954989', name='Christina Jewett', screen_name='By_CJewett', location='Sacramento', description='KHN reporter chronicling the lives of health care workers who die in #COVID19 pandemic. Alumna @Reveal & @ProPublica. Boy mom. Tips? christinaj@kff.org DMs open', url='https://t.co/9s8YWJjCs8', entities={'url': {'urls': [{'url': 'https://t.co/9s8YWJjCs8', 'expanded_url': 'http://www.khn.org', 'display_url': 'khn.org', 'indices': [0, 23]}]}, 'description': {'urls': []}}, protected=False, followers_count=6867, friends_count=5305, listed_count=440, created_at=datetime.datetime(2009, 9, 9, 21, 24, 27), favourites_count=1192, utc_offset=None, time_zone=None, geo_enabled=False, verified=True, statuses_count=5370, lang=None, contributors_enabled=False, is_translator=False, is_translation_enabled=False, profile_background_color='000000', profile_background_image_url='http://abs.twimg.com/images/themes/theme18/bg.gif', profile_background_image_url_https='https://abs.twimg.com/images/themes/theme18/bg.gif', profile_background_tile=False, profile_image_url='http://pbs.twimg.com/profile_images/558689214347239427/J-HJdU7A_normal.jpeg', profile_image_url_https='https://pbs.twimg.com/profile_images/558689214347239427/J-HJdU7A_normal.jpeg', profile_link_color='4A913C', profile_sidebar_border_color='000000', profile_sidebar_fill_color='000000', profile_text_color='000000', profile_use_background_image=False, has_extended_profile=False, default_profile=False, default_profile_image=False, following=False, follow_request_sent=False, notifications=False, translator_type='none'), user=User(_api=<tweepy.api.API object at 0x7f9aa143aa58>, _json={'id': 72954989, 'id_str': '72954989', 'name': 'Christina Jewett', 'screen_name': 'By_CJewett', 'location': 'Sacramento', 'description': 'KHN reporter chronicling the lives of health care workers who die in #COVID19 pandemic. Alumna @Reveal & @ProPublica. Boy mom. Tips? christinaj@kff.org DMs open', 'url': 'https://t.co/9s8YWJjCs8', 'entities': {'url': {'urls': [{'url': 'https://t.co/9s8YWJjCs8', 'expanded_url': 'http://www.khn.org', 'display_url': 'khn.org', 'indices': [0, 23]}]}, 'description': {'urls': []}}, 'protected': False, 'followers_count': 6867, 'friends_count': 5305, 'listed_count': 440, 'created_at': 'Wed Sep 09 21:24:27 +0000 2009', 'favourites_count': 1192, 'utc_offset': None, 'time_zone': None, 'geo_enabled': False, 'verified': True, 'statuses_count': 5370, 'lang': None, 'contributors_enabled': False, 'is_translator': False, 'is_translation_enabled': False, 'profile_background_color': '000000', 'profile_background_image_url': 'http://abs.twimg.com/images/themes/theme18/bg.gif', 'profile_background_image_url_https': 'https://abs.twimg.com/images/themes/theme18/bg.gif', 'profile_background_tile': False, 'profile_image_url': 'http://pbs.twimg.com/profile_images/558689214347239427/J-HJdU7A_normal.jpeg', 'profile_image_url_https': 'https://pbs.twimg.com/profile_images/558689214347239427/J-HJdU7A_normal.jpeg', 'profile_link_color': '4A913C', 'profile_sidebar_border_color': '000000', 'profile_sidebar_fill_color': '000000', 'profile_text_color': '000000', 'profile_use_background_image': False, 'has_extended_profile': False, 'default_profile': False, 'default_profile_image': False, 'following': False, 'follow_request_sent': False, 'notifications': False, 'translator_type': 'none'}, id=72954989, id_str='72954989', name='Christina Jewett', screen_name='By_CJewett', location='Sacramento', description='KHN reporter chronicling the lives of health care workers who die in #COVID19 pandemic. Alumna @Reveal & @ProPublica. Boy mom. Tips? christinaj@kff.org DMs open', url='https://t.co/9s8YWJjCs8', entities={'url': {'urls': [{'url': 'https://t.co/9s8YWJjCs8', 'expanded_url': 'http://www.khn.org', 'display_url': 'khn.org', 'indices': [0, 23]}]}, 'description': {'urls': []}}, protected=False, followers_count=6867, friends_count=5305, listed_count=440, created_at=datetime.datetime(2009, 9, 9, 21, 24, 27), favourites_count=1192, utc_offset=None, time_zone=None, geo_enabled=False, verified=True, statuses_count=5370, lang=None, contributors_enabled=False, is_translator=False, is_translation_enabled=False, profile_background_color='000000', profile_background_image_url='http://abs.twimg.com/images/themes/theme18/bg.gif', profile_background_image_url_https='https://abs.twimg.com/images/themes/theme18/bg.gif', profile_background_tile=False, profile_image_url='http://pbs.twimg.com/profile_images/558689214347239427/J-HJdU7A_normal.jpeg', profile_image_url_https='https://pbs.twimg.com/profile_images/558689214347239427/J-HJdU7A_normal.jpeg', profile_link_color='4A913C', profile_sidebar_border_color='000000', profile_sidebar_fill_color='000000', profile_text_color='000000', profile_use_background_image=False, has_extended_profile=False, default_profile=False, default_profile_image=False, following=False, follow_request_sent=False, notifications=False, translator_type='none'), geo=None, coordinates=None, place=None, contributors=None, is_quote_status=False, retweet_count=106, favorite_count=237, favorited=False, retweeted=False, possibly_sensitive=False, lang='en'), retweet_count=0, favorite_count=0, favorited=False, retweeted=False, possibly_sensitive=False, lang='en') \n",
            "\n",
            ".....................................\n",
            "\n",
            "Status(_api=<tweepy.api.API object at 0x7f9aa143aa58>, _json={'created_at': 'Sat Nov 21 13:25:53 +0000 2020', 'id': 1330140379031740418, 'id_str': '1330140379031740418', 'full_text': '@DrMuradPTI please look into the NMDCAT being held on 29th November. 2 lac students are appearing in the test from all over PK with at least 5000 students in one centre, it will cause a huge spread of corona virus. The test should be delayed until cases go down.', 'truncated': False, 'display_text_range': [12, 262], 'entities': {'hashtags': [], 'symbols': [], 'user_mentions': [{'screen_name': 'DrMuradPTI', 'name': 'Murad Raas', 'id': 1317925608, 'id_str': '1317925608', 'indices': [0, 11]}], 'urls': []}, 'metadata': {'iso_language_code': 'en', 'result_type': 'recent'}, 'source': '<a href=\"http://twitter.com/download/iphone\" rel=\"nofollow\">Twitter for iPhone</a>', 'in_reply_to_status_id': 1330105364684083201, 'in_reply_to_status_id_str': '1330105364684083201', 'in_reply_to_user_id': 1317925608, 'in_reply_to_user_id_str': '1317925608', 'in_reply_to_screen_name': 'DrMuradPTI', 'user': {'id': 1319577468072828928, 'id_str': '1319577468072828928', 'name': 'Adeel Rashad', 'screen_name': 'RashadAdeel', 'location': '', 'description': 'peace', 'url': None, 'entities': {'description': {'urls': []}}, 'protected': False, 'followers_count': 3, 'friends_count': 17, 'listed_count': 0, 'created_at': 'Fri Oct 23 09:52:50 +0000 2020', 'favourites_count': 398, 'utc_offset': None, 'time_zone': None, 'geo_enabled': False, 'verified': False, 'statuses_count': 162, 'lang': None, 'contributors_enabled': False, 'is_translator': False, 'is_translation_enabled': False, 'profile_background_color': 'F5F8FA', 'profile_background_image_url': None, 'profile_background_image_url_https': None, 'profile_background_tile': False, 'profile_image_url': 'http://pbs.twimg.com/profile_images/1319577584103993345/YuzP7Igc_normal.jpg', 'profile_image_url_https': 'https://pbs.twimg.com/profile_images/1319577584103993345/YuzP7Igc_normal.jpg', 'profile_link_color': '1DA1F2', 'profile_sidebar_border_color': 'C0DEED', 'profile_sidebar_fill_color': 'DDEEF6', 'profile_text_color': '333333', 'profile_use_background_image': True, 'has_extended_profile': True, 'default_profile': True, 'default_profile_image': False, 'following': False, 'follow_request_sent': False, 'notifications': False, 'translator_type': 'none'}, 'geo': None, 'coordinates': None, 'place': None, 'contributors': None, 'is_quote_status': False, 'retweet_count': 0, 'favorite_count': 0, 'favorited': False, 'retweeted': False, 'lang': 'en'}, created_at=datetime.datetime(2020, 11, 21, 13, 25, 53), id=1330140379031740418, id_str='1330140379031740418', full_text='@DrMuradPTI please look into the NMDCAT being held on 29th November. 2 lac students are appearing in the test from all over PK with at least 5000 students in one centre, it will cause a huge spread of corona virus. The test should be delayed until cases go down.', truncated=False, display_text_range=[12, 262], entities={'hashtags': [], 'symbols': [], 'user_mentions': [{'screen_name': 'DrMuradPTI', 'name': 'Murad Raas', 'id': 1317925608, 'id_str': '1317925608', 'indices': [0, 11]}], 'urls': []}, metadata={'iso_language_code': 'en', 'result_type': 'recent'}, source='Twitter for iPhone', source_url='http://twitter.com/download/iphone', in_reply_to_status_id=1330105364684083201, in_reply_to_status_id_str='1330105364684083201', in_reply_to_user_id=1317925608, in_reply_to_user_id_str='1317925608', in_reply_to_screen_name='DrMuradPTI', author=User(_api=<tweepy.api.API object at 0x7f9aa143aa58>, _json={'id': 1319577468072828928, 'id_str': '1319577468072828928', 'name': 'Adeel Rashad', 'screen_name': 'RashadAdeel', 'location': '', 'description': 'peace', 'url': None, 'entities': {'description': {'urls': []}}, 'protected': False, 'followers_count': 3, 'friends_count': 17, 'listed_count': 0, 'created_at': 'Fri Oct 23 09:52:50 +0000 2020', 'favourites_count': 398, 'utc_offset': None, 'time_zone': None, 'geo_enabled': False, 'verified': False, 'statuses_count': 162, 'lang': None, 'contributors_enabled': False, 'is_translator': False, 'is_translation_enabled': False, 'profile_background_color': 'F5F8FA', 'profile_background_image_url': None, 'profile_background_image_url_https': None, 'profile_background_tile': False, 'profile_image_url': 'http://pbs.twimg.com/profile_images/1319577584103993345/YuzP7Igc_normal.jpg', 'profile_image_url_https': 'https://pbs.twimg.com/profile_images/1319577584103993345/YuzP7Igc_normal.jpg', 'profile_link_color': '1DA1F2', 'profile_sidebar_border_color': 'C0DEED', 'profile_sidebar_fill_color': 'DDEEF6', 'profile_text_color': '333333', 'profile_use_background_image': True, 'has_extended_profile': True, 'default_profile': True, 'default_profile_image': False, 'following': False, 'follow_request_sent': False, 'notifications': False, 'translator_type': 'none'}, id=1319577468072828928, id_str='1319577468072828928', name='Adeel Rashad', screen_name='RashadAdeel', location='', description='peace', url=None, entities={'description': {'urls': []}}, protected=False, followers_count=3, friends_count=17, listed_count=0, created_at=datetime.datetime(2020, 10, 23, 9, 52, 50), favourites_count=398, utc_offset=None, time_zone=None, geo_enabled=False, verified=False, statuses_count=162, lang=None, contributors_enabled=False, is_translator=False, is_translation_enabled=False, profile_background_color='F5F8FA', profile_background_image_url=None, profile_background_image_url_https=None, profile_background_tile=False, profile_image_url='http://pbs.twimg.com/profile_images/1319577584103993345/YuzP7Igc_normal.jpg', profile_image_url_https='https://pbs.twimg.com/profile_images/1319577584103993345/YuzP7Igc_normal.jpg', profile_link_color='1DA1F2', profile_sidebar_border_color='C0DEED', profile_sidebar_fill_color='DDEEF6', profile_text_color='333333', profile_use_background_image=True, has_extended_profile=True, default_profile=True, default_profile_image=False, following=False, follow_request_sent=False, notifications=False, translator_type='none'), user=User(_api=<tweepy.api.API object at 0x7f9aa143aa58>, _json={'id': 1319577468072828928, 'id_str': '1319577468072828928', 'name': 'Adeel Rashad', 'screen_name': 'RashadAdeel', 'location': '', 'description': 'peace', 'url': None, 'entities': {'description': {'urls': []}}, 'protected': False, 'followers_count': 3, 'friends_count': 17, 'listed_count': 0, 'created_at': 'Fri Oct 23 09:52:50 +0000 2020', 'favourites_count': 398, 'utc_offset': None, 'time_zone': None, 'geo_enabled': False, 'verified': False, 'statuses_count': 162, 'lang': None, 'contributors_enabled': False, 'is_translator': False, 'is_translation_enabled': False, 'profile_background_color': 'F5F8FA', 'profile_background_image_url': None, 'profile_background_image_url_https': None, 'profile_background_tile': False, 'profile_image_url': 'http://pbs.twimg.com/profile_images/1319577584103993345/YuzP7Igc_normal.jpg', 'profile_image_url_https': 'https://pbs.twimg.com/profile_images/1319577584103993345/YuzP7Igc_normal.jpg', 'profile_link_color': '1DA1F2', 'profile_sidebar_border_color': 'C0DEED', 'profile_sidebar_fill_color': 'DDEEF6', 'profile_text_color': '333333', 'profile_use_background_image': True, 'has_extended_profile': True, 'default_profile': True, 'default_profile_image': False, 'following': False, 'follow_request_sent': False, 'notifications': False, 'translator_type': 'none'}, id=1319577468072828928, id_str='1319577468072828928', name='Adeel Rashad', screen_name='RashadAdeel', location='', description='peace', url=None, entities={'description': {'urls': []}}, protected=False, followers_count=3, friends_count=17, listed_count=0, created_at=datetime.datetime(2020, 10, 23, 9, 52, 50), favourites_count=398, utc_offset=None, time_zone=None, geo_enabled=False, verified=False, statuses_count=162, lang=None, contributors_enabled=False, is_translator=False, is_translation_enabled=False, profile_background_color='F5F8FA', profile_background_image_url=None, profile_background_image_url_https=None, profile_background_tile=False, profile_image_url='http://pbs.twimg.com/profile_images/1319577584103993345/YuzP7Igc_normal.jpg', profile_image_url_https='https://pbs.twimg.com/profile_images/1319577584103993345/YuzP7Igc_normal.jpg', profile_link_color='1DA1F2', profile_sidebar_border_color='C0DEED', profile_sidebar_fill_color='DDEEF6', profile_text_color='333333', profile_use_background_image=True, has_extended_profile=True, default_profile=True, default_profile_image=False, following=False, follow_request_sent=False, notifications=False, translator_type='none'), geo=None, coordinates=None, place=None, contributors=None, is_quote_status=False, retweet_count=0, favorite_count=0, favorited=False, retweeted=False, lang='en') \n",
            "\n",
            ".....................................\n",
            "\n",
            "Status(_api=<tweepy.api.API object at 0x7f9aa143aa58>, _json={'created_at': 'Sat Nov 21 13:25:53 +0000 2020', 'id': 1330140375995076609, 'id_str': '1330140375995076609', 'full_text': 'Corona Virus is hoax, people like by fears and will do anything to prevent fears. Are you afraid to die? Once you are alive you will die. Everyone is going to die. The fake news people just want to spread fears among people and that is the great division of humanity', 'truncated': False, 'display_text_range': [0, 266], 'entities': {'hashtags': [], 'symbols': [], 'user_mentions': [], 'urls': []}, 'metadata': {'iso_language_code': 'en', 'result_type': 'recent'}, 'source': '<a href=\"http://twitter.com/download/iphone\" rel=\"nofollow\">Twitter for iPhone</a>', 'in_reply_to_status_id': None, 'in_reply_to_status_id_str': None, 'in_reply_to_user_id': None, 'in_reply_to_user_id_str': None, 'in_reply_to_screen_name': None, 'user': {'id': 1211291317692616709, 'id_str': '1211291317692616709', 'name': 'kevin', 'screen_name': 'kevin42405581', 'location': '', 'description': '', 'url': None, 'entities': {'description': {'urls': []}}, 'protected': False, 'followers_count': 0, 'friends_count': 133, 'listed_count': 0, 'created_at': 'Sun Dec 29 14:22:34 +0000 2019', 'favourites_count': 3, 'utc_offset': None, 'time_zone': None, 'geo_enabled': False, 'verified': False, 'statuses_count': 36, 'lang': None, 'contributors_enabled': False, 'is_translator': False, 'is_translation_enabled': False, 'profile_background_color': 'F5F8FA', 'profile_background_image_url': None, 'profile_background_image_url_https': None, 'profile_background_tile': False, 'profile_image_url': 'http://abs.twimg.com/sticky/default_profile_images/default_profile_normal.png', 'profile_image_url_https': 'https://abs.twimg.com/sticky/default_profile_images/default_profile_normal.png', 'profile_link_color': '1DA1F2', 'profile_sidebar_border_color': 'C0DEED', 'profile_sidebar_fill_color': 'DDEEF6', 'profile_text_color': '333333', 'profile_use_background_image': True, 'has_extended_profile': False, 'default_profile': True, 'default_profile_image': True, 'following': False, 'follow_request_sent': False, 'notifications': False, 'translator_type': 'none'}, 'geo': None, 'coordinates': None, 'place': None, 'contributors': None, 'is_quote_status': False, 'retweet_count': 0, 'favorite_count': 0, 'favorited': False, 'retweeted': False, 'lang': 'en'}, created_at=datetime.datetime(2020, 11, 21, 13, 25, 53), id=1330140375995076609, id_str='1330140375995076609', full_text='Corona Virus is hoax, people like by fears and will do anything to prevent fears. Are you afraid to die? Once you are alive you will die. Everyone is going to die. The fake news people just want to spread fears among people and that is the great division of humanity', truncated=False, display_text_range=[0, 266], entities={'hashtags': [], 'symbols': [], 'user_mentions': [], 'urls': []}, metadata={'iso_language_code': 'en', 'result_type': 'recent'}, source='Twitter for iPhone', source_url='http://twitter.com/download/iphone', in_reply_to_status_id=None, in_reply_to_status_id_str=None, in_reply_to_user_id=None, in_reply_to_user_id_str=None, in_reply_to_screen_name=None, author=User(_api=<tweepy.api.API object at 0x7f9aa143aa58>, _json={'id': 1211291317692616709, 'id_str': '1211291317692616709', 'name': 'kevin', 'screen_name': 'kevin42405581', 'location': '', 'description': '', 'url': None, 'entities': {'description': {'urls': []}}, 'protected': False, 'followers_count': 0, 'friends_count': 133, 'listed_count': 0, 'created_at': 'Sun Dec 29 14:22:34 +0000 2019', 'favourites_count': 3, 'utc_offset': None, 'time_zone': None, 'geo_enabled': False, 'verified': False, 'statuses_count': 36, 'lang': None, 'contributors_enabled': False, 'is_translator': False, 'is_translation_enabled': False, 'profile_background_color': 'F5F8FA', 'profile_background_image_url': None, 'profile_background_image_url_https': None, 'profile_background_tile': False, 'profile_image_url': 'http://abs.twimg.com/sticky/default_profile_images/default_profile_normal.png', 'profile_image_url_https': 'https://abs.twimg.com/sticky/default_profile_images/default_profile_normal.png', 'profile_link_color': '1DA1F2', 'profile_sidebar_border_color': 'C0DEED', 'profile_sidebar_fill_color': 'DDEEF6', 'profile_text_color': '333333', 'profile_use_background_image': True, 'has_extended_profile': False, 'default_profile': True, 'default_profile_image': True, 'following': False, 'follow_request_sent': False, 'notifications': False, 'translator_type': 'none'}, id=1211291317692616709, id_str='1211291317692616709', name='kevin', screen_name='kevin42405581', location='', description='', url=None, entities={'description': {'urls': []}}, protected=False, followers_count=0, friends_count=133, listed_count=0, created_at=datetime.datetime(2019, 12, 29, 14, 22, 34), favourites_count=3, utc_offset=None, time_zone=None, geo_enabled=False, verified=False, statuses_count=36, lang=None, contributors_enabled=False, is_translator=False, is_translation_enabled=False, profile_background_color='F5F8FA', profile_background_image_url=None, profile_background_image_url_https=None, profile_background_tile=False, profile_image_url='http://abs.twimg.com/sticky/default_profile_images/default_profile_normal.png', profile_image_url_https='https://abs.twimg.com/sticky/default_profile_images/default_profile_normal.png', profile_link_color='1DA1F2', profile_sidebar_border_color='C0DEED', profile_sidebar_fill_color='DDEEF6', profile_text_color='333333', profile_use_background_image=True, has_extended_profile=False, default_profile=True, default_profile_image=True, following=False, follow_request_sent=False, notifications=False, translator_type='none'), user=User(_api=<tweepy.api.API object at 0x7f9aa143aa58>, _json={'id': 1211291317692616709, 'id_str': '1211291317692616709', 'name': 'kevin', 'screen_name': 'kevin42405581', 'location': '', 'description': '', 'url': None, 'entities': {'description': {'urls': []}}, 'protected': False, 'followers_count': 0, 'friends_count': 133, 'listed_count': 0, 'created_at': 'Sun Dec 29 14:22:34 +0000 2019', 'favourites_count': 3, 'utc_offset': None, 'time_zone': None, 'geo_enabled': False, 'verified': False, 'statuses_count': 36, 'lang': None, 'contributors_enabled': False, 'is_translator': False, 'is_translation_enabled': False, 'profile_background_color': 'F5F8FA', 'profile_background_image_url': None, 'profile_background_image_url_https': None, 'profile_background_tile': False, 'profile_image_url': 'http://abs.twimg.com/sticky/default_profile_images/default_profile_normal.png', 'profile_image_url_https': 'https://abs.twimg.com/sticky/default_profile_images/default_profile_normal.png', 'profile_link_color': '1DA1F2', 'profile_sidebar_border_color': 'C0DEED', 'profile_sidebar_fill_color': 'DDEEF6', 'profile_text_color': '333333', 'profile_use_background_image': True, 'has_extended_profile': False, 'default_profile': True, 'default_profile_image': True, 'following': False, 'follow_request_sent': False, 'notifications': False, 'translator_type': 'none'}, id=1211291317692616709, id_str='1211291317692616709', name='kevin', screen_name='kevin42405581', location='', description='', url=None, entities={'description': {'urls': []}}, protected=False, followers_count=0, friends_count=133, listed_count=0, created_at=datetime.datetime(2019, 12, 29, 14, 22, 34), favourites_count=3, utc_offset=None, time_zone=None, geo_enabled=False, verified=False, statuses_count=36, lang=None, contributors_enabled=False, is_translator=False, is_translation_enabled=False, profile_background_color='F5F8FA', profile_background_image_url=None, profile_background_image_url_https=None, profile_background_tile=False, profile_image_url='http://abs.twimg.com/sticky/default_profile_images/default_profile_normal.png', profile_image_url_https='https://abs.twimg.com/sticky/default_profile_images/default_profile_normal.png', profile_link_color='1DA1F2', profile_sidebar_border_color='C0DEED', profile_sidebar_fill_color='DDEEF6', profile_text_color='333333', profile_use_background_image=True, has_extended_profile=False, default_profile=True, default_profile_image=True, following=False, follow_request_sent=False, notifications=False, translator_type='none'), geo=None, coordinates=None, place=None, contributors=None, is_quote_status=False, retweet_count=0, favorite_count=0, favorited=False, retweeted=False, lang='en') \n",
            "\n",
            ".....................................\n",
            "\n",
            "Status(_api=<tweepy.api.API object at 0x7f9aa143aa58>, _json={'created_at': 'Sat Nov 21 13:25:35 +0000 2020', 'id': 1330140302003286016, 'id_str': '1330140302003286016', 'full_text': '@realDonaldTrump He doesn’t even have the Corona Virus!! It’s a Fake PR Stunt!!', 'truncated': False, 'display_text_range': [17, 79], 'entities': {'hashtags': [], 'symbols': [], 'user_mentions': [{'screen_name': 'realDonaldTrump', 'name': 'Donald J. Trump', 'id': 25073877, 'id_str': '25073877', 'indices': [0, 16]}], 'urls': []}, 'metadata': {'iso_language_code': 'en', 'result_type': 'recent'}, 'source': '<a href=\"http://twitter.com/download/iphone\" rel=\"nofollow\">Twitter for iPhone</a>', 'in_reply_to_status_id': 1330139233470844928, 'in_reply_to_status_id_str': '1330139233470844928', 'in_reply_to_user_id': 25073877, 'in_reply_to_user_id_str': '25073877', 'in_reply_to_screen_name': 'realDonaldTrump', 'user': {'id': 492645891, 'id_str': '492645891', 'name': 'Cheyanne Dakota', 'screen_name': 'CheyanneDakota1', 'location': 'USA', 'description': '', 'url': None, 'entities': {'description': {'urls': []}}, 'protected': False, 'followers_count': 5, 'friends_count': 54, 'listed_count': 0, 'created_at': 'Tue Feb 14 23:36:34 +0000 2012', 'favourites_count': 1649, 'utc_offset': None, 'time_zone': None, 'geo_enabled': False, 'verified': False, 'statuses_count': 952, 'lang': None, 'contributors_enabled': False, 'is_translator': False, 'is_translation_enabled': False, 'profile_background_color': 'C0DEED', 'profile_background_image_url': 'http://abs.twimg.com/images/themes/theme1/bg.png', 'profile_background_image_url_https': 'https://abs.twimg.com/images/themes/theme1/bg.png', 'profile_background_tile': False, 'profile_image_url': 'http://pbs.twimg.com/profile_images/1318638587886305282/-7geqrKs_normal.jpg', 'profile_image_url_https': 'https://pbs.twimg.com/profile_images/1318638587886305282/-7geqrKs_normal.jpg', 'profile_banner_url': 'https://pbs.twimg.com/profile_banners/492645891/1603222863', 'profile_link_color': '1DA1F2', 'profile_sidebar_border_color': 'C0DEED', 'profile_sidebar_fill_color': 'DDEEF6', 'profile_text_color': '333333', 'profile_use_background_image': True, 'has_extended_profile': False, 'default_profile': True, 'default_profile_image': False, 'following': False, 'follow_request_sent': False, 'notifications': False, 'translator_type': 'none'}, 'geo': None, 'coordinates': None, 'place': None, 'contributors': None, 'is_quote_status': False, 'retweet_count': 0, 'favorite_count': 0, 'favorited': False, 'retweeted': False, 'lang': 'en'}, created_at=datetime.datetime(2020, 11, 21, 13, 25, 35), id=1330140302003286016, id_str='1330140302003286016', full_text='@realDonaldTrump He doesn’t even have the Corona Virus!! It’s a Fake PR Stunt!!', truncated=False, display_text_range=[17, 79], entities={'hashtags': [], 'symbols': [], 'user_mentions': [{'screen_name': 'realDonaldTrump', 'name': 'Donald J. Trump', 'id': 25073877, 'id_str': '25073877', 'indices': [0, 16]}], 'urls': []}, metadata={'iso_language_code': 'en', 'result_type': 'recent'}, source='Twitter for iPhone', source_url='http://twitter.com/download/iphone', in_reply_to_status_id=1330139233470844928, in_reply_to_status_id_str='1330139233470844928', in_reply_to_user_id=25073877, in_reply_to_user_id_str='25073877', in_reply_to_screen_name='realDonaldTrump', author=User(_api=<tweepy.api.API object at 0x7f9aa143aa58>, _json={'id': 492645891, 'id_str': '492645891', 'name': 'Cheyanne Dakota', 'screen_name': 'CheyanneDakota1', 'location': 'USA', 'description': '', 'url': None, 'entities': {'description': {'urls': []}}, 'protected': False, 'followers_count': 5, 'friends_count': 54, 'listed_count': 0, 'created_at': 'Tue Feb 14 23:36:34 +0000 2012', 'favourites_count': 1649, 'utc_offset': None, 'time_zone': None, 'geo_enabled': False, 'verified': False, 'statuses_count': 952, 'lang': None, 'contributors_enabled': False, 'is_translator': False, 'is_translation_enabled': False, 'profile_background_color': 'C0DEED', 'profile_background_image_url': 'http://abs.twimg.com/images/themes/theme1/bg.png', 'profile_background_image_url_https': 'https://abs.twimg.com/images/themes/theme1/bg.png', 'profile_background_tile': False, 'profile_image_url': 'http://pbs.twimg.com/profile_images/1318638587886305282/-7geqrKs_normal.jpg', 'profile_image_url_https': 'https://pbs.twimg.com/profile_images/1318638587886305282/-7geqrKs_normal.jpg', 'profile_banner_url': 'https://pbs.twimg.com/profile_banners/492645891/1603222863', 'profile_link_color': '1DA1F2', 'profile_sidebar_border_color': 'C0DEED', 'profile_sidebar_fill_color': 'DDEEF6', 'profile_text_color': '333333', 'profile_use_background_image': True, 'has_extended_profile': False, 'default_profile': True, 'default_profile_image': False, 'following': False, 'follow_request_sent': False, 'notifications': False, 'translator_type': 'none'}, id=492645891, id_str='492645891', name='Cheyanne Dakota', screen_name='CheyanneDakota1', location='USA', description='', url=None, entities={'description': {'urls': []}}, protected=False, followers_count=5, friends_count=54, listed_count=0, created_at=datetime.datetime(2012, 2, 14, 23, 36, 34), favourites_count=1649, utc_offset=None, time_zone=None, geo_enabled=False, verified=False, statuses_count=952, lang=None, contributors_enabled=False, is_translator=False, is_translation_enabled=False, profile_background_color='C0DEED', profile_background_image_url='http://abs.twimg.com/images/themes/theme1/bg.png', profile_background_image_url_https='https://abs.twimg.com/images/themes/theme1/bg.png', profile_background_tile=False, profile_image_url='http://pbs.twimg.com/profile_images/1318638587886305282/-7geqrKs_normal.jpg', profile_image_url_https='https://pbs.twimg.com/profile_images/1318638587886305282/-7geqrKs_normal.jpg', profile_banner_url='https://pbs.twimg.com/profile_banners/492645891/1603222863', profile_link_color='1DA1F2', profile_sidebar_border_color='C0DEED', profile_sidebar_fill_color='DDEEF6', profile_text_color='333333', profile_use_background_image=True, has_extended_profile=False, default_profile=True, default_profile_image=False, following=False, follow_request_sent=False, notifications=False, translator_type='none'), user=User(_api=<tweepy.api.API object at 0x7f9aa143aa58>, _json={'id': 492645891, 'id_str': '492645891', 'name': 'Cheyanne Dakota', 'screen_name': 'CheyanneDakota1', 'location': 'USA', 'description': '', 'url': None, 'entities': {'description': {'urls': []}}, 'protected': False, 'followers_count': 5, 'friends_count': 54, 'listed_count': 0, 'created_at': 'Tue Feb 14 23:36:34 +0000 2012', 'favourites_count': 1649, 'utc_offset': None, 'time_zone': None, 'geo_enabled': False, 'verified': False, 'statuses_count': 952, 'lang': None, 'contributors_enabled': False, 'is_translator': False, 'is_translation_enabled': False, 'profile_background_color': 'C0DEED', 'profile_background_image_url': 'http://abs.twimg.com/images/themes/theme1/bg.png', 'profile_background_image_url_https': 'https://abs.twimg.com/images/themes/theme1/bg.png', 'profile_background_tile': False, 'profile_image_url': 'http://pbs.twimg.com/profile_images/1318638587886305282/-7geqrKs_normal.jpg', 'profile_image_url_https': 'https://pbs.twimg.com/profile_images/1318638587886305282/-7geqrKs_normal.jpg', 'profile_banner_url': 'https://pbs.twimg.com/profile_banners/492645891/1603222863', 'profile_link_color': '1DA1F2', 'profile_sidebar_border_color': 'C0DEED', 'profile_sidebar_fill_color': 'DDEEF6', 'profile_text_color': '333333', 'profile_use_background_image': True, 'has_extended_profile': False, 'default_profile': True, 'default_profile_image': False, 'following': False, 'follow_request_sent': False, 'notifications': False, 'translator_type': 'none'}, id=492645891, id_str='492645891', name='Cheyanne Dakota', screen_name='CheyanneDakota1', location='USA', description='', url=None, entities={'description': {'urls': []}}, protected=False, followers_count=5, friends_count=54, listed_count=0, created_at=datetime.datetime(2012, 2, 14, 23, 36, 34), favourites_count=1649, utc_offset=None, time_zone=None, geo_enabled=False, verified=False, statuses_count=952, lang=None, contributors_enabled=False, is_translator=False, is_translation_enabled=False, profile_background_color='C0DEED', profile_background_image_url='http://abs.twimg.com/images/themes/theme1/bg.png', profile_background_image_url_https='https://abs.twimg.com/images/themes/theme1/bg.png', profile_background_tile=False, profile_image_url='http://pbs.twimg.com/profile_images/1318638587886305282/-7geqrKs_normal.jpg', profile_image_url_https='https://pbs.twimg.com/profile_images/1318638587886305282/-7geqrKs_normal.jpg', profile_banner_url='https://pbs.twimg.com/profile_banners/492645891/1603222863', profile_link_color='1DA1F2', profile_sidebar_border_color='C0DEED', profile_sidebar_fill_color='DDEEF6', profile_text_color='333333', profile_use_background_image=True, has_extended_profile=False, default_profile=True, default_profile_image=False, following=False, follow_request_sent=False, notifications=False, translator_type='none'), geo=None, coordinates=None, place=None, contributors=None, is_quote_status=False, retweet_count=0, favorite_count=0, favorited=False, retweeted=False, lang='en') \n",
            "\n",
            ".....................................\n",
            "\n",
            "Status(_api=<tweepy.api.API object at 0x7f9aa143aa58>, _json={'created_at': 'Sat Nov 21 13:25:24 +0000 2020', 'id': 1330140255186526220, 'id_str': '1330140255186526220', 'full_text': '@OnlyInScranton1 @JoeBiden Donald Trump invented created the corona virus. You heard it here folks.', 'truncated': False, 'display_text_range': [27, 99], 'entities': {'hashtags': [], 'symbols': [], 'user_mentions': [{'screen_name': 'OnlyInScranton1', 'name': 'OnlyInScranton', 'id': 1315659201679679488, 'id_str': '1315659201679679488', 'indices': [0, 16]}, {'screen_name': 'JoeBiden', 'name': 'Joe Biden', 'id': 939091, 'id_str': '939091', 'indices': [17, 26]}], 'urls': []}, 'metadata': {'iso_language_code': 'en', 'result_type': 'recent'}, 'source': '<a href=\"http://twitter.com/download/android\" rel=\"nofollow\">Twitter for Android</a>', 'in_reply_to_status_id': 1330111357333737472, 'in_reply_to_status_id_str': '1330111357333737472', 'in_reply_to_user_id': 1315659201679679488, 'in_reply_to_user_id_str': '1315659201679679488', 'in_reply_to_screen_name': 'OnlyInScranton1', 'user': {'id': 1174392804124037121, 'id_str': '1174392804124037121', 'name': 'LibertyLlama', 'screen_name': 'assassin_og', 'location': 'on the farm', 'description': 'Here for a good time. Not a long time.', 'url': None, 'entities': {'description': {'urls': []}}, 'protected': False, 'followers_count': 10, 'friends_count': 138, 'listed_count': 1, 'created_at': 'Wed Sep 18 18:40:46 +0000 2019', 'favourites_count': 146, 'utc_offset': None, 'time_zone': None, 'geo_enabled': False, 'verified': False, 'statuses_count': 2037, 'lang': None, 'contributors_enabled': False, 'is_translator': False, 'is_translation_enabled': False, 'profile_background_color': 'F5F8FA', 'profile_background_image_url': None, 'profile_background_image_url_https': None, 'profile_background_tile': False, 'profile_image_url': 'http://pbs.twimg.com/profile_images/1174393092763529217/qBifFYio_normal.jpg', 'profile_image_url_https': 'https://pbs.twimg.com/profile_images/1174393092763529217/qBifFYio_normal.jpg', 'profile_link_color': '1DA1F2', 'profile_sidebar_border_color': 'C0DEED', 'profile_sidebar_fill_color': 'DDEEF6', 'profile_text_color': '333333', 'profile_use_background_image': True, 'has_extended_profile': True, 'default_profile': True, 'default_profile_image': False, 'following': False, 'follow_request_sent': False, 'notifications': False, 'translator_type': 'none'}, 'geo': None, 'coordinates': None, 'place': None, 'contributors': None, 'is_quote_status': False, 'retweet_count': 0, 'favorite_count': 0, 'favorited': False, 'retweeted': False, 'lang': 'en'}, created_at=datetime.datetime(2020, 11, 21, 13, 25, 24), id=1330140255186526220, id_str='1330140255186526220', full_text='@OnlyInScranton1 @JoeBiden Donald Trump invented created the corona virus. You heard it here folks.', truncated=False, display_text_range=[27, 99], entities={'hashtags': [], 'symbols': [], 'user_mentions': [{'screen_name': 'OnlyInScranton1', 'name': 'OnlyInScranton', 'id': 1315659201679679488, 'id_str': '1315659201679679488', 'indices': [0, 16]}, {'screen_name': 'JoeBiden', 'name': 'Joe Biden', 'id': 939091, 'id_str': '939091', 'indices': [17, 26]}], 'urls': []}, metadata={'iso_language_code': 'en', 'result_type': 'recent'}, source='Twitter for Android', source_url='http://twitter.com/download/android', in_reply_to_status_id=1330111357333737472, in_reply_to_status_id_str='1330111357333737472', in_reply_to_user_id=1315659201679679488, in_reply_to_user_id_str='1315659201679679488', in_reply_to_screen_name='OnlyInScranton1', author=User(_api=<tweepy.api.API object at 0x7f9aa143aa58>, _json={'id': 1174392804124037121, 'id_str': '1174392804124037121', 'name': 'LibertyLlama', 'screen_name': 'assassin_og', 'location': 'on the farm', 'description': 'Here for a good time. Not a long time.', 'url': None, 'entities': {'description': {'urls': []}}, 'protected': False, 'followers_count': 10, 'friends_count': 138, 'listed_count': 1, 'created_at': 'Wed Sep 18 18:40:46 +0000 2019', 'favourites_count': 146, 'utc_offset': None, 'time_zone': None, 'geo_enabled': False, 'verified': False, 'statuses_count': 2037, 'lang': None, 'contributors_enabled': False, 'is_translator': False, 'is_translation_enabled': False, 'profile_background_color': 'F5F8FA', 'profile_background_image_url': None, 'profile_background_image_url_https': None, 'profile_background_tile': False, 'profile_image_url': 'http://pbs.twimg.com/profile_images/1174393092763529217/qBifFYio_normal.jpg', 'profile_image_url_https': 'https://pbs.twimg.com/profile_images/1174393092763529217/qBifFYio_normal.jpg', 'profile_link_color': '1DA1F2', 'profile_sidebar_border_color': 'C0DEED', 'profile_sidebar_fill_color': 'DDEEF6', 'profile_text_color': '333333', 'profile_use_background_image': True, 'has_extended_profile': True, 'default_profile': True, 'default_profile_image': False, 'following': False, 'follow_request_sent': False, 'notifications': False, 'translator_type': 'none'}, id=1174392804124037121, id_str='1174392804124037121', name='LibertyLlama', screen_name='assassin_og', location='on the farm', description='Here for a good time. Not a long time.', url=None, entities={'description': {'urls': []}}, protected=False, followers_count=10, friends_count=138, listed_count=1, created_at=datetime.datetime(2019, 9, 18, 18, 40, 46), favourites_count=146, utc_offset=None, time_zone=None, geo_enabled=False, verified=False, statuses_count=2037, lang=None, contributors_enabled=False, is_translator=False, is_translation_enabled=False, profile_background_color='F5F8FA', profile_background_image_url=None, profile_background_image_url_https=None, profile_background_tile=False, profile_image_url='http://pbs.twimg.com/profile_images/1174393092763529217/qBifFYio_normal.jpg', profile_image_url_https='https://pbs.twimg.com/profile_images/1174393092763529217/qBifFYio_normal.jpg', profile_link_color='1DA1F2', profile_sidebar_border_color='C0DEED', profile_sidebar_fill_color='DDEEF6', profile_text_color='333333', profile_use_background_image=True, has_extended_profile=True, default_profile=True, default_profile_image=False, following=False, follow_request_sent=False, notifications=False, translator_type='none'), user=User(_api=<tweepy.api.API object at 0x7f9aa143aa58>, _json={'id': 1174392804124037121, 'id_str': '1174392804124037121', 'name': 'LibertyLlama', 'screen_name': 'assassin_og', 'location': 'on the farm', 'description': 'Here for a good time. Not a long time.', 'url': None, 'entities': {'description': {'urls': []}}, 'protected': False, 'followers_count': 10, 'friends_count': 138, 'listed_count': 1, 'created_at': 'Wed Sep 18 18:40:46 +0000 2019', 'favourites_count': 146, 'utc_offset': None, 'time_zone': None, 'geo_enabled': False, 'verified': False, 'statuses_count': 2037, 'lang': None, 'contributors_enabled': False, 'is_translator': False, 'is_translation_enabled': False, 'profile_background_color': 'F5F8FA', 'profile_background_image_url': None, 'profile_background_image_url_https': None, 'profile_background_tile': False, 'profile_image_url': 'http://pbs.twimg.com/profile_images/1174393092763529217/qBifFYio_normal.jpg', 'profile_image_url_https': 'https://pbs.twimg.com/profile_images/1174393092763529217/qBifFYio_normal.jpg', 'profile_link_color': '1DA1F2', 'profile_sidebar_border_color': 'C0DEED', 'profile_sidebar_fill_color': 'DDEEF6', 'profile_text_color': '333333', 'profile_use_background_image': True, 'has_extended_profile': True, 'default_profile': True, 'default_profile_image': False, 'following': False, 'follow_request_sent': False, 'notifications': False, 'translator_type': 'none'}, id=1174392804124037121, id_str='1174392804124037121', name='LibertyLlama', screen_name='assassin_og', location='on the farm', description='Here for a good time. Not a long time.', url=None, entities={'description': {'urls': []}}, protected=False, followers_count=10, friends_count=138, listed_count=1, created_at=datetime.datetime(2019, 9, 18, 18, 40, 46), favourites_count=146, utc_offset=None, time_zone=None, geo_enabled=False, verified=False, statuses_count=2037, lang=None, contributors_enabled=False, is_translator=False, is_translation_enabled=False, profile_background_color='F5F8FA', profile_background_image_url=None, profile_background_image_url_https=None, profile_background_tile=False, profile_image_url='http://pbs.twimg.com/profile_images/1174393092763529217/qBifFYio_normal.jpg', profile_image_url_https='https://pbs.twimg.com/profile_images/1174393092763529217/qBifFYio_normal.jpg', profile_link_color='1DA1F2', profile_sidebar_border_color='C0DEED', profile_sidebar_fill_color='DDEEF6', profile_text_color='333333', profile_use_background_image=True, has_extended_profile=True, default_profile=True, default_profile_image=False, following=False, follow_request_sent=False, notifications=False, translator_type='none'), geo=None, coordinates=None, place=None, contributors=None, is_quote_status=False, retweet_count=0, favorite_count=0, favorited=False, retweeted=False, lang='en') \n",
            "\n",
            ".....................................\n",
            "\n",
            "Status(_api=<tweepy.api.API object at 0x7f9aa143aa58>, _json={'created_at': 'Sat Nov 21 13:25:09 +0000 2020', 'id': 1330140193152708608, 'id_str': '1330140193152708608', 'full_text': \"top communist's regime in Canada red uniform have corona virus country have spying and slavery and insulting human rights https://t.co/UkobAAoys2\", 'truncated': False, 'display_text_range': [0, 121], 'entities': {'hashtags': [], 'symbols': [], 'user_mentions': [], 'urls': [], 'media': [{'id': 1330140031789510656, 'id_str': '1330140031789510656', 'indices': [122, 145], 'media_url': 'http://pbs.twimg.com/media/EnWbT8BXMAAIvT3.jpg', 'media_url_https': 'https://pbs.twimg.com/media/EnWbT8BXMAAIvT3.jpg', 'url': 'https://t.co/UkobAAoys2', 'display_url': 'pic.twitter.com/UkobAAoys2', 'expanded_url': 'https://twitter.com/god_citizen/status/1330140193152708608/photo/1', 'type': 'photo', 'sizes': {'thumb': {'w': 150, 'h': 150, 'resize': 'crop'}, 'large': {'w': 2048, 'h': 1363, 'resize': 'fit'}, 'medium': {'w': 1200, 'h': 799, 'resize': 'fit'}, 'small': {'w': 680, 'h': 453, 'resize': 'fit'}}}]}, 'extended_entities': {'media': [{'id': 1330140031789510656, 'id_str': '1330140031789510656', 'indices': [122, 145], 'media_url': 'http://pbs.twimg.com/media/EnWbT8BXMAAIvT3.jpg', 'media_url_https': 'https://pbs.twimg.com/media/EnWbT8BXMAAIvT3.jpg', 'url': 'https://t.co/UkobAAoys2', 'display_url': 'pic.twitter.com/UkobAAoys2', 'expanded_url': 'https://twitter.com/god_citizen/status/1330140193152708608/photo/1', 'type': 'photo', 'sizes': {'thumb': {'w': 150, 'h': 150, 'resize': 'crop'}, 'large': {'w': 2048, 'h': 1363, 'resize': 'fit'}, 'medium': {'w': 1200, 'h': 799, 'resize': 'fit'}, 'small': {'w': 680, 'h': 453, 'resize': 'fit'}}}]}, 'metadata': {'iso_language_code': 'en', 'result_type': 'recent'}, 'source': '<a href=\"https://mobile.twitter.com\" rel=\"nofollow\">Twitter Web App</a>', 'in_reply_to_status_id': None, 'in_reply_to_status_id_str': None, 'in_reply_to_user_id': None, 'in_reply_to_user_id_str': None, 'in_reply_to_screen_name': None, 'user': {'id': 1232865875142688768, 'id_str': '1232865875142688768', 'name': 'Justice by God', 'screen_name': 'god_citizen', 'location': '', 'description': 'mother fu... Christianity you are going to pay for all crimes and slavery you are did toward Iranian and Arabs I promise', 'url': 'https://t.co/I2zlPHAeyz', 'entities': {'url': {'urls': [{'url': 'https://t.co/I2zlPHAeyz', 'expanded_url': 'https://hajiagha.webstarts.com/', 'display_url': 'hajiagha.webstarts.com', 'indices': [0, 23]}]}, 'description': {'urls': []}}, 'protected': False, 'followers_count': 181, 'friends_count': 2380, 'listed_count': 5, 'created_at': 'Thu Feb 27 03:12:23 +0000 2020', 'favourites_count': 34907, 'utc_offset': None, 'time_zone': None, 'geo_enabled': False, 'verified': False, 'statuses_count': 1273, 'lang': None, 'contributors_enabled': False, 'is_translator': False, 'is_translation_enabled': False, 'profile_background_color': 'F5F8FA', 'profile_background_image_url': None, 'profile_background_image_url_https': None, 'profile_background_tile': False, 'profile_image_url': 'http://pbs.twimg.com/profile_images/1320196931293900800/o0SCdiAq_normal.jpg', 'profile_image_url_https': 'https://pbs.twimg.com/profile_images/1320196931293900800/o0SCdiAq_normal.jpg', 'profile_banner_url': 'https://pbs.twimg.com/profile_banners/1232865875142688768/1605751846', 'profile_link_color': '1DA1F2', 'profile_sidebar_border_color': 'C0DEED', 'profile_sidebar_fill_color': 'DDEEF6', 'profile_text_color': '333333', 'profile_use_background_image': True, 'has_extended_profile': False, 'default_profile': True, 'default_profile_image': False, 'following': False, 'follow_request_sent': False, 'notifications': False, 'translator_type': 'none'}, 'geo': None, 'coordinates': None, 'place': None, 'contributors': None, 'is_quote_status': False, 'retweet_count': 0, 'favorite_count': 0, 'favorited': False, 'retweeted': False, 'possibly_sensitive': False, 'lang': 'en'}, created_at=datetime.datetime(2020, 11, 21, 13, 25, 9), id=1330140193152708608, id_str='1330140193152708608', full_text=\"top communist's regime in Canada red uniform have corona virus country have spying and slavery and insulting human rights https://t.co/UkobAAoys2\", truncated=False, display_text_range=[0, 121], entities={'hashtags': [], 'symbols': [], 'user_mentions': [], 'urls': [], 'media': [{'id': 1330140031789510656, 'id_str': '1330140031789510656', 'indices': [122, 145], 'media_url': 'http://pbs.twimg.com/media/EnWbT8BXMAAIvT3.jpg', 'media_url_https': 'https://pbs.twimg.com/media/EnWbT8BXMAAIvT3.jpg', 'url': 'https://t.co/UkobAAoys2', 'display_url': 'pic.twitter.com/UkobAAoys2', 'expanded_url': 'https://twitter.com/god_citizen/status/1330140193152708608/photo/1', 'type': 'photo', 'sizes': {'thumb': {'w': 150, 'h': 150, 'resize': 'crop'}, 'large': {'w': 2048, 'h': 1363, 'resize': 'fit'}, 'medium': {'w': 1200, 'h': 799, 'resize': 'fit'}, 'small': {'w': 680, 'h': 453, 'resize': 'fit'}}}]}, extended_entities={'media': [{'id': 1330140031789510656, 'id_str': '1330140031789510656', 'indices': [122, 145], 'media_url': 'http://pbs.twimg.com/media/EnWbT8BXMAAIvT3.jpg', 'media_url_https': 'https://pbs.twimg.com/media/EnWbT8BXMAAIvT3.jpg', 'url': 'https://t.co/UkobAAoys2', 'display_url': 'pic.twitter.com/UkobAAoys2', 'expanded_url': 'https://twitter.com/god_citizen/status/1330140193152708608/photo/1', 'type': 'photo', 'sizes': {'thumb': {'w': 150, 'h': 150, 'resize': 'crop'}, 'large': {'w': 2048, 'h': 1363, 'resize': 'fit'}, 'medium': {'w': 1200, 'h': 799, 'resize': 'fit'}, 'small': {'w': 680, 'h': 453, 'resize': 'fit'}}}]}, metadata={'iso_language_code': 'en', 'result_type': 'recent'}, source='Twitter Web App', source_url='https://mobile.twitter.com', in_reply_to_status_id=None, in_reply_to_status_id_str=None, in_reply_to_user_id=None, in_reply_to_user_id_str=None, in_reply_to_screen_name=None, author=User(_api=<tweepy.api.API object at 0x7f9aa143aa58>, _json={'id': 1232865875142688768, 'id_str': '1232865875142688768', 'name': 'Justice by God', 'screen_name': 'god_citizen', 'location': '', 'description': 'mother fu... Christianity you are going to pay for all crimes and slavery you are did toward Iranian and Arabs I promise', 'url': 'https://t.co/I2zlPHAeyz', 'entities': {'url': {'urls': [{'url': 'https://t.co/I2zlPHAeyz', 'expanded_url': 'https://hajiagha.webstarts.com/', 'display_url': 'hajiagha.webstarts.com', 'indices': [0, 23]}]}, 'description': {'urls': []}}, 'protected': False, 'followers_count': 181, 'friends_count': 2380, 'listed_count': 5, 'created_at': 'Thu Feb 27 03:12:23 +0000 2020', 'favourites_count': 34907, 'utc_offset': None, 'time_zone': None, 'geo_enabled': False, 'verified': False, 'statuses_count': 1273, 'lang': None, 'contributors_enabled': False, 'is_translator': False, 'is_translation_enabled': False, 'profile_background_color': 'F5F8FA', 'profile_background_image_url': None, 'profile_background_image_url_https': None, 'profile_background_tile': False, 'profile_image_url': 'http://pbs.twimg.com/profile_images/1320196931293900800/o0SCdiAq_normal.jpg', 'profile_image_url_https': 'https://pbs.twimg.com/profile_images/1320196931293900800/o0SCdiAq_normal.jpg', 'profile_banner_url': 'https://pbs.twimg.com/profile_banners/1232865875142688768/1605751846', 'profile_link_color': '1DA1F2', 'profile_sidebar_border_color': 'C0DEED', 'profile_sidebar_fill_color': 'DDEEF6', 'profile_text_color': '333333', 'profile_use_background_image': True, 'has_extended_profile': False, 'default_profile': True, 'default_profile_image': False, 'following': False, 'follow_request_sent': False, 'notifications': False, 'translator_type': 'none'}, id=1232865875142688768, id_str='1232865875142688768', name='Justice by God', screen_name='god_citizen', location='', description='mother fu... Christianity you are going to pay for all crimes and slavery you are did toward Iranian and Arabs I promise', url='https://t.co/I2zlPHAeyz', entities={'url': {'urls': [{'url': 'https://t.co/I2zlPHAeyz', 'expanded_url': 'https://hajiagha.webstarts.com/', 'display_url': 'hajiagha.webstarts.com', 'indices': [0, 23]}]}, 'description': {'urls': []}}, protected=False, followers_count=181, friends_count=2380, listed_count=5, created_at=datetime.datetime(2020, 2, 27, 3, 12, 23), favourites_count=34907, utc_offset=None, time_zone=None, geo_enabled=False, verified=False, statuses_count=1273, lang=None, contributors_enabled=False, is_translator=False, is_translation_enabled=False, profile_background_color='F5F8FA', profile_background_image_url=None, profile_background_image_url_https=None, profile_background_tile=False, profile_image_url='http://pbs.twimg.com/profile_images/1320196931293900800/o0SCdiAq_normal.jpg', profile_image_url_https='https://pbs.twimg.com/profile_images/1320196931293900800/o0SCdiAq_normal.jpg', profile_banner_url='https://pbs.twimg.com/profile_banners/1232865875142688768/1605751846', profile_link_color='1DA1F2', profile_sidebar_border_color='C0DEED', profile_sidebar_fill_color='DDEEF6', profile_text_color='333333', profile_use_background_image=True, has_extended_profile=False, default_profile=True, default_profile_image=False, following=False, follow_request_sent=False, notifications=False, translator_type='none'), user=User(_api=<tweepy.api.API object at 0x7f9aa143aa58>, _json={'id': 1232865875142688768, 'id_str': '1232865875142688768', 'name': 'Justice by God', 'screen_name': 'god_citizen', 'location': '', 'description': 'mother fu... Christianity you are going to pay for all crimes and slavery you are did toward Iranian and Arabs I promise', 'url': 'https://t.co/I2zlPHAeyz', 'entities': {'url': {'urls': [{'url': 'https://t.co/I2zlPHAeyz', 'expanded_url': 'https://hajiagha.webstarts.com/', 'display_url': 'hajiagha.webstarts.com', 'indices': [0, 23]}]}, 'description': {'urls': []}}, 'protected': False, 'followers_count': 181, 'friends_count': 2380, 'listed_count': 5, 'created_at': 'Thu Feb 27 03:12:23 +0000 2020', 'favourites_count': 34907, 'utc_offset': None, 'time_zone': None, 'geo_enabled': False, 'verified': False, 'statuses_count': 1273, 'lang': None, 'contributors_enabled': False, 'is_translator': False, 'is_translation_enabled': False, 'profile_background_color': 'F5F8FA', 'profile_background_image_url': None, 'profile_background_image_url_https': None, 'profile_background_tile': False, 'profile_image_url': 'http://pbs.twimg.com/profile_images/1320196931293900800/o0SCdiAq_normal.jpg', 'profile_image_url_https': 'https://pbs.twimg.com/profile_images/1320196931293900800/o0SCdiAq_normal.jpg', 'profile_banner_url': 'https://pbs.twimg.com/profile_banners/1232865875142688768/1605751846', 'profile_link_color': '1DA1F2', 'profile_sidebar_border_color': 'C0DEED', 'profile_sidebar_fill_color': 'DDEEF6', 'profile_text_color': '333333', 'profile_use_background_image': True, 'has_extended_profile': False, 'default_profile': True, 'default_profile_image': False, 'following': False, 'follow_request_sent': False, 'notifications': False, 'translator_type': 'none'}, id=1232865875142688768, id_str='1232865875142688768', name='Justice by God', screen_name='god_citizen', location='', description='mother fu... Christianity you are going to pay for all crimes and slavery you are did toward Iranian and Arabs I promise', url='https://t.co/I2zlPHAeyz', entities={'url': {'urls': [{'url': 'https://t.co/I2zlPHAeyz', 'expanded_url': 'https://hajiagha.webstarts.com/', 'display_url': 'hajiagha.webstarts.com', 'indices': [0, 23]}]}, 'description': {'urls': []}}, protected=False, followers_count=181, friends_count=2380, listed_count=5, created_at=datetime.datetime(2020, 2, 27, 3, 12, 23), favourites_count=34907, utc_offset=None, time_zone=None, geo_enabled=False, verified=False, statuses_count=1273, lang=None, contributors_enabled=False, is_translator=False, is_translation_enabled=False, profile_background_color='F5F8FA', profile_background_image_url=None, profile_background_image_url_https=None, profile_background_tile=False, profile_image_url='http://pbs.twimg.com/profile_images/1320196931293900800/o0SCdiAq_normal.jpg', profile_image_url_https='https://pbs.twimg.com/profile_images/1320196931293900800/o0SCdiAq_normal.jpg', profile_banner_url='https://pbs.twimg.com/profile_banners/1232865875142688768/1605751846', profile_link_color='1DA1F2', profile_sidebar_border_color='C0DEED', profile_sidebar_fill_color='DDEEF6', profile_text_color='333333', profile_use_background_image=True, has_extended_profile=False, default_profile=True, default_profile_image=False, following=False, follow_request_sent=False, notifications=False, translator_type='none'), geo=None, coordinates=None, place=None, contributors=None, is_quote_status=False, retweet_count=0, favorite_count=0, favorited=False, retweeted=False, possibly_sensitive=False, lang='en') \n",
            "\n",
            ".....................................\n",
            "\n",
            "Status(_api=<tweepy.api.API object at 0x7f9aa143aa58>, _json={'created_at': 'Sat Nov 21 13:24:36 +0000 2020', 'id': 1330140056682721286, 'id_str': '1330140056682721286', 'full_text': 'Gov Cuomo to receive Emmy from UK regarding the Corona Virus is like Micky Mouse giving a 5 year old a lollipop at Walt Disney!  The Fact is......Cuomo is responsible for the deaths of thousands Senior Citizens in his now, shit hole of a state of New York‼️', 'truncated': False, 'display_text_range': [0, 257], 'entities': {'hashtags': [], 'symbols': [], 'user_mentions': [], 'urls': []}, 'metadata': {'iso_language_code': 'en', 'result_type': 'recent'}, 'source': '<a href=\"http://twitter.com/download/iphone\" rel=\"nofollow\">Twitter for iPhone</a>', 'in_reply_to_status_id': None, 'in_reply_to_status_id_str': None, 'in_reply_to_user_id': None, 'in_reply_to_user_id_str': None, 'in_reply_to_screen_name': None, 'user': {'id': 1299124037524893698, 'id_str': '1299124037524893698', 'name': 'Jean', 'screen_name': 'Jean96128271', 'location': '', 'description': 'I’m a loyal person', 'url': None, 'entities': {'description': {'urls': []}}, 'protected': False, 'followers_count': 13, 'friends_count': 134, 'listed_count': 0, 'created_at': 'Thu Aug 27 23:18:26 +0000 2020', 'favourites_count': 793, 'utc_offset': None, 'time_zone': None, 'geo_enabled': False, 'verified': False, 'statuses_count': 243, 'lang': None, 'contributors_enabled': False, 'is_translator': False, 'is_translation_enabled': False, 'profile_background_color': 'F5F8FA', 'profile_background_image_url': None, 'profile_background_image_url_https': None, 'profile_background_tile': False, 'profile_image_url': 'http://pbs.twimg.com/profile_images/1299124389154299904/m5zj6luX_normal.jpg', 'profile_image_url_https': 'https://pbs.twimg.com/profile_images/1299124389154299904/m5zj6luX_normal.jpg', 'profile_link_color': '1DA1F2', 'profile_sidebar_border_color': 'C0DEED', 'profile_sidebar_fill_color': 'DDEEF6', 'profile_text_color': '333333', 'profile_use_background_image': True, 'has_extended_profile': True, 'default_profile': True, 'default_profile_image': False, 'following': False, 'follow_request_sent': False, 'notifications': False, 'translator_type': 'none'}, 'geo': None, 'coordinates': None, 'place': None, 'contributors': None, 'is_quote_status': False, 'retweet_count': 0, 'favorite_count': 0, 'favorited': False, 'retweeted': False, 'lang': 'en'}, created_at=datetime.datetime(2020, 11, 21, 13, 24, 36), id=1330140056682721286, id_str='1330140056682721286', full_text='Gov Cuomo to receive Emmy from UK regarding the Corona Virus is like Micky Mouse giving a 5 year old a lollipop at Walt Disney!  The Fact is......Cuomo is responsible for the deaths of thousands Senior Citizens in his now, shit hole of a state of New York‼️', truncated=False, display_text_range=[0, 257], entities={'hashtags': [], 'symbols': [], 'user_mentions': [], 'urls': []}, metadata={'iso_language_code': 'en', 'result_type': 'recent'}, source='Twitter for iPhone', source_url='http://twitter.com/download/iphone', in_reply_to_status_id=None, in_reply_to_status_id_str=None, in_reply_to_user_id=None, in_reply_to_user_id_str=None, in_reply_to_screen_name=None, author=User(_api=<tweepy.api.API object at 0x7f9aa143aa58>, _json={'id': 1299124037524893698, 'id_str': '1299124037524893698', 'name': 'Jean', 'screen_name': 'Jean96128271', 'location': '', 'description': 'I’m a loyal person', 'url': None, 'entities': {'description': {'urls': []}}, 'protected': False, 'followers_count': 13, 'friends_count': 134, 'listed_count': 0, 'created_at': 'Thu Aug 27 23:18:26 +0000 2020', 'favourites_count': 793, 'utc_offset': None, 'time_zone': None, 'geo_enabled': False, 'verified': False, 'statuses_count': 243, 'lang': None, 'contributors_enabled': False, 'is_translator': False, 'is_translation_enabled': False, 'profile_background_color': 'F5F8FA', 'profile_background_image_url': None, 'profile_background_image_url_https': None, 'profile_background_tile': False, 'profile_image_url': 'http://pbs.twimg.com/profile_images/1299124389154299904/m5zj6luX_normal.jpg', 'profile_image_url_https': 'https://pbs.twimg.com/profile_images/1299124389154299904/m5zj6luX_normal.jpg', 'profile_link_color': '1DA1F2', 'profile_sidebar_border_color': 'C0DEED', 'profile_sidebar_fill_color': 'DDEEF6', 'profile_text_color': '333333', 'profile_use_background_image': True, 'has_extended_profile': True, 'default_profile': True, 'default_profile_image': False, 'following': False, 'follow_request_sent': False, 'notifications': False, 'translator_type': 'none'}, id=1299124037524893698, id_str='1299124037524893698', name='Jean', screen_name='Jean96128271', location='', description='I’m a loyal person', url=None, entities={'description': {'urls': []}}, protected=False, followers_count=13, friends_count=134, listed_count=0, created_at=datetime.datetime(2020, 8, 27, 23, 18, 26), favourites_count=793, utc_offset=None, time_zone=None, geo_enabled=False, verified=False, statuses_count=243, lang=None, contributors_enabled=False, is_translator=False, is_translation_enabled=False, profile_background_color='F5F8FA', profile_background_image_url=None, profile_background_image_url_https=None, profile_background_tile=False, profile_image_url='http://pbs.twimg.com/profile_images/1299124389154299904/m5zj6luX_normal.jpg', profile_image_url_https='https://pbs.twimg.com/profile_images/1299124389154299904/m5zj6luX_normal.jpg', profile_link_color='1DA1F2', profile_sidebar_border_color='C0DEED', profile_sidebar_fill_color='DDEEF6', profile_text_color='333333', profile_use_background_image=True, has_extended_profile=True, default_profile=True, default_profile_image=False, following=False, follow_request_sent=False, notifications=False, translator_type='none'), user=User(_api=<tweepy.api.API object at 0x7f9aa143aa58>, _json={'id': 1299124037524893698, 'id_str': '1299124037524893698', 'name': 'Jean', 'screen_name': 'Jean96128271', 'location': '', 'description': 'I’m a loyal person', 'url': None, 'entities': {'description': {'urls': []}}, 'protected': False, 'followers_count': 13, 'friends_count': 134, 'listed_count': 0, 'created_at': 'Thu Aug 27 23:18:26 +0000 2020', 'favourites_count': 793, 'utc_offset': None, 'time_zone': None, 'geo_enabled': False, 'verified': False, 'statuses_count': 243, 'lang': None, 'contributors_enabled': False, 'is_translator': False, 'is_translation_enabled': False, 'profile_background_color': 'F5F8FA', 'profile_background_image_url': None, 'profile_background_image_url_https': None, 'profile_background_tile': False, 'profile_image_url': 'http://pbs.twimg.com/profile_images/1299124389154299904/m5zj6luX_normal.jpg', 'profile_image_url_https': 'https://pbs.twimg.com/profile_images/1299124389154299904/m5zj6luX_normal.jpg', 'profile_link_color': '1DA1F2', 'profile_sidebar_border_color': 'C0DEED', 'profile_sidebar_fill_color': 'DDEEF6', 'profile_text_color': '333333', 'profile_use_background_image': True, 'has_extended_profile': True, 'default_profile': True, 'default_profile_image': False, 'following': False, 'follow_request_sent': False, 'notifications': False, 'translator_type': 'none'}, id=1299124037524893698, id_str='1299124037524893698', name='Jean', screen_name='Jean96128271', location='', description='I’m a loyal person', url=None, entities={'description': {'urls': []}}, protected=False, followers_count=13, friends_count=134, listed_count=0, created_at=datetime.datetime(2020, 8, 27, 23, 18, 26), favourites_count=793, utc_offset=None, time_zone=None, geo_enabled=False, verified=False, statuses_count=243, lang=None, contributors_enabled=False, is_translator=False, is_translation_enabled=False, profile_background_color='F5F8FA', profile_background_image_url=None, profile_background_image_url_https=None, profile_background_tile=False, profile_image_url='http://pbs.twimg.com/profile_images/1299124389154299904/m5zj6luX_normal.jpg', profile_image_url_https='https://pbs.twimg.com/profile_images/1299124389154299904/m5zj6luX_normal.jpg', profile_link_color='1DA1F2', profile_sidebar_border_color='C0DEED', profile_sidebar_fill_color='DDEEF6', profile_text_color='333333', profile_use_background_image=True, has_extended_profile=True, default_profile=True, default_profile_image=False, following=False, follow_request_sent=False, notifications=False, translator_type='none'), geo=None, coordinates=None, place=None, contributors=None, is_quote_status=False, retweet_count=0, favorite_count=0, favorited=False, retweeted=False, lang='en') \n",
            "\n",
            ".....................................\n",
            "\n",
            "Status(_api=<tweepy.api.API object at 0x7f9aa143aa58>, _json={'created_at': 'Sat Nov 21 13:23:43 +0000 2020', 'id': 1330139832904019971, 'id_str': '1330139832904019971', 'full_text': \"@realDonaldTrump (Covid_19) theory\\n President Trump, I would love to tell you that the treatment for Corona      exists in a specific animal.  I developed a theory in which 22 questions explain the work of the virus.  If you don't want to study what I said.\\n I'll offer it to China or Russia.\", 'truncated': False, 'display_text_range': [17, 292], 'entities': {'hashtags': [], 'symbols': [], 'user_mentions': [{'screen_name': 'realDonaldTrump', 'name': 'Donald J. Trump', 'id': 25073877, 'id_str': '25073877', 'indices': [0, 16]}], 'urls': []}, 'metadata': {'iso_language_code': 'en', 'result_type': 'recent'}, 'source': '<a href=\"http://twitter.com/download/android\" rel=\"nofollow\">Twitter for Android</a>', 'in_reply_to_status_id': 1330139233470844928, 'in_reply_to_status_id_str': '1330139233470844928', 'in_reply_to_user_id': 25073877, 'in_reply_to_user_id_str': '25073877', 'in_reply_to_screen_name': 'realDonaldTrump', 'user': {'id': 1234969158699429890, 'id_str': '1234969158699429890', 'name': 'تَواضُع🤗', 'screen_name': 'Suleiman_keakan', 'location': '', 'description': '\\u200f\\u200f\\u200fاللهم هون ثم هون ثم ارح  نفساً لا يعلم انينها الا انت💔', 'url': None, 'entities': {'description': {'urls': []}}, 'protected': False, 'followers_count': 2, 'friends_count': 3, 'listed_count': 0, 'created_at': 'Tue Mar 03 22:29:42 +0000 2020', 'favourites_count': 20, 'utc_offset': None, 'time_zone': None, 'geo_enabled': False, 'verified': False, 'statuses_count': 29, 'lang': None, 'contributors_enabled': False, 'is_translator': False, 'is_translation_enabled': False, 'profile_background_color': 'F5F8FA', 'profile_background_image_url': None, 'profile_background_image_url_https': None, 'profile_background_tile': False, 'profile_image_url': 'http://pbs.twimg.com/profile_images/1319385068410966016/RULyXKNX_normal.jpg', 'profile_image_url_https': 'https://pbs.twimg.com/profile_images/1319385068410966016/RULyXKNX_normal.jpg', 'profile_banner_url': 'https://pbs.twimg.com/profile_banners/1234969158699429890/1603400999', 'profile_link_color': '1DA1F2', 'profile_sidebar_border_color': 'C0DEED', 'profile_sidebar_fill_color': 'DDEEF6', 'profile_text_color': '333333', 'profile_use_background_image': True, 'has_extended_profile': False, 'default_profile': True, 'default_profile_image': False, 'following': False, 'follow_request_sent': False, 'notifications': False, 'translator_type': 'none'}, 'geo': None, 'coordinates': None, 'place': None, 'contributors': None, 'is_quote_status': False, 'retweet_count': 0, 'favorite_count': 0, 'favorited': False, 'retweeted': False, 'lang': 'en'}, created_at=datetime.datetime(2020, 11, 21, 13, 23, 43), id=1330139832904019971, id_str='1330139832904019971', full_text=\"@realDonaldTrump (Covid_19) theory\\n President Trump, I would love to tell you that the treatment for Corona      exists in a specific animal.  I developed a theory in which 22 questions explain the work of the virus.  If you don't want to study what I said.\\n I'll offer it to China or Russia.\", truncated=False, display_text_range=[17, 292], entities={'hashtags': [], 'symbols': [], 'user_mentions': [{'screen_name': 'realDonaldTrump', 'name': 'Donald J. Trump', 'id': 25073877, 'id_str': '25073877', 'indices': [0, 16]}], 'urls': []}, metadata={'iso_language_code': 'en', 'result_type': 'recent'}, source='Twitter for Android', source_url='http://twitter.com/download/android', in_reply_to_status_id=1330139233470844928, in_reply_to_status_id_str='1330139233470844928', in_reply_to_user_id=25073877, in_reply_to_user_id_str='25073877', in_reply_to_screen_name='realDonaldTrump', author=User(_api=<tweepy.api.API object at 0x7f9aa143aa58>, _json={'id': 1234969158699429890, 'id_str': '1234969158699429890', 'name': 'تَواضُع🤗', 'screen_name': 'Suleiman_keakan', 'location': '', 'description': '\\u200f\\u200f\\u200fاللهم هون ثم هون ثم ارح  نفساً لا يعلم انينها الا انت💔', 'url': None, 'entities': {'description': {'urls': []}}, 'protected': False, 'followers_count': 2, 'friends_count': 3, 'listed_count': 0, 'created_at': 'Tue Mar 03 22:29:42 +0000 2020', 'favourites_count': 20, 'utc_offset': None, 'time_zone': None, 'geo_enabled': False, 'verified': False, 'statuses_count': 29, 'lang': None, 'contributors_enabled': False, 'is_translator': False, 'is_translation_enabled': False, 'profile_background_color': 'F5F8FA', 'profile_background_image_url': None, 'profile_background_image_url_https': None, 'profile_background_tile': False, 'profile_image_url': 'http://pbs.twimg.com/profile_images/1319385068410966016/RULyXKNX_normal.jpg', 'profile_image_url_https': 'https://pbs.twimg.com/profile_images/1319385068410966016/RULyXKNX_normal.jpg', 'profile_banner_url': 'https://pbs.twimg.com/profile_banners/1234969158699429890/1603400999', 'profile_link_color': '1DA1F2', 'profile_sidebar_border_color': 'C0DEED', 'profile_sidebar_fill_color': 'DDEEF6', 'profile_text_color': '333333', 'profile_use_background_image': True, 'has_extended_profile': False, 'default_profile': True, 'default_profile_image': False, 'following': False, 'follow_request_sent': False, 'notifications': False, 'translator_type': 'none'}, id=1234969158699429890, id_str='1234969158699429890', name='تَواضُع🤗', screen_name='Suleiman_keakan', location='', description='\\u200f\\u200f\\u200fاللهم هون ثم هون ثم ارح  نفساً لا يعلم انينها الا انت💔', url=None, entities={'description': {'urls': []}}, protected=False, followers_count=2, friends_count=3, listed_count=0, created_at=datetime.datetime(2020, 3, 3, 22, 29, 42), favourites_count=20, utc_offset=None, time_zone=None, geo_enabled=False, verified=False, statuses_count=29, lang=None, contributors_enabled=False, is_translator=False, is_translation_enabled=False, profile_background_color='F5F8FA', profile_background_image_url=None, profile_background_image_url_https=None, profile_background_tile=False, profile_image_url='http://pbs.twimg.com/profile_images/1319385068410966016/RULyXKNX_normal.jpg', profile_image_url_https='https://pbs.twimg.com/profile_images/1319385068410966016/RULyXKNX_normal.jpg', profile_banner_url='https://pbs.twimg.com/profile_banners/1234969158699429890/1603400999', profile_link_color='1DA1F2', profile_sidebar_border_color='C0DEED', profile_sidebar_fill_color='DDEEF6', profile_text_color='333333', profile_use_background_image=True, has_extended_profile=False, default_profile=True, default_profile_image=False, following=False, follow_request_sent=False, notifications=False, translator_type='none'), user=User(_api=<tweepy.api.API object at 0x7f9aa143aa58>, _json={'id': 1234969158699429890, 'id_str': '1234969158699429890', 'name': 'تَواضُع🤗', 'screen_name': 'Suleiman_keakan', 'location': '', 'description': '\\u200f\\u200f\\u200fاللهم هون ثم هون ثم ارح  نفساً لا يعلم انينها الا انت💔', 'url': None, 'entities': {'description': {'urls': []}}, 'protected': False, 'followers_count': 2, 'friends_count': 3, 'listed_count': 0, 'created_at': 'Tue Mar 03 22:29:42 +0000 2020', 'favourites_count': 20, 'utc_offset': None, 'time_zone': None, 'geo_enabled': False, 'verified': False, 'statuses_count': 29, 'lang': None, 'contributors_enabled': False, 'is_translator': False, 'is_translation_enabled': False, 'profile_background_color': 'F5F8FA', 'profile_background_image_url': None, 'profile_background_image_url_https': None, 'profile_background_tile': False, 'profile_image_url': 'http://pbs.twimg.com/profile_images/1319385068410966016/RULyXKNX_normal.jpg', 'profile_image_url_https': 'https://pbs.twimg.com/profile_images/1319385068410966016/RULyXKNX_normal.jpg', 'profile_banner_url': 'https://pbs.twimg.com/profile_banners/1234969158699429890/1603400999', 'profile_link_color': '1DA1F2', 'profile_sidebar_border_color': 'C0DEED', 'profile_sidebar_fill_color': 'DDEEF6', 'profile_text_color': '333333', 'profile_use_background_image': True, 'has_extended_profile': False, 'default_profile': True, 'default_profile_image': False, 'following': False, 'follow_request_sent': False, 'notifications': False, 'translator_type': 'none'}, id=1234969158699429890, id_str='1234969158699429890', name='تَواضُع🤗', screen_name='Suleiman_keakan', location='', description='\\u200f\\u200f\\u200fاللهم هون ثم هون ثم ارح  نفساً لا يعلم انينها الا انت💔', url=None, entities={'description': {'urls': []}}, protected=False, followers_count=2, friends_count=3, listed_count=0, created_at=datetime.datetime(2020, 3, 3, 22, 29, 42), favourites_count=20, utc_offset=None, time_zone=None, geo_enabled=False, verified=False, statuses_count=29, lang=None, contributors_enabled=False, is_translator=False, is_translation_enabled=False, profile_background_color='F5F8FA', profile_background_image_url=None, profile_background_image_url_https=None, profile_background_tile=False, profile_image_url='http://pbs.twimg.com/profile_images/1319385068410966016/RULyXKNX_normal.jpg', profile_image_url_https='https://pbs.twimg.com/profile_images/1319385068410966016/RULyXKNX_normal.jpg', profile_banner_url='https://pbs.twimg.com/profile_banners/1234969158699429890/1603400999', profile_link_color='1DA1F2', profile_sidebar_border_color='C0DEED', profile_sidebar_fill_color='DDEEF6', profile_text_color='333333', profile_use_background_image=True, has_extended_profile=False, default_profile=True, default_profile_image=False, following=False, follow_request_sent=False, notifications=False, translator_type='none'), geo=None, coordinates=None, place=None, contributors=None, is_quote_status=False, retweet_count=0, favorite_count=0, favorited=False, retweeted=False, lang='en') \n",
            "\n",
            ".....................................\n",
            "\n"
          ],
          "name": "stdout"
        }
      ]
    },
    {
      "cell_type": "markdown",
      "metadata": {
        "id": "weDCDbwaXZlr"
      },
      "source": [
        "Get the tweets and some Attributes"
      ]
    },
    {
      "cell_type": "code",
      "metadata": {
        "id": "Lv39AJOWXZlr",
        "outputId": "63dbc543-6f53-4dbf-8ccf-5bd9dd3475df",
        "colab": {
          "base_uri": "https://localhost:8080/"
        }
      },
      "source": [
        "df = pd.DataFrame(columns = ['Tweets' , 'User' , 'User_statuses_count' , \n",
        "                            'user_followers' , 'User_location' , 'User_verified' ,\n",
        "                            'fav_count' , 'rt_count' , 'tweet_date'] )\n",
        "print(df)\n",
        "# print(df.shape)"
      ],
      "execution_count": 8,
      "outputs": [
        {
          "output_type": "stream",
          "text": [
            "Empty DataFrame\n",
            "Columns: [Tweets, User, User_statuses_count, user_followers, User_location, User_verified, fav_count, rt_count, tweet_date]\n",
            "Index: []\n"
          ],
          "name": "stdout"
        }
      ]
    },
    {
      "cell_type": "code",
      "metadata": {
        "id": "LgPVZGebXZlr"
      },
      "source": [
        "def stream(data, file_name):\n",
        "    i = 0\n",
        "    for tweet in tweepy.Cursor(api.search, q=data, count=100, lang='en').items():\n",
        "        print(i, end='\\r')\n",
        "        df.loc[i, 'Tweets'] = tweet.text\n",
        "        df.loc[i, 'User'] = tweet.user.name\n",
        "        df.loc[i, 'User_statuses_count'] = tweet.user.statuses_count\n",
        "        df.loc[i, 'user_followers'] = tweet.user.followers_count\n",
        "        df.loc[i, 'User_location'] = tweet.user.location\n",
        "        df.loc[i, 'User_verified'] = tweet.user.verified\n",
        "        df.loc[i, 'fav_count'] = tweet.favorite_count\n",
        "        df.loc[i, 'rt_count'] = tweet.retweet_count\n",
        "        df.loc[i, 'tweet_date'] = tweet.created_at\n",
        "        df.to_excel('{}.xlsx'.format(file_name))\n",
        "        i = i+1\n",
        "        if i == 1000:\n",
        "            break\n",
        "        else:\n",
        "            pass"
      ],
      "execution_count": 9,
      "outputs": []
    },
    {
      "cell_type": "code",
      "metadata": {
        "id": "oFlj4fOIXZlr",
        "outputId": "74c2bc66-cc84-4fbd-f0ba-5502468f13fd",
        "colab": {
          "base_uri": "https://localhost:8080/"
        }
      },
      "source": [
        "stream(data=[\"corona virus\"] , file_name='my_tweets')"
      ],
      "execution_count": 10,
      "outputs": [
        {
          "output_type": "stream",
          "text": [
            ""
          ],
          "name": "stdout"
        }
      ]
    },
    {
      "cell_type": "code",
      "metadata": {
        "id": "NyJPpPUVXZlr",
        "outputId": "cb4b4467-6293-4286-fce0-dba783ce19ac",
        "colab": {
          "base_uri": "https://localhost:8080/",
          "height": 289
        }
      },
      "source": [
        "df.head()"
      ],
      "execution_count": 11,
      "outputs": [
        {
          "output_type": "execute_result",
          "data": {
            "text/html": [
              "<div>\n",
              "<style scoped>\n",
              "    .dataframe tbody tr th:only-of-type {\n",
              "        vertical-align: middle;\n",
              "    }\n",
              "\n",
              "    .dataframe tbody tr th {\n",
              "        vertical-align: top;\n",
              "    }\n",
              "\n",
              "    .dataframe thead th {\n",
              "        text-align: right;\n",
              "    }\n",
              "</style>\n",
              "<table border=\"1\" class=\"dataframe\">\n",
              "  <thead>\n",
              "    <tr style=\"text-align: right;\">\n",
              "      <th></th>\n",
              "      <th>Tweets</th>\n",
              "      <th>User</th>\n",
              "      <th>User_statuses_count</th>\n",
              "      <th>user_followers</th>\n",
              "      <th>User_location</th>\n",
              "      <th>User_verified</th>\n",
              "      <th>fav_count</th>\n",
              "      <th>rt_count</th>\n",
              "      <th>tweet_date</th>\n",
              "    </tr>\n",
              "  </thead>\n",
              "  <tbody>\n",
              "    <tr>\n",
              "      <th>0</th>\n",
              "      <td>RT @Bisma_PAK: #سیاست_نہیں_جان_بچاؤ\\nIn second...</td>\n",
              "      <td>Kashif Mughal</td>\n",
              "      <td>997</td>\n",
              "      <td>54</td>\n",
              "      <td>Gaia</td>\n",
              "      <td>False</td>\n",
              "      <td>0</td>\n",
              "      <td>243</td>\n",
              "      <td>2020-11-21 13:26:40</td>\n",
              "    </tr>\n",
              "    <tr>\n",
              "      <th>1</th>\n",
              "      <td>RT @JibbyD: You know... if you are posting abo...</td>\n",
              "      <td>IDK ¯\\_(ツ)_/¯</td>\n",
              "      <td>94179</td>\n",
              "      <td>562</td>\n",
              "      <td>Lahore | Dubai</td>\n",
              "      <td>False</td>\n",
              "      <td>0</td>\n",
              "      <td>11</td>\n",
              "      <td>2020-11-21 13:26:40</td>\n",
              "    </tr>\n",
              "    <tr>\n",
              "      <th>2</th>\n",
              "      <td>RT @BarbaraSutton15: Donald Trump Jr tests pos...</td>\n",
              "      <td>John Clarke</td>\n",
              "      <td>82824</td>\n",
              "      <td>9248</td>\n",
              "      <td>Toronto</td>\n",
              "      <td>False</td>\n",
              "      <td>0</td>\n",
              "      <td>3</td>\n",
              "      <td>2020-11-21 13:26:38</td>\n",
              "    </tr>\n",
              "    <tr>\n",
              "      <th>3</th>\n",
              "      <td>@DrMuradPTI Student life matter close the scho...</td>\n",
              "      <td>Salih Azam</td>\n",
              "      <td>2</td>\n",
              "      <td>0</td>\n",
              "      <td></td>\n",
              "      <td>False</td>\n",
              "      <td>0</td>\n",
              "      <td>0</td>\n",
              "      <td>2020-11-21 13:26:37</td>\n",
              "    </tr>\n",
              "    <tr>\n",
              "      <th>4</th>\n",
              "      <td>RT @ShanzayAhmd: #سیاست_نہیں_جان_بچاؤ\\nPDM and...</td>\n",
              "      <td>🤺Awais🤺</td>\n",
              "      <td>37998</td>\n",
              "      <td>1543</td>\n",
              "      <td>Islamabad</td>\n",
              "      <td>False</td>\n",
              "      <td>0</td>\n",
              "      <td>17</td>\n",
              "      <td>2020-11-21 13:26:32</td>\n",
              "    </tr>\n",
              "  </tbody>\n",
              "</table>\n",
              "</div>"
            ],
            "text/plain": [
              "                                              Tweets  ...           tweet_date\n",
              "0  RT @Bisma_PAK: #سیاست_نہیں_جان_بچاؤ\\nIn second...  ...  2020-11-21 13:26:40\n",
              "1  RT @JibbyD: You know... if you are posting abo...  ...  2020-11-21 13:26:40\n",
              "2  RT @BarbaraSutton15: Donald Trump Jr tests pos...  ...  2020-11-21 13:26:38\n",
              "3  @DrMuradPTI Student life matter close the scho...  ...  2020-11-21 13:26:37\n",
              "4  RT @ShanzayAhmd: #سیاست_نہیں_جان_بچاؤ\\nPDM and...  ...  2020-11-21 13:26:32\n",
              "\n",
              "[5 rows x 9 columns]"
            ]
          },
          "metadata": {
            "tags": []
          },
          "execution_count": 11
        }
      ]
    },
    {
      "cell_type": "code",
      "metadata": {
        "id": "SJgbwQO69KmW",
        "outputId": "21ae35e2-ed11-4739-a0e6-ac4e380b0c01",
        "colab": {
          "base_uri": "https://localhost:8080/"
        }
      },
      "source": [
        "!pip install textblob"
      ],
      "execution_count": 12,
      "outputs": [
        {
          "output_type": "stream",
          "text": [
            "Requirement already satisfied: textblob in /usr/local/lib/python3.6/dist-packages (0.15.3)\n",
            "Requirement already satisfied: nltk>=3.1 in /usr/local/lib/python3.6/dist-packages (from textblob) (3.2.5)\n",
            "Requirement already satisfied: six in /usr/local/lib/python3.6/dist-packages (from nltk>=3.1->textblob) (1.15.0)\n"
          ],
          "name": "stdout"
        }
      ]
    },
    {
      "cell_type": "code",
      "metadata": {
        "id": "k5B7H03DXZlr"
      },
      "source": [
        "from textblob import TextBlob"
      ],
      "execution_count": 13,
      "outputs": []
    },
    {
      "cell_type": "code",
      "metadata": {
        "id": "DWM70ClgXZlr"
      },
      "source": [
        "import re\n",
        "def clean_tweet(tweet):\n",
        "    return ' '.join(re.sub('(@[A-Za-z0-9]+)|([^0-9A-Za-z \\t])|(\\w+:\\/\\/\\S+)', ' ', tweet).split())"
      ],
      "execution_count": 14,
      "outputs": []
    },
    {
      "cell_type": "code",
      "metadata": {
        "id": "Yz1ZsANxXZlr"
      },
      "source": [
        "def analyze_sentiment(tweet):\n",
        "    analysis = TextBlob(tweet)\n",
        "    if analysis.sentiment.polarity > 0:\n",
        "        return 'Positive'\n",
        "    elif analysis.sentiment.polarity == 0:\n",
        "        return 'Neutral'\n",
        "    else:\n",
        "        return 'Negative'"
      ],
      "execution_count": 15,
      "outputs": []
    },
    {
      "cell_type": "code",
      "metadata": {
        "id": "FsO00t2lXZlr"
      },
      "source": [
        "df['clean_tweet'] = df['Tweets'].apply(lambda x : clean_tweet(x))"
      ],
      "execution_count": 16,
      "outputs": []
    },
    {
      "cell_type": "code",
      "metadata": {
        "id": "JvocplpPXZlr",
        "outputId": "2a90d767-166e-46d4-a80d-602a04d9f179",
        "colab": {
          "base_uri": "https://localhost:8080/",
          "height": 459
        }
      },
      "source": [
        "df.head()"
      ],
      "execution_count": 17,
      "outputs": [
        {
          "output_type": "execute_result",
          "data": {
            "text/html": [
              "<div>\n",
              "<style scoped>\n",
              "    .dataframe tbody tr th:only-of-type {\n",
              "        vertical-align: middle;\n",
              "    }\n",
              "\n",
              "    .dataframe tbody tr th {\n",
              "        vertical-align: top;\n",
              "    }\n",
              "\n",
              "    .dataframe thead th {\n",
              "        text-align: right;\n",
              "    }\n",
              "</style>\n",
              "<table border=\"1\" class=\"dataframe\">\n",
              "  <thead>\n",
              "    <tr style=\"text-align: right;\">\n",
              "      <th></th>\n",
              "      <th>Tweets</th>\n",
              "      <th>User</th>\n",
              "      <th>User_statuses_count</th>\n",
              "      <th>user_followers</th>\n",
              "      <th>User_location</th>\n",
              "      <th>User_verified</th>\n",
              "      <th>fav_count</th>\n",
              "      <th>rt_count</th>\n",
              "      <th>tweet_date</th>\n",
              "      <th>clean_tweet</th>\n",
              "    </tr>\n",
              "  </thead>\n",
              "  <tbody>\n",
              "    <tr>\n",
              "      <th>0</th>\n",
              "      <td>RT @Bisma_PAK: #سیاست_نہیں_جان_بچاؤ\\nIn second...</td>\n",
              "      <td>Kashif Mughal</td>\n",
              "      <td>997</td>\n",
              "      <td>54</td>\n",
              "      <td>Gaia</td>\n",
              "      <td>False</td>\n",
              "      <td>0</td>\n",
              "      <td>243</td>\n",
              "      <td>2020-11-21 13:26:40</td>\n",
              "      <td>RT PAK In second wave of corona virus more cau...</td>\n",
              "    </tr>\n",
              "    <tr>\n",
              "      <th>1</th>\n",
              "      <td>RT @JibbyD: You know... if you are posting abo...</td>\n",
              "      <td>IDK ¯\\_(ツ)_/¯</td>\n",
              "      <td>94179</td>\n",
              "      <td>562</td>\n",
              "      <td>Lahore | Dubai</td>\n",
              "      <td>False</td>\n",
              "      <td>0</td>\n",
              "      <td>11</td>\n",
              "      <td>2020-11-21 13:26:40</td>\n",
              "      <td>RT You know if you are posting about how conce...</td>\n",
              "    </tr>\n",
              "    <tr>\n",
              "      <th>2</th>\n",
              "      <td>RT @BarbaraSutton15: Donald Trump Jr tests pos...</td>\n",
              "      <td>John Clarke</td>\n",
              "      <td>82824</td>\n",
              "      <td>9248</td>\n",
              "      <td>Toronto</td>\n",
              "      <td>False</td>\n",
              "      <td>0</td>\n",
              "      <td>3</td>\n",
              "      <td>2020-11-21 13:26:38</td>\n",
              "      <td>RT Donald Trump Jr tests positive for Corona V...</td>\n",
              "    </tr>\n",
              "    <tr>\n",
              "      <th>3</th>\n",
              "      <td>@DrMuradPTI Student life matter close the scho...</td>\n",
              "      <td>Salih Azam</td>\n",
              "      <td>2</td>\n",
              "      <td>0</td>\n",
              "      <td></td>\n",
              "      <td>False</td>\n",
              "      <td>0</td>\n",
              "      <td>0</td>\n",
              "      <td>2020-11-21 13:26:37</td>\n",
              "      <td>Student life matter close the school because i...</td>\n",
              "    </tr>\n",
              "    <tr>\n",
              "      <th>4</th>\n",
              "      <td>RT @ShanzayAhmd: #سیاست_نہیں_جان_بچاؤ\\nPDM and...</td>\n",
              "      <td>🤺Awais🤺</td>\n",
              "      <td>37998</td>\n",
              "      <td>1543</td>\n",
              "      <td>Islamabad</td>\n",
              "      <td>False</td>\n",
              "      <td>0</td>\n",
              "      <td>17</td>\n",
              "      <td>2020-11-21 13:26:32</td>\n",
              "      <td>RT PDM and Corona Virus Agree to Work Together...</td>\n",
              "    </tr>\n",
              "  </tbody>\n",
              "</table>\n",
              "</div>"
            ],
            "text/plain": [
              "                                              Tweets  ...                                        clean_tweet\n",
              "0  RT @Bisma_PAK: #سیاست_نہیں_جان_بچاؤ\\nIn second...  ...  RT PAK In second wave of corona virus more cau...\n",
              "1  RT @JibbyD: You know... if you are posting abo...  ...  RT You know if you are posting about how conce...\n",
              "2  RT @BarbaraSutton15: Donald Trump Jr tests pos...  ...  RT Donald Trump Jr tests positive for Corona V...\n",
              "3  @DrMuradPTI Student life matter close the scho...  ...  Student life matter close the school because i...\n",
              "4  RT @ShanzayAhmd: #سیاست_نہیں_جان_بچاؤ\\nPDM and...  ...  RT PDM and Corona Virus Agree to Work Together...\n",
              "\n",
              "[5 rows x 10 columns]"
            ]
          },
          "metadata": {
            "tags": []
          },
          "execution_count": 17
        }
      ]
    },
    {
      "cell_type": "code",
      "metadata": {
        "id": "crm6JwWTXZls",
        "outputId": "5750b310-ea39-4c64-b62d-73936a0ee90d",
        "colab": {
          "base_uri": "https://localhost:8080/",
          "height": 510
        }
      },
      "source": [
        "df['Sentiment'] = df['clean_tweet'].apply(lambda x : analyze_sentiment(x) )\n",
        "df.head()"
      ],
      "execution_count": 18,
      "outputs": [
        {
          "output_type": "execute_result",
          "data": {
            "text/html": [
              "<div>\n",
              "<style scoped>\n",
              "    .dataframe tbody tr th:only-of-type {\n",
              "        vertical-align: middle;\n",
              "    }\n",
              "\n",
              "    .dataframe tbody tr th {\n",
              "        vertical-align: top;\n",
              "    }\n",
              "\n",
              "    .dataframe thead th {\n",
              "        text-align: right;\n",
              "    }\n",
              "</style>\n",
              "<table border=\"1\" class=\"dataframe\">\n",
              "  <thead>\n",
              "    <tr style=\"text-align: right;\">\n",
              "      <th></th>\n",
              "      <th>Tweets</th>\n",
              "      <th>User</th>\n",
              "      <th>User_statuses_count</th>\n",
              "      <th>user_followers</th>\n",
              "      <th>User_location</th>\n",
              "      <th>User_verified</th>\n",
              "      <th>fav_count</th>\n",
              "      <th>rt_count</th>\n",
              "      <th>tweet_date</th>\n",
              "      <th>clean_tweet</th>\n",
              "      <th>Sentiment</th>\n",
              "    </tr>\n",
              "  </thead>\n",
              "  <tbody>\n",
              "    <tr>\n",
              "      <th>0</th>\n",
              "      <td>RT @Bisma_PAK: #سیاست_نہیں_جان_بچاؤ\\nIn second...</td>\n",
              "      <td>Kashif Mughal</td>\n",
              "      <td>997</td>\n",
              "      <td>54</td>\n",
              "      <td>Gaia</td>\n",
              "      <td>False</td>\n",
              "      <td>0</td>\n",
              "      <td>243</td>\n",
              "      <td>2020-11-21 13:26:40</td>\n",
              "      <td>RT PAK In second wave of corona virus more cau...</td>\n",
              "      <td>Positive</td>\n",
              "    </tr>\n",
              "    <tr>\n",
              "      <th>1</th>\n",
              "      <td>RT @JibbyD: You know... if you are posting abo...</td>\n",
              "      <td>IDK ¯\\_(ツ)_/¯</td>\n",
              "      <td>94179</td>\n",
              "      <td>562</td>\n",
              "      <td>Lahore | Dubai</td>\n",
              "      <td>False</td>\n",
              "      <td>0</td>\n",
              "      <td>11</td>\n",
              "      <td>2020-11-21 13:26:40</td>\n",
              "      <td>RT You know if you are posting about how conce...</td>\n",
              "      <td>Positive</td>\n",
              "    </tr>\n",
              "    <tr>\n",
              "      <th>2</th>\n",
              "      <td>RT @BarbaraSutton15: Donald Trump Jr tests pos...</td>\n",
              "      <td>John Clarke</td>\n",
              "      <td>82824</td>\n",
              "      <td>9248</td>\n",
              "      <td>Toronto</td>\n",
              "      <td>False</td>\n",
              "      <td>0</td>\n",
              "      <td>3</td>\n",
              "      <td>2020-11-21 13:26:38</td>\n",
              "      <td>RT Donald Trump Jr tests positive for Corona V...</td>\n",
              "      <td>Positive</td>\n",
              "    </tr>\n",
              "    <tr>\n",
              "      <th>3</th>\n",
              "      <td>@DrMuradPTI Student life matter close the scho...</td>\n",
              "      <td>Salih Azam</td>\n",
              "      <td>2</td>\n",
              "      <td>0</td>\n",
              "      <td></td>\n",
              "      <td>False</td>\n",
              "      <td>0</td>\n",
              "      <td>0</td>\n",
              "      <td>2020-11-21 13:26:37</td>\n",
              "      <td>Student life matter close the school because i...</td>\n",
              "      <td>Neutral</td>\n",
              "    </tr>\n",
              "    <tr>\n",
              "      <th>4</th>\n",
              "      <td>RT @ShanzayAhmd: #سیاست_نہیں_جان_بچاؤ\\nPDM and...</td>\n",
              "      <td>🤺Awais🤺</td>\n",
              "      <td>37998</td>\n",
              "      <td>1543</td>\n",
              "      <td>Islamabad</td>\n",
              "      <td>False</td>\n",
              "      <td>0</td>\n",
              "      <td>17</td>\n",
              "      <td>2020-11-21 13:26:32</td>\n",
              "      <td>RT PDM and Corona Virus Agree to Work Together...</td>\n",
              "      <td>Neutral</td>\n",
              "    </tr>\n",
              "  </tbody>\n",
              "</table>\n",
              "</div>"
            ],
            "text/plain": [
              "                                              Tweets  ... Sentiment\n",
              "0  RT @Bisma_PAK: #سیاست_نہیں_جان_بچاؤ\\nIn second...  ...  Positive\n",
              "1  RT @JibbyD: You know... if you are posting abo...  ...  Positive\n",
              "2  RT @BarbaraSutton15: Donald Trump Jr tests pos...  ...  Positive\n",
              "3  @DrMuradPTI Student life matter close the scho...  ...   Neutral\n",
              "4  RT @ShanzayAhmd: #سیاست_نہیں_جان_بچاؤ\\nPDM and...  ...   Neutral\n",
              "\n",
              "[5 rows x 11 columns]"
            ]
          },
          "metadata": {
            "tags": []
          },
          "execution_count": 18
        }
      ]
    },
    {
      "cell_type": "code",
      "metadata": {
        "id": "BFrqs78wXZls",
        "outputId": "b35dbe6e-5abb-432c-b700-8c3daddd1e3b",
        "colab": {
          "base_uri": "https://localhost:8080/"
        }
      },
      "source": [
        "n = 1\n",
        "print(\"Original tweet:\\n\",df['Tweets'][n])\n",
        "print()\n",
        "print(\"Clean tweet:\\n\",df['clean_tweet'][n])\n",
        "print()\n",
        "print(\"Sentiment of the tweet:\\n\",df['Sentiment'][n])"
      ],
      "execution_count": 19,
      "outputs": [
        {
          "output_type": "stream",
          "text": [
            "Original tweet:\n",
            " RT @JibbyD: You know... if you are posting about how concerned you are about Khadim Rizvi’s funeral being a super spreader, but are complet…\n",
            "\n",
            "Clean tweet:\n",
            " RT You know if you are posting about how concerned you are about Khadim Rizvi s funeral being a super spreader but are complet\n",
            "\n",
            "Sentiment of the tweet:\n",
            " Positive\n"
          ],
          "name": "stdout"
        }
      ]
    },
    {
      "cell_type": "code",
      "metadata": {
        "id": "0dp4e7-dXZls",
        "outputId": "623c7ffc-17ed-40be-9f23-6e22cde67f0c",
        "colab": {
          "base_uri": "https://localhost:8080/"
        }
      },
      "source": [
        "n = 20\n",
        "print(\"Original tweet:\\n\",df['Tweets'][n])\n",
        "print()\n",
        "print(\"Clean tweet:\\n\",df['clean_tweet'][n])\n",
        "print()\n",
        "print(\"Sentiment of the tweet:\\n\",df['Sentiment'][n])"
      ],
      "execution_count": 20,
      "outputs": [
        {
          "output_type": "stream",
          "text": [
            "Original tweet:\n",
            " RT @amsiiraqEn: Human Rights Commission: (12) prisoners died  inside Iraqi prisons as a result of infection with the # Corona virus, after…\n",
            "\n",
            "Clean tweet:\n",
            " RT Human Rights Commission 12 prisoners died inside Iraqi prisons as a result of infection with the Corona virus after\n",
            "\n",
            "Sentiment of the tweet:\n",
            " Neutral\n"
          ],
          "name": "stdout"
        }
      ]
    },
    {
      "cell_type": "code",
      "metadata": {
        "id": "4_hp85PSXZls",
        "outputId": "1ee7a45a-2ae3-4fa4-f06e-fc6979c6ceb9",
        "colab": {
          "base_uri": "https://localhost:8080/"
        }
      },
      "source": [
        "n = 203\n",
        "print(\"Original tweet:\\n\",df['Tweets'][n])\n",
        "print()\n",
        "print(\"Clean tweet:\\n\",df['clean_tweet'][n])\n",
        "print()\n",
        "print(\"Sentiment of the tweet:\\n\",df['Sentiment'][n])"
      ],
      "execution_count": 21,
      "outputs": [
        {
          "output_type": "stream",
          "text": [
            "Original tweet:\n",
            " And BJP is making laws on temple mosque love jihad, because #corona virus is for public, corona is a weapon for BJP… https://t.co/llA09Ag4VF\n",
            "\n",
            "Clean tweet:\n",
            " And BJP is making laws on temple mosque love jihad because corona virus is for public corona is a weapon for BJP\n",
            "\n",
            "Sentiment of the tweet:\n",
            " Positive\n"
          ],
          "name": "stdout"
        }
      ]
    },
    {
      "cell_type": "code",
      "metadata": {
        "id": "KjaejfJcXZls",
        "outputId": "e006b4de-3e2a-494d-84fb-d707384b3d71",
        "colab": {
          "base_uri": "https://localhost:8080/"
        }
      },
      "source": [
        "df[df.Sentiment == 'Positive'].shape[0]"
      ],
      "execution_count": 22,
      "outputs": [
        {
          "output_type": "execute_result",
          "data": {
            "text/plain": [
              "439"
            ]
          },
          "metadata": {
            "tags": []
          },
          "execution_count": 22
        }
      ]
    },
    {
      "cell_type": "code",
      "metadata": {
        "id": "Sy1Jk6miXZls",
        "outputId": "7c081d5c-7453-4c7f-b885-06725e0698b1",
        "colab": {
          "base_uri": "https://localhost:8080/"
        }
      },
      "source": [
        "df[df.Sentiment == 'Neutral'].shape[0]"
      ],
      "execution_count": 23,
      "outputs": [
        {
          "output_type": "execute_result",
          "data": {
            "text/plain": [
              "355"
            ]
          },
          "metadata": {
            "tags": []
          },
          "execution_count": 23
        }
      ]
    },
    {
      "cell_type": "code",
      "metadata": {
        "id": "h2Ccf4otXZls",
        "outputId": "e65a3724-44f1-4eb8-f67f-bc08c285fb3b",
        "colab": {
          "base_uri": "https://localhost:8080/"
        }
      },
      "source": [
        "df[df.Sentiment == 'Negative'].shape[0]"
      ],
      "execution_count": 24,
      "outputs": [
        {
          "output_type": "execute_result",
          "data": {
            "text/plain": [
              "206"
            ]
          },
          "metadata": {
            "tags": []
          },
          "execution_count": 24
        }
      ]
    }
  ]
}